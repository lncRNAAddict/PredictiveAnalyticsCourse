{
 "cells": [
  {
   "cell_type": "markdown",
   "id": "46ad399f",
   "metadata": {},
   "source": [
    "# How to handle class imbalance \n",
    "\n",
    "\n",
    "- This tutorial illustrates how to handle class imbalance. \n",
    "\n",
    "We will use `upsampling`, `downsampling`, and `SMOTE`.\n",
    "\n",
    "Note: There are other variations of `SMOTE` which can be found here: https://imbalanced-learn.org/stable/references/over_sampling.html\n",
    "\n",
    "Other variations of `SMOTE` will not be addressed here."
   ]
  },
  {
   "cell_type": "code",
   "execution_count": 1,
   "id": "2e9ca9b7",
   "metadata": {},
   "outputs": [],
   "source": [
    "import pandas as pd\n",
    "import numpy as np"
   ]
  },
  {
   "cell_type": "markdown",
   "id": "64a3d782",
   "metadata": {},
   "source": [
    "# Read data\n",
    "\n",
    "Diabetic Data from Prima Indian Population: original source is https://www.kaggle.com/uciml/pima-indians-diabetes-database\n",
    "\n",
    "Class label is the last column. Two classes : `0: nondiabetic, 1: diabetic`\n",
    "\n"
   ]
  },
  {
   "cell_type": "code",
   "execution_count": 101,
   "id": "a8cc5668",
   "metadata": {},
   "outputs": [
    {
     "data": {
      "text/html": [
       "<div>\n",
       "<style scoped>\n",
       "    .dataframe tbody tr th:only-of-type {\n",
       "        vertical-align: middle;\n",
       "    }\n",
       "\n",
       "    .dataframe tbody tr th {\n",
       "        vertical-align: top;\n",
       "    }\n",
       "\n",
       "    .dataframe thead th {\n",
       "        text-align: right;\n",
       "    }\n",
       "</style>\n",
       "<table border=\"1\" class=\"dataframe\">\n",
       "  <thead>\n",
       "    <tr style=\"text-align: right;\">\n",
       "      <th></th>\n",
       "      <th>Pregnancies</th>\n",
       "      <th>Glucose</th>\n",
       "      <th>BloodPressure</th>\n",
       "      <th>SkinThickness</th>\n",
       "      <th>Insulin</th>\n",
       "      <th>BMI</th>\n",
       "      <th>DiabetesPedigreeFunction</th>\n",
       "      <th>Age</th>\n",
       "      <th>Outcome</th>\n",
       "    </tr>\n",
       "  </thead>\n",
       "  <tbody>\n",
       "    <tr>\n",
       "      <th>0</th>\n",
       "      <td>0</td>\n",
       "      <td>131</td>\n",
       "      <td>66</td>\n",
       "      <td>40</td>\n",
       "      <td>0</td>\n",
       "      <td>34.3</td>\n",
       "      <td>0.196</td>\n",
       "      <td>22</td>\n",
       "      <td>1</td>\n",
       "    </tr>\n",
       "    <tr>\n",
       "      <th>1</th>\n",
       "      <td>3</td>\n",
       "      <td>193</td>\n",
       "      <td>70</td>\n",
       "      <td>31</td>\n",
       "      <td>0</td>\n",
       "      <td>34.9</td>\n",
       "      <td>0.241</td>\n",
       "      <td>25</td>\n",
       "      <td>1</td>\n",
       "    </tr>\n",
       "    <tr>\n",
       "      <th>2</th>\n",
       "      <td>4</td>\n",
       "      <td>95</td>\n",
       "      <td>64</td>\n",
       "      <td>0</td>\n",
       "      <td>0</td>\n",
       "      <td>32.0</td>\n",
       "      <td>0.161</td>\n",
       "      <td>31</td>\n",
       "      <td>1</td>\n",
       "    </tr>\n",
       "    <tr>\n",
       "      <th>3</th>\n",
       "      <td>5</td>\n",
       "      <td>136</td>\n",
       "      <td>84</td>\n",
       "      <td>41</td>\n",
       "      <td>88</td>\n",
       "      <td>35.0</td>\n",
       "      <td>0.286</td>\n",
       "      <td>35</td>\n",
       "      <td>1</td>\n",
       "    </tr>\n",
       "    <tr>\n",
       "      <th>4</th>\n",
       "      <td>5</td>\n",
       "      <td>168</td>\n",
       "      <td>64</td>\n",
       "      <td>0</td>\n",
       "      <td>0</td>\n",
       "      <td>32.9</td>\n",
       "      <td>0.135</td>\n",
       "      <td>41</td>\n",
       "      <td>1</td>\n",
       "    </tr>\n",
       "    <tr>\n",
       "      <th>...</th>\n",
       "      <td>...</td>\n",
       "      <td>...</td>\n",
       "      <td>...</td>\n",
       "      <td>...</td>\n",
       "      <td>...</td>\n",
       "      <td>...</td>\n",
       "      <td>...</td>\n",
       "      <td>...</td>\n",
       "      <td>...</td>\n",
       "    </tr>\n",
       "    <tr>\n",
       "      <th>613</th>\n",
       "      <td>9</td>\n",
       "      <td>89</td>\n",
       "      <td>62</td>\n",
       "      <td>0</td>\n",
       "      <td>0</td>\n",
       "      <td>22.5</td>\n",
       "      <td>0.142</td>\n",
       "      <td>33</td>\n",
       "      <td>0</td>\n",
       "    </tr>\n",
       "    <tr>\n",
       "      <th>614</th>\n",
       "      <td>10</td>\n",
       "      <td>101</td>\n",
       "      <td>76</td>\n",
       "      <td>48</td>\n",
       "      <td>180</td>\n",
       "      <td>32.9</td>\n",
       "      <td>0.171</td>\n",
       "      <td>63</td>\n",
       "      <td>0</td>\n",
       "    </tr>\n",
       "    <tr>\n",
       "      <th>615</th>\n",
       "      <td>2</td>\n",
       "      <td>122</td>\n",
       "      <td>70</td>\n",
       "      <td>27</td>\n",
       "      <td>0</td>\n",
       "      <td>36.8</td>\n",
       "      <td>0.340</td>\n",
       "      <td>27</td>\n",
       "      <td>0</td>\n",
       "    </tr>\n",
       "    <tr>\n",
       "      <th>616</th>\n",
       "      <td>5</td>\n",
       "      <td>121</td>\n",
       "      <td>72</td>\n",
       "      <td>23</td>\n",
       "      <td>112</td>\n",
       "      <td>26.2</td>\n",
       "      <td>0.245</td>\n",
       "      <td>30</td>\n",
       "      <td>0</td>\n",
       "    </tr>\n",
       "    <tr>\n",
       "      <th>617</th>\n",
       "      <td>1</td>\n",
       "      <td>93</td>\n",
       "      <td>70</td>\n",
       "      <td>31</td>\n",
       "      <td>0</td>\n",
       "      <td>30.4</td>\n",
       "      <td>0.315</td>\n",
       "      <td>23</td>\n",
       "      <td>0</td>\n",
       "    </tr>\n",
       "  </tbody>\n",
       "</table>\n",
       "<p>618 rows × 9 columns</p>\n",
       "</div>"
      ],
      "text/plain": [
       "     Pregnancies  Glucose  BloodPressure  SkinThickness  Insulin   BMI  \\\n",
       "0              0      131             66             40        0  34.3   \n",
       "1              3      193             70             31        0  34.9   \n",
       "2              4       95             64              0        0  32.0   \n",
       "3              5      136             84             41       88  35.0   \n",
       "4              5      168             64              0        0  32.9   \n",
       "..           ...      ...            ...            ...      ...   ...   \n",
       "613            9       89             62              0        0  22.5   \n",
       "614           10      101             76             48      180  32.9   \n",
       "615            2      122             70             27        0  36.8   \n",
       "616            5      121             72             23      112  26.2   \n",
       "617            1       93             70             31        0  30.4   \n",
       "\n",
       "     DiabetesPedigreeFunction  Age  Outcome  \n",
       "0                       0.196   22        1  \n",
       "1                       0.241   25        1  \n",
       "2                       0.161   31        1  \n",
       "3                       0.286   35        1  \n",
       "4                       0.135   41        1  \n",
       "..                        ...  ...      ...  \n",
       "613                     0.142   33        0  \n",
       "614                     0.171   63        0  \n",
       "615                     0.340   27        0  \n",
       "616                     0.245   30        0  \n",
       "617                     0.315   23        0  \n",
       "\n",
       "[618 rows x 9 columns]"
      ]
     },
     "execution_count": 101,
     "metadata": {},
     "output_type": "execute_result"
    }
   ],
   "source": [
    "df = pd.read_csv('pimaDiabetes.csv')\n",
    "df_features = df_train.loc[:,'Pregnancies':'Age']\n",
    "df_class = df_train.loc[:,'Outcome']\n",
    "df"
   ]
  },
  {
   "cell_type": "markdown",
   "id": "fabe4961",
   "metadata": {},
   "source": [
    "# Train and Test split and Scaling"
   ]
  },
  {
   "cell_type": "code",
   "execution_count": 114,
   "id": "50e450bc",
   "metadata": {},
   "outputs": [],
   "source": [
    "from sklearn.model_selection import train_test_split\n",
    "X_train, X_test, y_train, y_test = train_test_split(df_features,df_class,test_size=0.2)"
   ]
  },
  {
   "cell_type": "code",
   "execution_count": 115,
   "id": "1a641b6f",
   "metadata": {},
   "outputs": [],
   "source": [
    "stdsc = StandardScaler()\n",
    "X_train_std = stdsc.fit_transform(X_train)\n",
    "X_test_std = stdsc.transform(X_test)"
   ]
  },
  {
   "cell_type": "markdown",
   "id": "7ed71027",
   "metadata": {},
   "source": [
    "Note here, the scaling is usually performed before any sampling method to balance the training data set."
   ]
  },
  {
   "cell_type": "markdown",
   "id": "9291d8b6",
   "metadata": {},
   "source": [
    "## Check for class imbalance"
   ]
  },
  {
   "cell_type": "code",
   "execution_count": 116,
   "id": "f35d2aac",
   "metadata": {},
   "outputs": [
    {
     "name": "stdout",
     "output_type": "stream",
     "text": [
      "No. of samples in each class in training set \n"
     ]
    },
    {
     "data": {
      "text/plain": [
       "0    402\n",
       "1     92\n",
       "Name: Outcome, dtype: int64"
      ]
     },
     "execution_count": 116,
     "metadata": {},
     "output_type": "execute_result"
    }
   ],
   "source": [
    "print(\"No. of samples in each class in training set \")\n",
    "y_train.value_counts()"
   ]
  },
  {
   "cell_type": "code",
   "execution_count": 117,
   "id": "5c8d16ec",
   "metadata": {},
   "outputs": [
    {
     "name": "stdout",
     "output_type": "stream",
     "text": [
      "No. of samples in each class in testing set \n"
     ]
    },
    {
     "data": {
      "text/plain": [
       "0    98\n",
       "1    26\n",
       "Name: Outcome, dtype: int64"
      ]
     },
     "execution_count": 117,
     "metadata": {},
     "output_type": "execute_result"
    }
   ],
   "source": [
    "print(\"No. of samples in each class in testing set \")\n",
    "y_test.value_counts()"
   ]
  },
  {
   "cell_type": "markdown",
   "id": "a8b3602b",
   "metadata": {},
   "source": [
    "Clearly, the class `0` is the majority class"
   ]
  },
  {
   "cell_type": "markdown",
   "id": "9e6680d3",
   "metadata": {},
   "source": [
    "## Balance the training set"
   ]
  },
  {
   "cell_type": "markdown",
   "id": "6e5083d2",
   "metadata": {},
   "source": [
    "`X_train_std` is a numpy matrix containing the scaled features"
   ]
  },
  {
   "cell_type": "code",
   "execution_count": 124,
   "id": "1d866524",
   "metadata": {},
   "outputs": [
    {
     "name": "stdout",
     "output_type": "stream",
     "text": [
      "(494, 8)\n"
     ]
    },
    {
     "data": {
      "text/plain": [
       "array([[-0.46690199,  2.64280526,  0.05293548, ...,  0.44432548,\n",
       "         0.37782507,  2.53915384],\n",
       "       [ 2.65843111,  0.17350357,  0.49059447, ..., -0.59926103,\n",
       "        -0.60622465,  2.53915384],\n",
       "       [ 0.78323125,  1.24570035,  0.27176497, ..., -0.24291442,\n",
       "         1.19994255,  0.57657793],\n",
       "       ...,\n",
       "       [-0.7794353 , -0.44382186,  0.27176497, ...,  1.05520539,\n",
       "        -0.50034589,  0.83256609],\n",
       "       [-1.09196861,  0.8233198 ,  0.81883871, ...,  0.15161219,\n",
       "        -0.06437449, -0.87402166],\n",
       "       [ 1.72083118,  0.95328305,  1.0376682 , ..., -0.11564777,\n",
       "         0.98818502,  1.77118936]])"
      ]
     },
     "execution_count": 124,
     "metadata": {},
     "output_type": "execute_result"
    }
   ],
   "source": [
    "print(X_train_std.shape)\n",
    "X_train_std"
   ]
  },
  {
   "cell_type": "markdown",
   "id": "3333c332",
   "metadata": {},
   "source": [
    "Creating a data frame that contains the features and class labels from training set.\n",
    "This will be used in upsampling and downsampling."
   ]
  },
  {
   "cell_type": "code",
   "execution_count": 127,
   "id": "47a94add",
   "metadata": {},
   "outputs": [
    {
     "data": {
      "text/html": [
       "<div>\n",
       "<style scoped>\n",
       "    .dataframe tbody tr th:only-of-type {\n",
       "        vertical-align: middle;\n",
       "    }\n",
       "\n",
       "    .dataframe tbody tr th {\n",
       "        vertical-align: top;\n",
       "    }\n",
       "\n",
       "    .dataframe thead th {\n",
       "        text-align: right;\n",
       "    }\n",
       "</style>\n",
       "<table border=\"1\" class=\"dataframe\">\n",
       "  <thead>\n",
       "    <tr style=\"text-align: right;\">\n",
       "      <th></th>\n",
       "      <th>Pregnancies</th>\n",
       "      <th>Glucose</th>\n",
       "      <th>BloodPressure</th>\n",
       "      <th>SkinThickness</th>\n",
       "      <th>Insulin</th>\n",
       "      <th>BMI</th>\n",
       "      <th>DiabetesPedigreeFunction</th>\n",
       "      <th>Age</th>\n",
       "      <th>Outcome</th>\n",
       "    </tr>\n",
       "  </thead>\n",
       "  <tbody>\n",
       "    <tr>\n",
       "      <th>0</th>\n",
       "      <td>-0.466902</td>\n",
       "      <td>2.642805</td>\n",
       "      <td>0.052935</td>\n",
       "      <td>4.946404</td>\n",
       "      <td>-0.690341</td>\n",
       "      <td>0.444325</td>\n",
       "      <td>0.377825</td>\n",
       "      <td>2.539154</td>\n",
       "      <td>1</td>\n",
       "    </tr>\n",
       "    <tr>\n",
       "      <th>1</th>\n",
       "      <td>2.658431</td>\n",
       "      <td>0.173504</td>\n",
       "      <td>0.490594</td>\n",
       "      <td>-0.210699</td>\n",
       "      <td>-0.690341</td>\n",
       "      <td>-0.599261</td>\n",
       "      <td>-0.606225</td>\n",
       "      <td>2.539154</td>\n",
       "      <td>0</td>\n",
       "    </tr>\n",
       "    <tr>\n",
       "      <th>2</th>\n",
       "      <td>0.783231</td>\n",
       "      <td>1.245700</td>\n",
       "      <td>0.271765</td>\n",
       "      <td>0.732673</td>\n",
       "      <td>1.070170</td>\n",
       "      <td>-0.242914</td>\n",
       "      <td>1.199943</td>\n",
       "      <td>0.576578</td>\n",
       "      <td>0</td>\n",
       "    </tr>\n",
       "    <tr>\n",
       "      <th>3</th>\n",
       "      <td>2.345898</td>\n",
       "      <td>0.725847</td>\n",
       "      <td>0.381180</td>\n",
       "      <td>-1.279855</td>\n",
       "      <td>-0.690341</td>\n",
       "      <td>0.253426</td>\n",
       "      <td>-0.104858</td>\n",
       "      <td>0.235260</td>\n",
       "      <td>0</td>\n",
       "    </tr>\n",
       "    <tr>\n",
       "      <th>4</th>\n",
       "      <td>1.095765</td>\n",
       "      <td>1.700572</td>\n",
       "      <td>1.037668</td>\n",
       "      <td>1.361588</td>\n",
       "      <td>2.237763</td>\n",
       "      <td>0.889759</td>\n",
       "      <td>1.038010</td>\n",
       "      <td>0.661907</td>\n",
       "      <td>1</td>\n",
       "    </tr>\n",
       "    <tr>\n",
       "      <th>...</th>\n",
       "      <td>...</td>\n",
       "      <td>...</td>\n",
       "      <td>...</td>\n",
       "      <td>...</td>\n",
       "      <td>...</td>\n",
       "      <td>...</td>\n",
       "      <td>...</td>\n",
       "      <td>...</td>\n",
       "      <td>...</td>\n",
       "    </tr>\n",
       "    <tr>\n",
       "      <th>489</th>\n",
       "      <td>-0.779435</td>\n",
       "      <td>-0.801221</td>\n",
       "      <td>-0.275309</td>\n",
       "      <td>0.229541</td>\n",
       "      <td>-0.690341</td>\n",
       "      <td>-0.255641</td>\n",
       "      <td>-0.814868</td>\n",
       "      <td>-0.959351</td>\n",
       "      <td>0</td>\n",
       "    </tr>\n",
       "    <tr>\n",
       "      <th>490</th>\n",
       "      <td>-1.091969</td>\n",
       "      <td>-0.476313</td>\n",
       "      <td>-0.275309</td>\n",
       "      <td>-0.210699</td>\n",
       "      <td>-0.690341</td>\n",
       "      <td>-1.299228</td>\n",
       "      <td>-0.628023</td>\n",
       "      <td>-0.959351</td>\n",
       "      <td>0</td>\n",
       "    </tr>\n",
       "    <tr>\n",
       "      <th>491</th>\n",
       "      <td>-0.779435</td>\n",
       "      <td>-0.443822</td>\n",
       "      <td>0.271765</td>\n",
       "      <td>-1.279855</td>\n",
       "      <td>-0.690341</td>\n",
       "      <td>1.055205</td>\n",
       "      <td>-0.500346</td>\n",
       "      <td>0.832566</td>\n",
       "      <td>1</td>\n",
       "    </tr>\n",
       "    <tr>\n",
       "      <th>492</th>\n",
       "      <td>-1.091969</td>\n",
       "      <td>0.823320</td>\n",
       "      <td>0.818839</td>\n",
       "      <td>0.355324</td>\n",
       "      <td>-0.690341</td>\n",
       "      <td>0.151612</td>\n",
       "      <td>-0.064374</td>\n",
       "      <td>-0.874022</td>\n",
       "      <td>0</td>\n",
       "    </tr>\n",
       "    <tr>\n",
       "      <th>493</th>\n",
       "      <td>1.720831</td>\n",
       "      <td>0.953283</td>\n",
       "      <td>1.037668</td>\n",
       "      <td>0.858456</td>\n",
       "      <td>0.814759</td>\n",
       "      <td>-0.115648</td>\n",
       "      <td>0.988185</td>\n",
       "      <td>1.771189</td>\n",
       "      <td>1</td>\n",
       "    </tr>\n",
       "  </tbody>\n",
       "</table>\n",
       "<p>494 rows × 9 columns</p>\n",
       "</div>"
      ],
      "text/plain": [
       "     Pregnancies   Glucose  BloodPressure  SkinThickness   Insulin       BMI  \\\n",
       "0      -0.466902  2.642805       0.052935       4.946404 -0.690341  0.444325   \n",
       "1       2.658431  0.173504       0.490594      -0.210699 -0.690341 -0.599261   \n",
       "2       0.783231  1.245700       0.271765       0.732673  1.070170 -0.242914   \n",
       "3       2.345898  0.725847       0.381180      -1.279855 -0.690341  0.253426   \n",
       "4       1.095765  1.700572       1.037668       1.361588  2.237763  0.889759   \n",
       "..           ...       ...            ...            ...       ...       ...   \n",
       "489    -0.779435 -0.801221      -0.275309       0.229541 -0.690341 -0.255641   \n",
       "490    -1.091969 -0.476313      -0.275309      -0.210699 -0.690341 -1.299228   \n",
       "491    -0.779435 -0.443822       0.271765      -1.279855 -0.690341  1.055205   \n",
       "492    -1.091969  0.823320       0.818839       0.355324 -0.690341  0.151612   \n",
       "493     1.720831  0.953283       1.037668       0.858456  0.814759 -0.115648   \n",
       "\n",
       "     DiabetesPedigreeFunction       Age  Outcome  \n",
       "0                    0.377825  2.539154        1  \n",
       "1                   -0.606225  2.539154        0  \n",
       "2                    1.199943  0.576578        0  \n",
       "3                   -0.104858  0.235260        0  \n",
       "4                    1.038010  0.661907        1  \n",
       "..                        ...       ...      ...  \n",
       "489                 -0.814868 -0.959351        0  \n",
       "490                 -0.628023 -0.959351        0  \n",
       "491                 -0.500346  0.832566        1  \n",
       "492                 -0.064374 -0.874022        0  \n",
       "493                  0.988185  1.771189        1  \n",
       "\n",
       "[494 rows x 9 columns]"
      ]
     },
     "execution_count": 127,
     "metadata": {},
     "output_type": "execute_result"
    }
   ],
   "source": [
    "df_train = pd.DataFrame(X_train_std,columns=X_train.columns)\n",
    "df_train['Outcome'] = y_train.tolist()\n",
    "df_train"
   ]
  },
  {
   "cell_type": "markdown",
   "id": "c33dc2bd",
   "metadata": {},
   "source": [
    "#### Create balanced training set by downsampling majority class"
   ]
  },
  {
   "cell_type": "code",
   "execution_count": 8,
   "id": "618b28d6",
   "metadata": {},
   "outputs": [],
   "source": [
    "from sklearn.utils import resample"
   ]
  },
  {
   "cell_type": "code",
   "execution_count": 128,
   "id": "9ca298f1",
   "metadata": {},
   "outputs": [
    {
     "name": "stdout",
     "output_type": "stream",
     "text": [
      "Shape of unbalanced training set\n",
      "majority class (402, 9)\n",
      "minority class (92, 9)\n",
      "\n",
      "==========================================================\n",
      "\n",
      "Class distribution in downsampled balanced training set\n",
      "0    92\n",
      "1    92\n",
      "Name: Outcome, dtype: int64\n",
      "(184, 8)\n"
     ]
    }
   ],
   "source": [
    "# Separate majority and minority classes\n",
    "df_train_majority = df_train.loc[df_train['Outcome']==0,:] # rows with outcome  = 0\n",
    "df_train_minority = df_train.loc[df_train['Outcome']==1,:] # rows with outcome = 1\n",
    "print(\"Shape of unbalanced training set\")\n",
    "print('majority class',df_train_majority.shape) \n",
    "print('minority class',df_train_minority.shape) \n",
    "\n",
    "# Downsample majority class\n",
    "df_train_majority_downsampled = resample(df_train_majority, \n",
    "                                 replace=False,    \n",
    "                                 n_samples=92) # randomly select 92 samples from majority class with no replacement\n",
    "\n",
    "#combine downsampled majority data and minority data\n",
    "df_train_downsampled = pd.concat([df_train_majority_downsampled, df_train_minority])\n",
    "\n",
    "print('\\n==========================================================\\n')\n",
    "\n",
    "print('Class distribution in downsampled balanced training set')\n",
    "print(df_train_downsampled['Outcome'].value_counts())\n",
    "\n",
    "#separate the features and class labels in two data frames\n",
    "X_train_down = df_train_downsampled.loc[:,'Pregnancies':'Age']\n",
    "y_train_down = df_train_downsampled.loc[:,'Outcome']\n",
    "print(X_train_down.shape)"
   ]
  },
  {
   "cell_type": "markdown",
   "id": "b55981ac",
   "metadata": {},
   "source": [
    "#### Create balanced training set by upsampling minority class"
   ]
  },
  {
   "cell_type": "code",
   "execution_count": 129,
   "id": "c85d6323",
   "metadata": {},
   "outputs": [
    {
     "name": "stdout",
     "output_type": "stream",
     "text": [
      "\n",
      "==========================================================\n",
      "\n",
      "Class distribution in downsampled balanced training set\n",
      "0    402\n",
      "1    402\n",
      "Name: Outcome, dtype: int64\n",
      "(804, 8)\n"
     ]
    }
   ],
   "source": [
    "# upsample minority class\n",
    "df_train_minority_upsampled = resample(df_train_minority, \n",
    "                                 replace=True,    \n",
    "                                 n_samples=402) #randomly select 402 samples from minority class with  replacement\n",
    "\n",
    "df_train_upsampled = pd.concat([df_train_majority, df_train_minority_upsampled])\n",
    "\n",
    "print('\\n==========================================================\\n')\n",
    "print('Class distribution in downsampled balanced training set')\n",
    "print(df_train_upsampled['Outcome'].value_counts())\n",
    "\n",
    "#separate the features and class labels in two data frames\n",
    "X_train_up = df_train_upsampled.loc[:,'Pregnancies':'Age']\n",
    "y_train_up = df_train_upsampled.loc[:,'Outcome']\n",
    "print(X_train_up.shape)"
   ]
  },
  {
   "cell_type": "markdown",
   "id": "ff9c027e",
   "metadata": {},
   "source": [
    "#### SMOTE"
   ]
  },
  {
   "cell_type": "markdown",
   "id": "008e423c",
   "metadata": {},
   "source": [
    "You will need to install a package called `imblearn` to use SMOTE.\n",
    "\n",
    "`pip install imbalanced-learn`\n",
    "\n",
    "or\n",
    "\n",
    "`conda install -c conda-forge imbalanced-learn`\n",
    "\n",
    "https://imbalanced-learn.org/stable/references/generated/imblearn.over_sampling.SMOTE.html"
   ]
  },
  {
   "cell_type": "code",
   "execution_count": 130,
   "id": "e08232a4",
   "metadata": {},
   "outputs": [
    {
     "name": "stdout",
     "output_type": "stream",
     "text": [
      "Size of New training data after SMOTE\n",
      "(804, 8)\n",
      "(804,)\n",
      "Class distribution after SMOTE\n",
      "1    402\n",
      "0    402\n",
      "Name: Outcome, dtype: int64\n"
     ]
    }
   ],
   "source": [
    "from imblearn.over_sampling import SMOTE\n",
    "sm = SMOTE(sampling_strategy='not majority', k_neighbors=5)\n",
    "X_train_smote, y_train_smote = sm.fit_resample(X_train_std, y_train) # note X_train_std is the scaled feature data\n",
    "print(\"Size of New training data after SMOTE\")\n",
    "print(X_train_smote.shape)\n",
    "print(y_train_smote.shape)\n",
    "print(\"Class distribution after SMOTE\")\n",
    "print(y_train_smote.value_counts())"
   ]
  },
  {
   "cell_type": "markdown",
   "id": "28f6089c",
   "metadata": {},
   "source": [
    "# Train using the balanced training data"
   ]
  },
  {
   "cell_type": "code",
   "execution_count": 140,
   "id": "398dc5a9",
   "metadata": {},
   "outputs": [
    {
     "name": "stdout",
     "output_type": "stream",
     "text": [
      "Fitting 5 folds for each of 13 candidates, totalling 65 fits\n",
      "Fitting 5 folds for each of 13 candidates, totalling 65 fits\n",
      "Fitting 5 folds for each of 13 candidates, totalling 65 fits\n",
      "Fitting 5 folds for each of 13 candidates, totalling 65 fits\n"
     ]
    },
    {
     "data": {
      "text/html": [
       "<style>#sk-container-id-11 {color: black;background-color: white;}#sk-container-id-11 pre{padding: 0;}#sk-container-id-11 div.sk-toggleable {background-color: white;}#sk-container-id-11 label.sk-toggleable__label {cursor: pointer;display: block;width: 100%;margin-bottom: 0;padding: 0.3em;box-sizing: border-box;text-align: center;}#sk-container-id-11 label.sk-toggleable__label-arrow:before {content: \"▸\";float: left;margin-right: 0.25em;color: #696969;}#sk-container-id-11 label.sk-toggleable__label-arrow:hover:before {color: black;}#sk-container-id-11 div.sk-estimator:hover label.sk-toggleable__label-arrow:before {color: black;}#sk-container-id-11 div.sk-toggleable__content {max-height: 0;max-width: 0;overflow: hidden;text-align: left;background-color: #f0f8ff;}#sk-container-id-11 div.sk-toggleable__content pre {margin: 0.2em;color: black;border-radius: 0.25em;background-color: #f0f8ff;}#sk-container-id-11 input.sk-toggleable__control:checked~div.sk-toggleable__content {max-height: 200px;max-width: 100%;overflow: auto;}#sk-container-id-11 input.sk-toggleable__control:checked~label.sk-toggleable__label-arrow:before {content: \"▾\";}#sk-container-id-11 div.sk-estimator input.sk-toggleable__control:checked~label.sk-toggleable__label {background-color: #d4ebff;}#sk-container-id-11 div.sk-label input.sk-toggleable__control:checked~label.sk-toggleable__label {background-color: #d4ebff;}#sk-container-id-11 input.sk-hidden--visually {border: 0;clip: rect(1px 1px 1px 1px);clip: rect(1px, 1px, 1px, 1px);height: 1px;margin: -1px;overflow: hidden;padding: 0;position: absolute;width: 1px;}#sk-container-id-11 div.sk-estimator {font-family: monospace;background-color: #f0f8ff;border: 1px dotted black;border-radius: 0.25em;box-sizing: border-box;margin-bottom: 0.5em;}#sk-container-id-11 div.sk-estimator:hover {background-color: #d4ebff;}#sk-container-id-11 div.sk-parallel-item::after {content: \"\";width: 100%;border-bottom: 1px solid gray;flex-grow: 1;}#sk-container-id-11 div.sk-label:hover label.sk-toggleable__label {background-color: #d4ebff;}#sk-container-id-11 div.sk-serial::before {content: \"\";position: absolute;border-left: 1px solid gray;box-sizing: border-box;top: 0;bottom: 0;left: 50%;z-index: 0;}#sk-container-id-11 div.sk-serial {display: flex;flex-direction: column;align-items: center;background-color: white;padding-right: 0.2em;padding-left: 0.2em;position: relative;}#sk-container-id-11 div.sk-item {position: relative;z-index: 1;}#sk-container-id-11 div.sk-parallel {display: flex;align-items: stretch;justify-content: center;background-color: white;position: relative;}#sk-container-id-11 div.sk-item::before, #sk-container-id-11 div.sk-parallel-item::before {content: \"\";position: absolute;border-left: 1px solid gray;box-sizing: border-box;top: 0;bottom: 0;left: 50%;z-index: -1;}#sk-container-id-11 div.sk-parallel-item {display: flex;flex-direction: column;z-index: 1;position: relative;background-color: white;}#sk-container-id-11 div.sk-parallel-item:first-child::after {align-self: flex-end;width: 50%;}#sk-container-id-11 div.sk-parallel-item:last-child::after {align-self: flex-start;width: 50%;}#sk-container-id-11 div.sk-parallel-item:only-child::after {width: 0;}#sk-container-id-11 div.sk-dashed-wrapped {border: 1px dashed gray;margin: 0 0.4em 0.5em 0.4em;box-sizing: border-box;padding-bottom: 0.4em;background-color: white;}#sk-container-id-11 div.sk-label label {font-family: monospace;font-weight: bold;display: inline-block;line-height: 1.2em;}#sk-container-id-11 div.sk-label-container {text-align: center;}#sk-container-id-11 div.sk-container {/* jupyter's `normalize.less` sets `[hidden] { display: none; }` but bootstrap.min.css set `[hidden] { display: none !important; }` so we also need the `!important` here to be able to override the default hidden behavior on the sphinx rendered scikit-learn.org. See: https://github.com/scikit-learn/scikit-learn/issues/21755 */display: inline-block !important;position: relative;}#sk-container-id-11 div.sk-text-repr-fallback {display: none;}</style><div id=\"sk-container-id-11\" class=\"sk-top-container\"><div class=\"sk-text-repr-fallback\"><pre>GridSearchCV(cv=5, estimator=KNeighborsClassifier(),\n",
       "             param_grid={&#x27;n_neighbors&#x27;: [3, 4, 5, 6, 7, 8, 9, 10, 11, 12, 13,\n",
       "                                         14, 15]},\n",
       "             scoring=&#x27;balanced_accuracy&#x27;, verbose=1)</pre><b>In a Jupyter environment, please rerun this cell to show the HTML representation or trust the notebook. <br />On GitHub, the HTML representation is unable to render, please try loading this page with nbviewer.org.</b></div><div class=\"sk-container\" hidden><div class=\"sk-item sk-dashed-wrapped\"><div class=\"sk-label-container\"><div class=\"sk-label sk-toggleable\"><input class=\"sk-toggleable__control sk-hidden--visually\" id=\"sk-estimator-id-31\" type=\"checkbox\" ><label for=\"sk-estimator-id-31\" class=\"sk-toggleable__label sk-toggleable__label-arrow\">GridSearchCV</label><div class=\"sk-toggleable__content\"><pre>GridSearchCV(cv=5, estimator=KNeighborsClassifier(),\n",
       "             param_grid={&#x27;n_neighbors&#x27;: [3, 4, 5, 6, 7, 8, 9, 10, 11, 12, 13,\n",
       "                                         14, 15]},\n",
       "             scoring=&#x27;balanced_accuracy&#x27;, verbose=1)</pre></div></div></div><div class=\"sk-parallel\"><div class=\"sk-parallel-item\"><div class=\"sk-item\"><div class=\"sk-label-container\"><div class=\"sk-label sk-toggleable\"><input class=\"sk-toggleable__control sk-hidden--visually\" id=\"sk-estimator-id-32\" type=\"checkbox\" ><label for=\"sk-estimator-id-32\" class=\"sk-toggleable__label sk-toggleable__label-arrow\">estimator: KNeighborsClassifier</label><div class=\"sk-toggleable__content\"><pre>KNeighborsClassifier()</pre></div></div></div><div class=\"sk-serial\"><div class=\"sk-item\"><div class=\"sk-estimator sk-toggleable\"><input class=\"sk-toggleable__control sk-hidden--visually\" id=\"sk-estimator-id-33\" type=\"checkbox\" ><label for=\"sk-estimator-id-33\" class=\"sk-toggleable__label sk-toggleable__label-arrow\">KNeighborsClassifier</label><div class=\"sk-toggleable__content\"><pre>KNeighborsClassifier()</pre></div></div></div></div></div></div></div></div></div></div>"
      ],
      "text/plain": [
       "GridSearchCV(cv=5, estimator=KNeighborsClassifier(),\n",
       "             param_grid={'n_neighbors': [3, 4, 5, 6, 7, 8, 9, 10, 11, 12, 13,\n",
       "                                         14, 15]},\n",
       "             scoring='balanced_accuracy', verbose=1)"
      ]
     },
     "execution_count": 140,
     "metadata": {},
     "output_type": "execute_result"
    }
   ],
   "source": [
    "from sklearn.neighbors import KNeighborsClassifier\n",
    "from sklearn.ensemble import RandomForestClassifier\n",
    "from sklearn.model_selection import GridSearchCV\n",
    "from sklearn.preprocessing import StandardScaler\n",
    "\n",
    "'''\n",
    "K-nearest neighbors model\n",
    "'''\n",
    "knn = KNeighborsClassifier()\n",
    "param_grid1 = {\n",
    "    'n_neighbors': [3,4,5,6,7,8,9,10,11,12,13,14,15]\n",
    "}\n",
    "\n",
    "\n",
    "'''\n",
    "Maximize balanced_accuracy which is the average of recall obtained on each class.\n",
    "Note: Recall is sensitivity or accuracy on one of the classes.\n",
    "Therefore, balanced_accuracy is the averaged accuracies for the two classes.\n",
    "'''\n",
    "\n",
    "'''\n",
    "model on unbalanced set\n",
    "'''\n",
    "grid_search = GridSearchCV(estimator =knn, param_grid = param_grid1, scoring='balanced_accuracy', cv = 5, verbose = 1)\n",
    "grid_search.fit(X_train_std, y_train)\n",
    "\n",
    "'''\n",
    "model on upsampled train set\n",
    "'''\n",
    "grid_search_up = GridSearchCV(estimator = knn, param_grid = param_grid1, scoring='balanced_accuracy', cv = 5, verbose = 1)\n",
    "grid_search_up.fit(X_train_up, y_train_up)\n",
    "\n",
    "'''\n",
    "model on downsampled train set\n",
    "'''\n",
    "grid_search_down = GridSearchCV(estimator = knn, param_grid = param_grid1, scoring='balanced_accuracy', cv = 5, verbose = 1)\n",
    "grid_search_down.fit(X_train_down, y_train_down)\n",
    "\n",
    "'''\n",
    "model on SMOTE train set\n",
    "'''\n",
    "grid_search_smote = GridSearchCV(estimator = knn, param_grid = param_grid1, scoring='balanced_accuracy', cv = 5, verbose = 1)\n",
    "grid_search_smote.fit(X_train_smote, y_train_smote)"
   ]
  },
  {
   "cell_type": "markdown",
   "id": "2f597161",
   "metadata": {},
   "source": [
    "# Compute different metrics on unbalanced testing data"
   ]
  },
  {
   "cell_type": "code",
   "execution_count": 134,
   "id": "5e0753df",
   "metadata": {},
   "outputs": [
    {
     "name": "stdout",
     "output_type": "stream",
     "text": [
      "\n",
      "=======================================================================\n",
      "Prediction results on test set - model trained on unbalanced train set\n",
      "              precision    recall  f1-score   support\n",
      "\n",
      "           0       0.85      0.89      0.87        98\n",
      "           1       0.50      0.42      0.46        26\n",
      "\n",
      "    accuracy                           0.79       124\n",
      "   macro avg       0.68      0.66      0.66       124\n",
      "weighted avg       0.78      0.79      0.78       124\n",
      "\n",
      "\n",
      "======================================================================\n",
      "Prediction results on test set - model trained on upsampled train set\n",
      "              precision    recall  f1-score   support\n",
      "\n",
      "           0       0.88      0.77      0.82        98\n",
      "           1       0.41      0.62      0.49        26\n",
      "\n",
      "    accuracy                           0.73       124\n",
      "   macro avg       0.65      0.69      0.66       124\n",
      "weighted avg       0.78      0.73      0.75       124\n",
      "\n",
      "\n",
      "======================================================================\n",
      "Prediction results on test set - model trained on downsampled train set\n",
      "              precision    recall  f1-score   support\n",
      "\n",
      "           0       0.90      0.76      0.82        98\n",
      "           1       0.43      0.69      0.53        26\n",
      "\n",
      "    accuracy                           0.74       124\n",
      "   macro avg       0.67      0.72      0.68       124\n",
      "weighted avg       0.80      0.74      0.76       124\n",
      "\n",
      "\n",
      "=====================================================================\n",
      "Prediction results on test set - model trained on SMOTE train set\n",
      "              precision    recall  f1-score   support\n",
      "\n",
      "           0       0.89      0.79      0.83        98\n",
      "           1       0.43      0.62      0.51        26\n",
      "\n",
      "    accuracy                           0.75       124\n",
      "   macro avg       0.66      0.70      0.67       124\n",
      "weighted avg       0.79      0.75      0.76       124\n",
      "\n"
     ]
    },
    {
     "name": "stderr",
     "output_type": "stream",
     "text": [
      "C:\\Users\\soibamb\\Anaconda3\\lib\\site-packages\\sklearn\\base.py:450: UserWarning: X does not have valid feature names, but KNeighborsClassifier was fitted with feature names\n",
      "  warnings.warn(\n",
      "C:\\Users\\soibamb\\Anaconda3\\lib\\site-packages\\sklearn\\base.py:450: UserWarning: X does not have valid feature names, but KNeighborsClassifier was fitted with feature names\n",
      "  warnings.warn(\n"
     ]
    }
   ],
   "source": [
    "from sklearn.metrics import classification_report\n",
    "from sklearn import metrics\n",
    "print(\"\\n=======================================================================\")\n",
    "print(\"Prediction results on test set - model trained on unbalanced train set\")\n",
    "y_pred = grid_search.predict(X_test_std)\n",
    "print(classification_report(y_test,y_pred))\n",
    "\n",
    "\n",
    "print(\"\\n======================================================================\")\n",
    "print(\"Prediction results on test set - model trained on upsampled train set\")\n",
    "y_pred = grid_search_up.predict(X_test_std)\n",
    "print(classification_report(y_test,y_pred))\n",
    "\n",
    "print(\"\\n======================================================================\")\n",
    "print(\"Prediction results on test set - model trained on downsampled train set\")\n",
    "y_pred = grid_search_down.predict(X_test_std)\n",
    "print(classification_report(y_test,y_pred))\n",
    "\n",
    "print(\"\\n=====================================================================\")\n",
    "print(\"Prediction results on test set - model trained on SMOTE train set\")\n",
    "\n",
    "y_pred = grid_search_smote.predict(X_test_std)\n",
    "print(classification_report(y_test,y_pred))"
   ]
  },
  {
   "cell_type": "markdown",
   "id": "80ed00eb",
   "metadata": {},
   "source": [
    "## Display `AUC` and `AUPRC` values"
   ]
  },
  {
   "cell_type": "code",
   "execution_count": 142,
   "id": "fa856042",
   "metadata": {},
   "outputs": [
    {
     "name": "stdout",
     "output_type": "stream",
     "text": [
      "\n",
      "======================================================================\n",
      "AUC & AUPRC on test set - model trained on unbalanced train set\n",
      "(124, 2)\n",
      "AUC score:  0.7309654631083202\n",
      "AUPRC score:  0.32053349875930526\n",
      "AUC & AUPRC results on test set - model trained on upsampled train set\n",
      "(124, 2)\n",
      "AUC score:  0.7352825745682888\n",
      "AUPRC score:  0.5411449386015142\n",
      "AUC & AUPRC results on test set - model trained on downsampled train set\n",
      "(124, 2)\n",
      "AUC score:  0.7935635792778649\n",
      "AUPRC score:  0.450868587241538\n",
      "AUC & AUPRC results on test set - model trained on SMOTE train set\n",
      "(124, 2)\n",
      "AUC score:  0.75\n",
      "AUPRC score:  0.5240406741199972\n"
     ]
    },
    {
     "name": "stderr",
     "output_type": "stream",
     "text": [
      "C:\\Users\\soibamb\\Anaconda3\\lib\\site-packages\\sklearn\\base.py:450: UserWarning: X does not have valid feature names, but KNeighborsClassifier was fitted with feature names\n",
      "  warnings.warn(\n",
      "C:\\Users\\soibamb\\Anaconda3\\lib\\site-packages\\sklearn\\base.py:450: UserWarning: X does not have valid feature names, but KNeighborsClassifier was fitted with feature names\n",
      "  warnings.warn(\n"
     ]
    }
   ],
   "source": [
    "from sklearn.metrics import roc_curve\n",
    "from sklearn.metrics import auc\n",
    "from sklearn.metrics import roc_auc_score\n",
    "from sklearn.metrics import precision_recall_curve\n",
    "\n",
    "def auc_auprc(model,data,y_real_class):\n",
    "    y_pred_prob = model.predict_proba(data) # give the probabilities\n",
    "    print(y_pred_prob.shape)\n",
    "    y_pred_prob_minority_class = y_pred_prob[:,1]\n",
    "    print('AUC score: ',roc_auc_score(y_real_class, y_pred_prob_minority_class))\n",
    "    precision, recall, _ = precision_recall_curve(y_real_class, y_pred_prob_minority_class)\n",
    "    print('AUPRC score: ',auc(recall, precision))\n",
    "\n",
    "print(\"\\n======================================================================\")\n",
    "\n",
    "print(\"AUC & AUPRC on test set - model trained on unbalanced train set\")\n",
    "auc_auprc(grid_search,X_test_std,y_test)\n",
    "print(\"AUC & AUPRC results on test set - model trained on upsampled train set\")\n",
    "auc_auprc(grid_search_up,X_test_std,y_test)\n",
    "print(\"AUC & AUPRC results on test set - model trained on downsampled train set\")\n",
    "auc_auprc(grid_search_down,X_test_std,y_test)\n",
    "print(\"AUC & AUPRC results on test set - model trained on SMOTE train set\")\n",
    "auc_auprc(grid_search_smote,X_test_std,y_test)"
   ]
  },
  {
   "cell_type": "markdown",
   "id": "f2289cb2",
   "metadata": {},
   "source": [
    "Note that AUC is overestimated when prediction is performed on an unbalanced `test set`. Its important to look at other metrics and not just `AUC` when it comes to unbalanced set."
   ]
  },
  {
   "cell_type": "markdown",
   "id": "4559bdd9",
   "metadata": {},
   "source": [
    "# Draw Precision Recall Curve"
   ]
  },
  {
   "cell_type": "code",
   "execution_count": 137,
   "id": "ce4eef53",
   "metadata": {},
   "outputs": [
    {
     "name": "stderr",
     "output_type": "stream",
     "text": [
      "C:\\Users\\soibamb\\Anaconda3\\lib\\site-packages\\sklearn\\base.py:450: UserWarning: X does not have valid feature names, but KNeighborsClassifier was fitted with feature names\n",
      "  warnings.warn(\n",
      "C:\\Users\\soibamb\\Anaconda3\\lib\\site-packages\\sklearn\\base.py:450: UserWarning: X does not have valid feature names, but KNeighborsClassifier was fitted with feature names\n",
      "  warnings.warn(\n"
     ]
    },
    {
     "data": {
      "image/png": "[encoded data removed]",
      "text/plain": [
       "<Figure size 640x480 with 1 Axes>"
      ]
     },
     "metadata": {},
     "output_type": "display_data"
    },
    {
     "data": {
      "image/png": "[encoded data removed]",
      "text/plain": [
       "<Figure size 640x480 with 1 Axes>"
      ]
     },
     "metadata": {},
     "output_type": "display_data"
    }
   ],
   "source": [
    "from sklearn.metrics import PrecisionRecallDisplay\n",
    "display1 = PrecisionRecallDisplay.from_estimator(\n",
    "    grid_search_up, X_test_std, y_test, pos_label = 0\n",
    ")\n",
    "\n",
    "from sklearn.metrics import PrecisionRecallDisplay\n",
    "display1 = PrecisionRecallDisplay.from_estimator(\n",
    "    grid_search_up, X_test_std, y_test, pos_label = 1\n",
    ")"
   ]
  },
  {
   "cell_type": "markdown",
   "id": "980cf204",
   "metadata": {},
   "source": [
    "# Draw ROC Curve"
   ]
  },
  {
   "cell_type": "code",
   "execution_count": 136,
   "id": "97eb8df3",
   "metadata": {},
   "outputs": [
    {
     "name": "stderr",
     "output_type": "stream",
     "text": [
      "C:\\Users\\soibamb\\Anaconda3\\lib\\site-packages\\sklearn\\utils\\deprecation.py:87: FutureWarning: Function plot_roc_curve is deprecated; Function :func:`plot_roc_curve` is deprecated in 1.0 and will be removed in 1.2. Use one of the class methods: :meth:`sklearn.metric.RocCurveDisplay.from_predictions` or :meth:`sklearn.metric.RocCurveDisplay.from_estimator`.\n",
      "  warnings.warn(msg, category=FutureWarning)\n",
      "C:\\Users\\soibamb\\Anaconda3\\lib\\site-packages\\sklearn\\base.py:450: UserWarning: X does not have valid feature names, but KNeighborsClassifier was fitted with feature names\n",
      "  warnings.warn(\n"
     ]
    },
    {
     "data": {
      "text/plain": [
       "<sklearn.metrics._plot.roc_curve.RocCurveDisplay at 0x1dbcb421fd0>"
      ]
     },
     "execution_count": 136,
     "metadata": {},
     "output_type": "execute_result"
    },
    {
     "data": {
      "image/png": "[encoded data removed]",
      "text/plain": [
       "<Figure size 640x480 with 1 Axes>"
      ]
     },
     "metadata": {},
     "output_type": "display_data"
    }
   ],
   "source": [
    "from sklearn import metrics\n",
    "metrics.plot_roc_curve(grid_search_up, X_test_std, y_test) "
   ]
  }
 ],
 "metadata": {
  "kernelspec": {
   "display_name": "Python 3 (ipykernel)",
   "language": "python",
   "name": "python3"
  },
  "language_info": {
   "codemirror_mode": {
    "name": "ipython",
    "version": 3
   },
   "file_extension": ".py",
   "mimetype": "text/x-python",
   "name": "python",
   "nbconvert_exporter": "python",
   "pygments_lexer": "ipython3",
   "version": "3.8.12"
  }
 },
 "nbformat": 4,
 "nbformat_minor": 5
}
