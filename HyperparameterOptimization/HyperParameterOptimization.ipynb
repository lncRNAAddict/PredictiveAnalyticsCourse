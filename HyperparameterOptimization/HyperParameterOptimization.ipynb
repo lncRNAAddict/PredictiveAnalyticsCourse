{
 "cells": [
  {
   "cell_type": "markdown",
   "id": "542ac4ec",
   "metadata": {},
   "source": [
    "# Hyperparameter optimization using HyperOpt"
   ]
  },
  {
   "cell_type": "markdown",
   "id": "4c02d168",
   "metadata": {},
   "source": [
    "This tutorial describes how to perform hyperparameter optimization using `HyperOpt` tool.\n",
    "\n",
    "To install this do `pip install hyperopt` or `conda install -c conda-forge hyperopt`\n",
    "\n",
    "\n",
    "Documentation of `HyperOpt` can be found here http://hyperopt.github.io/hyperopt/\n"
   ]
  },
  {
   "cell_type": "markdown",
   "id": "ddeee297",
   "metadata": {},
   "source": [
    "### Rice (Cammeo and Osmancik) Data Set\n",
    "\n",
    "A total of 3810 rice grain's images were taken for the two species, processed and feature inferences were made. 7 morphological features were obtained for each grain of rice.\n",
    "\n",
    "\n",
    "\n",
    "https://archive.ics.uci.edu/ml/datasets/Rice+%28Cammeo+and+Osmancik%29\n",
    "\n",
    "\n",
    "#### Data Set Information:\n",
    "\n",
    "Among the certified rice grown in TURKEY, the Osmancik species, which has a large planting area since 1997 and the Cammeo species grown since 2014 have been selected for the study. When looking at the general characteristics of Osmancik species, they have a wide, long, glassy and dull appearance. When looking at the general characteristics of the Cammeo species, they have wide and long, glassy and dull in appearance. A total of 3810 rice grain's images were taken for the two species, processed and feature inferences were made. 7 morphological features were obtained for each grain of rice.\n",
    "\n",
    "\n",
    "#### Attribute Information:\n",
    "\n",
    "1.) Area: Returns the number of pixels within the boundaries of the rice grain.\n",
    "\n",
    "2.) Perimeter: Calculates the circumference by calculating the distance between pixels around the boundaries of the rice grain.\n",
    "\n",
    "3.) Major Axis Length: The longest line that can be drawn on the rice grain, i.e. the main axis distance, gives.\n",
    "\n",
    "4.) Minor Axis Length: The shortest line that can be drawn on the rice grain, i.e. the small axis distance, gives.\n",
    "\n",
    "5.) Eccentricity: It measures how round the ellipse, which has the same moments as the rice grain, is.\n",
    "\n",
    "6.) Convex Area: Returns the pixel count of the smallest convex shell of the region formed by the rice grain.\n",
    "\n",
    "7.) Extent: Returns the ratio of the regionformed by the rice grain to the bounding box pixels.\n",
    "\n",
    "8.) Class: Cammeo and Osmancik rices"
   ]
  },
  {
   "cell_type": "code",
   "execution_count": 1,
   "id": "f542f4a4",
   "metadata": {},
   "outputs": [],
   "source": [
    "import numpy as np\n",
    "import pandas as pd"
   ]
  },
  {
   "cell_type": "code",
   "execution_count": 3,
   "id": "0e1df61f",
   "metadata": {},
   "outputs": [
    {
     "data": {
      "text/html": [
       "<div>\n",
       "<style scoped>\n",
       "    .dataframe tbody tr th:only-of-type {\n",
       "        vertical-align: middle;\n",
       "    }\n",
       "\n",
       "    .dataframe tbody tr th {\n",
       "        vertical-align: top;\n",
       "    }\n",
       "\n",
       "    .dataframe thead th {\n",
       "        text-align: right;\n",
       "    }\n",
       "</style>\n",
       "<table border=\"1\" class=\"dataframe\">\n",
       "  <thead>\n",
       "    <tr style=\"text-align: right;\">\n",
       "      <th></th>\n",
       "      <th>Area</th>\n",
       "      <th>Perimeter</th>\n",
       "      <th>Major_Axis_Length</th>\n",
       "      <th>Minor_Axis_Length</th>\n",
       "      <th>Eccentricity</th>\n",
       "      <th>Convex_Area</th>\n",
       "      <th>Extent</th>\n",
       "      <th>Class</th>\n",
       "    </tr>\n",
       "  </thead>\n",
       "  <tbody>\n",
       "    <tr>\n",
       "      <th>0</th>\n",
       "      <td>15231</td>\n",
       "      <td>525.578979</td>\n",
       "      <td>229.749878</td>\n",
       "      <td>85.093788</td>\n",
       "      <td>0.928882</td>\n",
       "      <td>15617</td>\n",
       "      <td>0.572896</td>\n",
       "      <td>0</td>\n",
       "    </tr>\n",
       "    <tr>\n",
       "      <th>1</th>\n",
       "      <td>14656</td>\n",
       "      <td>494.311005</td>\n",
       "      <td>206.020065</td>\n",
       "      <td>91.730972</td>\n",
       "      <td>0.895405</td>\n",
       "      <td>15072</td>\n",
       "      <td>0.615436</td>\n",
       "      <td>0</td>\n",
       "    </tr>\n",
       "    <tr>\n",
       "      <th>2</th>\n",
       "      <td>14634</td>\n",
       "      <td>501.122009</td>\n",
       "      <td>214.106781</td>\n",
       "      <td>87.768288</td>\n",
       "      <td>0.912118</td>\n",
       "      <td>14954</td>\n",
       "      <td>0.693259</td>\n",
       "      <td>0</td>\n",
       "    </tr>\n",
       "    <tr>\n",
       "      <th>3</th>\n",
       "      <td>13176</td>\n",
       "      <td>458.342987</td>\n",
       "      <td>193.337387</td>\n",
       "      <td>87.448395</td>\n",
       "      <td>0.891861</td>\n",
       "      <td>13368</td>\n",
       "      <td>0.640669</td>\n",
       "      <td>0</td>\n",
       "    </tr>\n",
       "    <tr>\n",
       "      <th>4</th>\n",
       "      <td>14688</td>\n",
       "      <td>507.166992</td>\n",
       "      <td>211.743378</td>\n",
       "      <td>89.312454</td>\n",
       "      <td>0.906691</td>\n",
       "      <td>15262</td>\n",
       "      <td>0.646024</td>\n",
       "      <td>0</td>\n",
       "    </tr>\n",
       "    <tr>\n",
       "      <th>...</th>\n",
       "      <td>...</td>\n",
       "      <td>...</td>\n",
       "      <td>...</td>\n",
       "      <td>...</td>\n",
       "      <td>...</td>\n",
       "      <td>...</td>\n",
       "      <td>...</td>\n",
       "      <td>...</td>\n",
       "    </tr>\n",
       "    <tr>\n",
       "      <th>3255</th>\n",
       "      <td>10627</td>\n",
       "      <td>411.441010</td>\n",
       "      <td>172.261276</td>\n",
       "      <td>79.841049</td>\n",
       "      <td>0.886103</td>\n",
       "      <td>10800</td>\n",
       "      <td>0.802401</td>\n",
       "      <td>1</td>\n",
       "    </tr>\n",
       "    <tr>\n",
       "      <th>3256</th>\n",
       "      <td>11540</td>\n",
       "      <td>427.319000</td>\n",
       "      <td>174.082809</td>\n",
       "      <td>85.417870</td>\n",
       "      <td>0.871343</td>\n",
       "      <td>11829</td>\n",
       "      <td>0.745189</td>\n",
       "      <td>1</td>\n",
       "    </tr>\n",
       "    <tr>\n",
       "      <th>3257</th>\n",
       "      <td>11494</td>\n",
       "      <td>433.058014</td>\n",
       "      <td>171.582459</td>\n",
       "      <td>86.878693</td>\n",
       "      <td>0.862335</td>\n",
       "      <td>11858</td>\n",
       "      <td>0.759382</td>\n",
       "      <td>1</td>\n",
       "    </tr>\n",
       "    <tr>\n",
       "      <th>3258</th>\n",
       "      <td>12253</td>\n",
       "      <td>437.942993</td>\n",
       "      <td>177.751053</td>\n",
       "      <td>89.389755</td>\n",
       "      <td>0.864349</td>\n",
       "      <td>12595</td>\n",
       "      <td>0.614925</td>\n",
       "      <td>1</td>\n",
       "    </tr>\n",
       "    <tr>\n",
       "      <th>3259</th>\n",
       "      <td>13089</td>\n",
       "      <td>458.076996</td>\n",
       "      <td>182.109207</td>\n",
       "      <td>92.589798</td>\n",
       "      <td>0.861103</td>\n",
       "      <td>13562</td>\n",
       "      <td>0.712909</td>\n",
       "      <td>1</td>\n",
       "    </tr>\n",
       "  </tbody>\n",
       "</table>\n",
       "<p>3260 rows × 8 columns</p>\n",
       "</div>"
      ],
      "text/plain": [
       "       Area   Perimeter  Major_Axis_Length  Minor_Axis_Length  Eccentricity  \\\n",
       "0     15231  525.578979         229.749878          85.093788      0.928882   \n",
       "1     14656  494.311005         206.020065          91.730972      0.895405   \n",
       "2     14634  501.122009         214.106781          87.768288      0.912118   \n",
       "3     13176  458.342987         193.337387          87.448395      0.891861   \n",
       "4     14688  507.166992         211.743378          89.312454      0.906691   \n",
       "...     ...         ...                ...                ...           ...   \n",
       "3255  10627  411.441010         172.261276          79.841049      0.886103   \n",
       "3256  11540  427.319000         174.082809          85.417870      0.871343   \n",
       "3257  11494  433.058014         171.582459          86.878693      0.862335   \n",
       "3258  12253  437.942993         177.751053          89.389755      0.864349   \n",
       "3259  13089  458.076996         182.109207          92.589798      0.861103   \n",
       "\n",
       "      Convex_Area    Extent  Class  \n",
       "0           15617  0.572896      0  \n",
       "1           15072  0.615436      0  \n",
       "2           14954  0.693259      0  \n",
       "3           13368  0.640669      0  \n",
       "4           15262  0.646024      0  \n",
       "...           ...       ...    ...  \n",
       "3255        10800  0.802401      1  \n",
       "3256        11829  0.745189      1  \n",
       "3257        11858  0.759382      1  \n",
       "3258        12595  0.614925      1  \n",
       "3259        13562  0.712909      1  \n",
       "\n",
       "[3260 rows x 8 columns]"
      ]
     },
     "execution_count": 3,
     "metadata": {},
     "output_type": "execute_result"
    }
   ],
   "source": [
    "df = pd.read_csv('Rice_Cammeo_Osmancik.csv')\n",
    "df"
   ]
  },
  {
   "cell_type": "markdown",
   "id": "ea9c2086",
   "metadata": {},
   "source": [
    "### Split Train and test sets and feature scaling"
   ]
  },
  {
   "cell_type": "code",
   "execution_count": 4,
   "id": "d40efbe5",
   "metadata": {},
   "outputs": [],
   "source": [
    "df_features = df.loc[:,'Area':'Extent']\n",
    "df_class = df.loc[:,'Class']"
   ]
  },
  {
   "cell_type": "code",
   "execution_count": 5,
   "id": "59d051ac",
   "metadata": {},
   "outputs": [
    {
     "name": "stdout",
     "output_type": "stream",
     "text": [
      "(2608, 7)\n",
      "(652, 7)\n",
      "No. of samples in each class in training set \n"
     ]
    },
    {
     "data": {
      "text/plain": [
       "1    1313\n",
       "0    1295\n",
       "Name: Class, dtype: int64"
      ]
     },
     "execution_count": 5,
     "metadata": {},
     "output_type": "execute_result"
    }
   ],
   "source": [
    "from sklearn.model_selection import train_test_split\n",
    "from sklearn.preprocessing import StandardScaler\n",
    "\n",
    "X_train, X_test, y_train, y_test = train_test_split(df_features,df_class,test_size=0.2)\n",
    "stdsc = StandardScaler()\n",
    "X_train_std = stdsc.fit_transform(X_train)\n",
    "X_test_std = stdsc.transform(X_test)\n",
    "print(X_train_std.shape)\n",
    "print(X_test_std.shape)\n",
    "print(\"No. of samples in each class in training set \")\n",
    "y_train.value_counts()"
   ]
  },
  {
   "cell_type": "markdown",
   "id": "dd090808",
   "metadata": {},
   "source": [
    "### Define Hyperparameter space"
   ]
  },
  {
   "cell_type": "code",
   "execution_count": 14,
   "id": "2118b111",
   "metadata": {},
   "outputs": [],
   "source": [
    "from hyperopt import fmin, tpe, hp,  STATUS_OK, Trials\n",
    "from hyperopt.pyll.base import scope\n",
    "from sklearn.metrics import roc_auc_score\n",
    "from functools import partial"
   ]
  },
  {
   "cell_type": "markdown",
   "id": "68c284e8",
   "metadata": {},
   "source": [
    "Define the domain of hyperparameters using a python dictionary.\n",
    "\n",
    "During each iteration of the hyperopt:\n",
    "\n",
    "* `hp.choice(label,options)` chooses one of the provided options.\n",
    "\n",
    "* `hp.quniform(label, low, high, q)` Returns a value like `round(uniform(low, high) / q) * q` Suitable for a discrete value with respect to which the objective is still somewhat \"smooth\", but which should be bounded both above and below.\n",
    "\n",
    "\n",
    "\n",
    "* `hp.uniform(label, low, high)` Returns a value uniformly between `low` & `high`. Returns non integer values. So you will need to round it up if the hyperparameter can be integers only.\n",
    "\n",
    "\n",
    "\n",
    "* `hp.qloguniform(label, low, high, q)`\n",
    "Returns a value like `round(exp(uniform(low, high)) / q) * q`\n",
    "Suitable for a discrete variable with respect to which the objective is \"smooth\" and gets smoother with the size of the value, but which should be bounded both above and below"
   ]
  },
  {
   "cell_type": "markdown",
   "id": "47a865b8",
   "metadata": {},
   "source": [
    "Lets define two hyperparameter spaces."
   ]
  },
  {
   "cell_type": "code",
   "execution_count": 9,
   "id": "64c8c102",
   "metadata": {},
   "outputs": [],
   "source": [
    "'''\n",
    "Only discrete choices are provided\n",
    "'''\n",
    "nn_space_1 = {\n",
    "            'num_nodes': hp.choice('num_nodes',[10,25,50,75,100,125,150,175,200,250,300,350,400]),\n",
    "            'optimizer': hp.choice('optimizer',[ 'sgd', 'adam']),\n",
    "            'batch': hp.choice('batch',[10,20,30,50]),\n",
    "            'learning_rate_init': hp.choice('learning_rate_init',[0.01,0.05,0.001,0.005,0.0005,0.0001,0.00001,0.00005]),\n",
    "            'alpha': hp.choice('alpha',[0,0.01,0.05,0.001,0.005,0.0005,0.0001,0.00001,0.00005])\n",
    "        }\n",
    "\n",
    "'''\n",
    "Instead of options, range is provided\n",
    "'''\n",
    "nn_space_2 = {\n",
    "            'num_nodes': scope.int(hp.quniform('num_nodes',10,400,1)),\n",
    "            'optimizer': hp.choice('optimizer',['sgd', 'adam']),\n",
    "            'batch': scope.int(hp.quniform('batch',10,50,1)),\n",
    "            'learning_rate_init': hp.uniform('learning_rate_init',0.00005,0.01),\n",
    "            'alpha': hp.qloguniform('alpha',0,1,1)\n",
    "        }"
   ]
  },
  {
   "cell_type": "markdown",
   "id": "eb266ced",
   "metadata": {},
   "source": [
    "### Define objective function\n",
    "\n",
    "* You can also put additional parameters in the function `nn1_model` below. `nn1_model` has only one hidden layer.\n",
    "* `params`: the dictionary that represents the hyperparameter space.\n",
    "* The value of `'loss'` returned by this function is what we want to optimize over the hyperparameter space. You can also return additional items.\n",
    "* Note here if you want to maximize `accuracy` or `area under the curve`, you will need to return the negative of it. Because by default the objective function is considered to be minimized by hyperopt. \n",
    "* Minimizing `negative of accuracy` is same as maximixing `accuracy`."
   ]
  },
  {
   "cell_type": "code",
   "execution_count": 15,
   "id": "0c59d4a9",
   "metadata": {},
   "outputs": [],
   "source": [
    "from sklearn.neural_network import MLPClassifier\n",
    "\n",
    "def nn1_model_obj(params,Training_features,Training_class):\n",
    "    \n",
    "    model = MLPClassifier(hidden_layer_sizes=(params['num_nodes'],),\n",
    "                          activation='relu', # activation in the hidden layers\n",
    "                          solver = params['optimizer'], # optimizer name\n",
    "                          alpha = params['alpha'], # L2 regularization parameter\n",
    "                          batch_size = params['batch'], # batch size\n",
    "                          learning_rate = 'constant', \n",
    "                          learning_rate_init = params['learning_rate_init'], # learning rate\n",
    "                          early_stopping=True, # how to stop training the model\n",
    "                          validation_fraction=0.1, # how much of training set is used as validation set.\n",
    "                          n_iter_no_change = 10)\n",
    "    '''\n",
    "    suggest to make verbose = 0 so that it doesn't print the progress of model training for every iteration of hyper parameter optimization\n",
    "    '''\n",
    "    model.fit(Training_features,Training_class)\n",
    "    print(model)\n",
    "    '''\n",
    "    note: solver sgd and adam can return binary loss entropy values. but ‘lbfgs’ cannot.\n",
    "    '''\n",
    "    val_loss = min(model.loss_curve_)\n",
    "    return {'loss': val_loss,'status': STATUS_OK, 'Trained_Model': model} \n",
    "#returning a dictionary that contains loss, status of the optimization process, and the trained model"
   ]
  },
  {
   "cell_type": "markdown",
   "id": "617450e0",
   "metadata": {},
   "source": [
    "## Run the hyperparameter optimization\n",
    "\n",
    "* `nn1_model_obj` : objective function you want to minimize\n",
    "* `X_train_std`, `y_train` : training data and class labels\n",
    "* `nn1_space`: Hyperparameter space\n",
    "* `algo`: bayesian algorithm to be used\n",
    "* `max_evals`: number of iterations\n",
    "* `trials` : object where the results are stored\n",
    "\n",
    "The number of `max_evals` is set to 50 for illustration purpose. Higher this value, better it is. Recommended value is >= 50."
   ]
  },
  {
   "cell_type": "markdown",
   "id": "f215625c",
   "metadata": {},
   "source": [
    "#### Run the hyperparameter optimization on first space"
   ]
  },
  {
   "cell_type": "code",
   "execution_count": 16,
   "id": "578f5738",
   "metadata": {},
   "outputs": [
    {
     "name": "stdout",
     "output_type": "stream",
     "text": [
      "MLPClassifier(alpha=0.005, batch_size=30, early_stopping=True,                                                         \n",
      "              hidden_layer_sizes=(25,), learning_rate_init=0.0001,\n",
      "              solver='sgd')\n",
      "MLPClassifier(alpha=1e-05, batch_size=20, early_stopping=True,                                                         \n",
      "              hidden_layer_sizes=(350,), learning_rate_init=0.0005,\n",
      "              solver='sgd')\n",
      "MLPClassifier(batch_size=50, early_stopping=True, hidden_layer_sizes=(10,),                                            \n",
      "              learning_rate_init=0.01)\n",
      "MLPClassifier(alpha=0.05, batch_size=30, early_stopping=True,                                                          \n",
      "              hidden_layer_sizes=(250,), learning_rate_init=1e-05,\n",
      "              solver='sgd')\n",
      "MLPClassifier(alpha=0.005, batch_size=10, early_stopping=True,                                                         \n",
      "              hidden_layer_sizes=(350,), learning_rate_init=0.005)\n",
      "MLPClassifier(alpha=5e-05, batch_size=50, early_stopping=True,                                                         \n",
      "              hidden_layer_sizes=(250,), learning_rate_init=5e-05,\n",
      "              solver='sgd')\n",
      "MLPClassifier(alpha=0.01, batch_size=30, early_stopping=True,                                                          \n",
      "              hidden_layer_sizes=(150,), learning_rate_init=5e-05,\n",
      "              solver='sgd')\n",
      "MLPClassifier(alpha=1e-05, batch_size=50, early_stopping=True,                                                         \n",
      "              hidden_layer_sizes=(175,), learning_rate_init=5e-05)\n",
      "MLPClassifier(alpha=0.01, batch_size=30, early_stopping=True,                                                          \n",
      "              hidden_layer_sizes=(150,), learning_rate_init=0.0005,\n",
      "              solver='sgd')\n",
      "MLPClassifier(batch_size=10, early_stopping=True, hidden_layer_sizes=(200,),                                           \n",
      "              learning_rate_init=0.0001)\n",
      "MLPClassifier(alpha=0.05, batch_size=30, early_stopping=True,                                                          \n",
      "              hidden_layer_sizes=(175,), learning_rate_init=1e-05)\n",
      "MLPClassifier(alpha=0.001, batch_size=50, early_stopping=True,                                                         \n",
      "              hidden_layer_sizes=(125,), learning_rate_init=0.005,\n",
      "              solver='sgd')\n",
      "MLPClassifier(alpha=0.01, batch_size=30, early_stopping=True,                                                          \n",
      "              hidden_layer_sizes=(25,), learning_rate_init=1e-05, solver='sgd')\n",
      "MLPClassifier(alpha=0.0005, batch_size=10, early_stopping=True,                                                        \n",
      "              hidden_layer_sizes=(50,), learning_rate_init=0.0001)\n",
      "MLPClassifier(alpha=0.01, batch_size=50, early_stopping=True,                                                          \n",
      "              hidden_layer_sizes=(200,), learning_rate_init=0.0005,\n",
      "              solver='sgd')\n",
      "MLPClassifier(alpha=0.005, batch_size=10, early_stopping=True,                                                         \n",
      "              hidden_layer_sizes=(350,), learning_rate_init=0.05)\n",
      "MLPClassifier(alpha=1e-05, batch_size=10, early_stopping=True,                                                         \n",
      "              hidden_layer_sizes=(150,), learning_rate_init=5e-05,\n",
      "              solver='sgd')\n",
      "MLPClassifier(alpha=5e-05, batch_size=10, early_stopping=True,                                                         \n",
      "              hidden_layer_sizes=(75,), learning_rate_init=0.05)\n",
      "MLPClassifier(alpha=0.005, batch_size=30, early_stopping=True,                                                         \n",
      "              hidden_layer_sizes=(200,), learning_rate_init=0.005,\n",
      "              solver='sgd')\n",
      "MLPClassifier(alpha=0.01, batch_size=50, early_stopping=True,                                                          \n",
      "              hidden_layer_sizes=(150,), learning_rate_init=0.0005,\n",
      "              solver='sgd')\n",
      "MLPClassifier(batch_size=20, early_stopping=True, hidden_layer_sizes=(10,),                                            \n",
      "              learning_rate_init=0.01)\n",
      "MLPClassifier(batch_size=20, early_stopping=True, hidden_layer_sizes=(400,))                                           \n",
      "MLPClassifier(alpha=0, batch_size=20, early_stopping=True,                                                             \n",
      "              hidden_layer_sizes=(10,), learning_rate_init=0.01)\n",
      "MLPClassifier(batch_size=20, early_stopping=True, learning_rate_init=0.01)                                             \n",
      "MLPClassifier(batch_size=20, early_stopping=True, hidden_layer_sizes=(300,),                                           \n",
      "              learning_rate_init=0.0001)\n",
      "MLPClassifier(batch_size=10, early_stopping=True, hidden_layer_sizes=(10,))                                            \n",
      "MLPClassifier(batch_size=20, early_stopping=True, hidden_layer_sizes=(200,),                                           \n",
      "              learning_rate_init=0.0001)\n",
      "MLPClassifier(alpha=0, batch_size=10, early_stopping=True,                                                             \n",
      "              hidden_layer_sizes=(10,), learning_rate_init=0.01)\n",
      "MLPClassifier(alpha=0.0005, batch_size=20, early_stopping=True,                                                        \n",
      "              hidden_layer_sizes=(200,), learning_rate_init=0.0001)\n",
      "MLPClassifier(alpha=0.001, batch_size=10, early_stopping=True,                                                         \n",
      "              hidden_layer_sizes=(400,), learning_rate_init=0.01)\n",
      "MLPClassifier(batch_size=20, early_stopping=True, learning_rate_init=0.0001)                                           \n",
      "MLPClassifier(batch_size=20, early_stopping=True, hidden_layer_sizes=(75,),                                            \n",
      "              learning_rate_init=0.01)\n",
      "MLPClassifier(alpha=0.05, batch_size=10, early_stopping=True,                                                          \n",
      "              hidden_layer_sizes=(300,), learning_rate_init=0.05)\n",
      "MLPClassifier(batch_size=20, early_stopping=True, hidden_layer_sizes=(50,))                                            \n",
      "MLPClassifier(alpha=5e-05, batch_size=20, early_stopping=True,                                                         \n",
      "              hidden_layer_sizes=(50,))\n",
      "MLPClassifier(alpha=0, batch_size=20, early_stopping=True,                                                             \n",
      "              hidden_layer_sizes=(50,))\n",
      "MLPClassifier(alpha=0.0005, batch_size=20, early_stopping=True,                                                        \n",
      "              hidden_layer_sizes=(50,))\n",
      "MLPClassifier(alpha=0.0005, batch_size=20, early_stopping=True,                                                        \n",
      "              hidden_layer_sizes=(250,))\n",
      "MLPClassifier(alpha=0.0005, batch_size=20, early_stopping=True,                                                        \n",
      "              hidden_layer_sizes=(125,), learning_rate_init=0.01)\n",
      "MLPClassifier(alpha=0.0005, batch_size=20, early_stopping=True,                                                        \n",
      "              hidden_layer_sizes=(50,), learning_rate_init=1e-05)\n",
      "MLPClassifier(alpha=1e-05, batch_size=20, early_stopping=True,                                                         \n",
      "              hidden_layer_sizes=(25,), learning_rate_init=0.005)\n",
      "MLPClassifier(alpha=0.001, batch_size=50, early_stopping=True,                                                         \n",
      "              hidden_layer_sizes=(10,), learning_rate_init=5e-05)\n",
      "MLPClassifier(alpha=0.05, batch_size=30, early_stopping=True,                                                          \n",
      "              hidden_layer_sizes=(175,), solver='sgd')\n",
      "MLPClassifier(alpha=0.0005, batch_size=20, early_stopping=True,                                                        \n",
      "              hidden_layer_sizes=(350,), learning_rate_init=0.0005)\n",
      "MLPClassifier(alpha=0.005, batch_size=50, early_stopping=True,                                                         \n",
      "              hidden_layer_sizes=(250,), learning_rate_init=0.01, solver='sgd')\n",
      "MLPClassifier(alpha=5e-05, batch_size=30, early_stopping=True,                                                         \n",
      "              hidden_layer_sizes=(10,), learning_rate_init=1e-05)\n",
      "MLPClassifier(alpha=0.0005, batch_size=20, early_stopping=True,                                                        \n",
      "              hidden_layer_sizes=(125,), learning_rate_init=0.05)\n",
      "MLPClassifier(alpha=1e-05, batch_size=20, early_stopping=True,                                                         \n",
      "              hidden_layer_sizes=(25,), learning_rate_init=5e-05, solver='sgd')\n",
      "MLPClassifier(alpha=0.001, batch_size=30, early_stopping=True,                                                         \n",
      "              hidden_layer_sizes=(50,), learning_rate_init=0.005)\n",
      "MLPClassifier(alpha=0.05, batch_size=50, early_stopping=True,                                                          \n",
      "              hidden_layer_sizes=(75,), solver='sgd')\n",
      "100%|█████████████████████████████████████████████████| 50/50 [00:27<00:00,  1.79trial/s, best loss: 0.174813922687737]\n",
      "{'alpha': 5, 'batch': 1, 'learning_rate_init': 2, 'num_nodes': 2, 'optimizer': 1}\n"
     ]
    }
   ],
   "source": [
    "trials1 =Trials()\n",
    "best_model = fmin(partial(nn1_model_obj,Training_features=X_train_std,Training_class=y_train),nn_space_1,algo=tpe.suggest,max_evals=50,trials=trials1)\n",
    "print(best_model)"
   ]
  },
  {
   "cell_type": "markdown",
   "id": "a3a4280e",
   "metadata": {},
   "source": [
    "### Explore the results \n",
    "\n",
    "* `trials1` : object where the results of hyperparameter optimization process is stored. More here http://hyperopt.github.io/hyperopt/getting-started/minimizing_functions/\n"
   ]
  },
  {
   "cell_type": "code",
   "execution_count": 19,
   "id": "e8ceb6d4",
   "metadata": {},
   "outputs": [
    {
     "name": "stdout",
     "output_type": "stream",
     "text": [
      "{'state': 2, 'tid': 0, 'spec': None, 'result': {'loss': 0.2580781688266739, 'status': 'ok', 'Trained_Model': MLPClassifier(alpha=0.005, batch_size=30, early_stopping=True,\n",
      "              hidden_layer_sizes=(25,), learning_rate_init=0.0001,\n",
      "              solver='sgd')}, 'misc': {'tid': 0, 'cmd': ('domain_attachment', 'FMinIter_Domain'), 'workdir': None, 'idxs': {'alpha': [0], 'batch': [0], 'learning_rate_init': [0], 'num_nodes': [0], 'optimizer': [0]}, 'vals': {'alpha': [4], 'batch': [2], 'learning_rate_init': [5], 'num_nodes': [1], 'optimizer': [0]}}, 'exp_key': None, 'owner': None, 'version': 0, 'book_time': datetime.datetime(2022, 10, 10, 16, 36, 30, 423000), 'refresh_time': datetime.datetime(2022, 10, 10, 16, 36, 30, 741000)}\n",
      "{'state': 2, 'tid': 1, 'spec': None, 'result': {'loss': 0.19343532683426828, 'status': 'ok', 'Trained_Model': MLPClassifier(alpha=1e-05, batch_size=20, early_stopping=True,\n",
      "              hidden_layer_sizes=(350,), learning_rate_init=0.0005,\n",
      "              solver='sgd')}, 'misc': {'tid': 1, 'cmd': ('domain_attachment', 'FMinIter_Domain'), 'workdir': None, 'idxs': {'alpha': [1], 'batch': [1], 'learning_rate_init': [1], 'num_nodes': [1], 'optimizer': [1]}, 'vals': {'alpha': [7], 'batch': [1], 'learning_rate_init': [4], 'num_nodes': [11], 'optimizer': [0]}}, 'exp_key': None, 'owner': None, 'version': 0, 'book_time': datetime.datetime(2022, 10, 10, 16, 36, 30, 743000), 'refresh_time': datetime.datetime(2022, 10, 10, 16, 36, 31, 214000)}\n",
      "{'state': 2, 'tid': 2, 'spec': None, 'result': {'loss': 0.17938236565904397, 'status': 'ok', 'Trained_Model': MLPClassifier(batch_size=50, early_stopping=True, hidden_layer_sizes=(10,),\n",
      "              learning_rate_init=0.01)}, 'misc': {'tid': 2, 'cmd': ('domain_attachment', 'FMinIter_Domain'), 'workdir': None, 'idxs': {'alpha': [2], 'batch': [2], 'learning_rate_init': [2], 'num_nodes': [2], 'optimizer': [2]}, 'vals': {'alpha': [6], 'batch': [3], 'learning_rate_init': [0], 'num_nodes': [0], 'optimizer': [1]}}, 'exp_key': None, 'owner': None, 'version': 0, 'book_time': datetime.datetime(2022, 10, 10, 16, 36, 31, 219000), 'refresh_time': datetime.datetime(2022, 10, 10, 16, 36, 31, 387000)}\n",
      "{'state': 2, 'tid': 3, 'spec': None, 'result': {'loss': 0.4913525780146946, 'status': 'ok', 'Trained_Model': MLPClassifier(alpha=0.05, batch_size=30, early_stopping=True,\n",
      "              hidden_layer_sizes=(250,), learning_rate_init=1e-05,\n",
      "              solver='sgd')}, 'misc': {'tid': 3, 'cmd': ('domain_attachment', 'FMinIter_Domain'), 'workdir': None, 'idxs': {'alpha': [3], 'batch': [3], 'learning_rate_init': [3], 'num_nodes': [3], 'optimizer': [3]}, 'vals': {'alpha': [2], 'batch': [2], 'learning_rate_init': [6], 'num_nodes': [9], 'optimizer': [0]}}, 'exp_key': None, 'owner': None, 'version': 0, 'book_time': datetime.datetime(2022, 10, 10, 16, 36, 31, 389000), 'refresh_time': datetime.datetime(2022, 10, 10, 16, 36, 32, 254000)}\n",
      "{'state': 2, 'tid': 4, 'spec': None, 'result': {'loss': 0.18489081636310953, 'status': 'ok', 'Trained_Model': MLPClassifier(alpha=0.005, batch_size=10, early_stopping=True,\n",
      "              hidden_layer_sizes=(350,), learning_rate_init=0.005)}, 'misc': {'tid': 4, 'cmd': ('domain_attachment', 'FMinIter_Domain'), 'workdir': None, 'idxs': {'alpha': [4], 'batch': [4], 'learning_rate_init': [4], 'num_nodes': [4], 'optimizer': [4]}, 'vals': {'alpha': [4], 'batch': [0], 'learning_rate_init': [3], 'num_nodes': [11], 'optimizer': [1]}}, 'exp_key': None, 'owner': None, 'version': 0, 'book_time': datetime.datetime(2022, 10, 10, 16, 36, 32, 257000), 'refresh_time': datetime.datetime(2022, 10, 10, 16, 36, 33, 104000)}\n",
      "{'state': 2, 'tid': 5, 'spec': None, 'result': {'loss': 0.4078929100554588, 'status': 'ok', 'Trained_Model': MLPClassifier(alpha=5e-05, batch_size=50, early_stopping=True,\n",
      "              hidden_layer_sizes=(250,), learning_rate_init=5e-05,\n",
      "              solver='sgd')}, 'misc': {'tid': 5, 'cmd': ('domain_attachment', 'FMinIter_Domain'), 'workdir': None, 'idxs': {'alpha': [5], 'batch': [5], 'learning_rate_init': [5], 'num_nodes': [5], 'optimizer': [5]}, 'vals': {'alpha': [8], 'batch': [3], 'learning_rate_init': [7], 'num_nodes': [9], 'optimizer': [0]}}, 'exp_key': None, 'owner': None, 'version': 0, 'book_time': datetime.datetime(2022, 10, 10, 16, 36, 33, 107000), 'refresh_time': datetime.datetime(2022, 10, 10, 16, 36, 33, 543000)}\n",
      "{'state': 2, 'tid': 6, 'spec': None, 'result': {'loss': 0.3395549436595578, 'status': 'ok', 'Trained_Model': MLPClassifier(alpha=0.01, batch_size=30, early_stopping=True,\n",
      "              hidden_layer_sizes=(150,), learning_rate_init=5e-05,\n",
      "              solver='sgd')}, 'misc': {'tid': 6, 'cmd': ('domain_attachment', 'FMinIter_Domain'), 'workdir': None, 'idxs': {'alpha': [6], 'batch': [6], 'learning_rate_init': [6], 'num_nodes': [6], 'optimizer': [6]}, 'vals': {'alpha': [1], 'batch': [2], 'learning_rate_init': [7], 'num_nodes': [6], 'optimizer': [0]}}, 'exp_key': None, 'owner': None, 'version': 0, 'book_time': datetime.datetime(2022, 10, 10, 16, 36, 33, 546000), 'refresh_time': datetime.datetime(2022, 10, 10, 16, 36, 34, 33000)}\n",
      "{'state': 2, 'tid': 7, 'spec': None, 'result': {'loss': 0.29459584230659486, 'status': 'ok', 'Trained_Model': MLPClassifier(alpha=1e-05, batch_size=50, early_stopping=True,\n",
      "              hidden_layer_sizes=(175,), learning_rate_init=5e-05)}, 'misc': {'tid': 7, 'cmd': ('domain_attachment', 'FMinIter_Domain'), 'workdir': None, 'idxs': {'alpha': [7], 'batch': [7], 'learning_rate_init': [7], 'num_nodes': [7], 'optimizer': [7]}, 'vals': {'alpha': [7], 'batch': [3], 'learning_rate_init': [7], 'num_nodes': [7], 'optimizer': [1]}}, 'exp_key': None, 'owner': None, 'version': 0, 'book_time': datetime.datetime(2022, 10, 10, 16, 36, 34, 38000), 'refresh_time': datetime.datetime(2022, 10, 10, 16, 36, 34, 316000)}\n",
      "{'state': 2, 'tid': 8, 'spec': None, 'result': {'loss': 0.19870615620153867, 'status': 'ok', 'Trained_Model': MLPClassifier(alpha=0.01, batch_size=30, early_stopping=True,\n",
      "              hidden_layer_sizes=(150,), learning_rate_init=0.0005,\n",
      "              solver='sgd')}, 'misc': {'tid': 8, 'cmd': ('domain_attachment', 'FMinIter_Domain'), 'workdir': None, 'idxs': {'alpha': [8], 'batch': [8], 'learning_rate_init': [8], 'num_nodes': [8], 'optimizer': [8]}, 'vals': {'alpha': [1], 'batch': [2], 'learning_rate_init': [4], 'num_nodes': [6], 'optimizer': [0]}}, 'exp_key': None, 'owner': None, 'version': 0, 'book_time': datetime.datetime(2022, 10, 10, 16, 36, 34, 320000), 'refresh_time': datetime.datetime(2022, 10, 10, 16, 36, 34, 634000)}\n",
      "{'state': 2, 'tid': 9, 'spec': None, 'result': {'loss': 0.1760823880637695, 'status': 'ok', 'Trained_Model': MLPClassifier(batch_size=10, early_stopping=True, hidden_layer_sizes=(200,),\n",
      "              learning_rate_init=0.0001)}, 'misc': {'tid': 9, 'cmd': ('domain_attachment', 'FMinIter_Domain'), 'workdir': None, 'idxs': {'alpha': [9], 'batch': [9], 'learning_rate_init': [9], 'num_nodes': [9], 'optimizer': [9]}, 'vals': {'alpha': [6], 'batch': [0], 'learning_rate_init': [5], 'num_nodes': [8], 'optimizer': [1]}}, 'exp_key': None, 'owner': None, 'version': 0, 'book_time': datetime.datetime(2022, 10, 10, 16, 36, 34, 637000), 'refresh_time': datetime.datetime(2022, 10, 10, 16, 36, 35, 544000)}\n",
      "{'state': 2, 'tid': 10, 'spec': None, 'result': {'loss': 0.3997304362460272, 'status': 'ok', 'Trained_Model': MLPClassifier(alpha=0.05, batch_size=30, early_stopping=True,\n",
      "              hidden_layer_sizes=(175,), learning_rate_init=1e-05)}, 'misc': {'tid': 10, 'cmd': ('domain_attachment', 'FMinIter_Domain'), 'workdir': None, 'idxs': {'alpha': [10], 'batch': [10], 'learning_rate_init': [10], 'num_nodes': [10], 'optimizer': [10]}, 'vals': {'alpha': [2], 'batch': [2], 'learning_rate_init': [6], 'num_nodes': [7], 'optimizer': [1]}}, 'exp_key': None, 'owner': None, 'version': 0, 'book_time': datetime.datetime(2022, 10, 10, 16, 36, 35, 547000), 'refresh_time': datetime.datetime(2022, 10, 10, 16, 36, 36, 76000)}\n",
      "{'state': 2, 'tid': 11, 'spec': None, 'result': {'loss': 0.18173281450286302, 'status': 'ok', 'Trained_Model': MLPClassifier(alpha=0.001, batch_size=50, early_stopping=True,\n",
      "              hidden_layer_sizes=(125,), learning_rate_init=0.005,\n",
      "              solver='sgd')}, 'misc': {'tid': 11, 'cmd': ('domain_attachment', 'FMinIter_Domain'), 'workdir': None, 'idxs': {'alpha': [11], 'batch': [11], 'learning_rate_init': [11], 'num_nodes': [11], 'optimizer': [11]}, 'vals': {'alpha': [3], 'batch': [3], 'learning_rate_init': [3], 'num_nodes': [5], 'optimizer': [0]}}, 'exp_key': None, 'owner': None, 'version': 0, 'book_time': datetime.datetime(2022, 10, 10, 16, 36, 36, 80000), 'refresh_time': datetime.datetime(2022, 10, 10, 16, 36, 36, 325000)}\n",
      "{'state': 2, 'tid': 12, 'spec': None, 'result': {'loss': 0.7015891249622973, 'status': 'ok', 'Trained_Model': MLPClassifier(alpha=0.01, batch_size=30, early_stopping=True,\n",
      "              hidden_layer_sizes=(25,), learning_rate_init=1e-05, solver='sgd')}, 'misc': {'tid': 12, 'cmd': ('domain_attachment', 'FMinIter_Domain'), 'workdir': None, 'idxs': {'alpha': [12], 'batch': [12], 'learning_rate_init': [12], 'num_nodes': [12], 'optimizer': [12]}, 'vals': {'alpha': [1], 'batch': [2], 'learning_rate_init': [6], 'num_nodes': [1], 'optimizer': [0]}}, 'exp_key': None, 'owner': None, 'version': 0, 'book_time': datetime.datetime(2022, 10, 10, 16, 36, 36, 328000), 'refresh_time': datetime.datetime(2022, 10, 10, 16, 36, 36, 511000)}\n",
      "{'state': 2, 'tid': 13, 'spec': None, 'result': {'loss': 0.18615612171920226, 'status': 'ok', 'Trained_Model': MLPClassifier(alpha=0.0005, batch_size=10, early_stopping=True,\n",
      "              hidden_layer_sizes=(50,), learning_rate_init=0.0001)}, 'misc': {'tid': 13, 'cmd': ('domain_attachment', 'FMinIter_Domain'), 'workdir': None, 'idxs': {'alpha': [13], 'batch': [13], 'learning_rate_init': [13], 'num_nodes': [13], 'optimizer': [13]}, 'vals': {'alpha': [5], 'batch': [0], 'learning_rate_init': [5], 'num_nodes': [2], 'optimizer': [1]}}, 'exp_key': None, 'owner': None, 'version': 0, 'book_time': datetime.datetime(2022, 10, 10, 16, 36, 36, 514000), 'refresh_time': datetime.datetime(2022, 10, 10, 16, 36, 37, 224000)}\n",
      "{'state': 2, 'tid': 14, 'spec': None, 'result': {'loss': 0.2102233190520137, 'status': 'ok', 'Trained_Model': MLPClassifier(alpha=0.01, batch_size=50, early_stopping=True,\n",
      "              hidden_layer_sizes=(200,), learning_rate_init=0.0005,\n",
      "              solver='sgd')}, 'misc': {'tid': 14, 'cmd': ('domain_attachment', 'FMinIter_Domain'), 'workdir': None, 'idxs': {'alpha': [14], 'batch': [14], 'learning_rate_init': [14], 'num_nodes': [14], 'optimizer': [14]}, 'vals': {'alpha': [1], 'batch': [3], 'learning_rate_init': [4], 'num_nodes': [8], 'optimizer': [0]}}, 'exp_key': None, 'owner': None, 'version': 0, 'book_time': datetime.datetime(2022, 10, 10, 16, 36, 37, 227000), 'refresh_time': datetime.datetime(2022, 10, 10, 16, 36, 37, 601000)}\n",
      "{'state': 2, 'tid': 15, 'spec': None, 'result': {'loss': 0.20352574379375765, 'status': 'ok', 'Trained_Model': MLPClassifier(alpha=0.005, batch_size=10, early_stopping=True,\n",
      "              hidden_layer_sizes=(350,), learning_rate_init=0.05)}, 'misc': {'tid': 15, 'cmd': ('domain_attachment', 'FMinIter_Domain'), 'workdir': None, 'idxs': {'alpha': [15], 'batch': [15], 'learning_rate_init': [15], 'num_nodes': [15], 'optimizer': [15]}, 'vals': {'alpha': [4], 'batch': [0], 'learning_rate_init': [1], 'num_nodes': [11], 'optimizer': [1]}}, 'exp_key': None, 'owner': None, 'version': 0, 'book_time': datetime.datetime(2022, 10, 10, 16, 36, 37, 604000), 'refresh_time': datetime.datetime(2022, 10, 10, 16, 36, 39, 301000)}\n",
      "{'state': 2, 'tid': 16, 'spec': None, 'result': {'loss': 0.22154453109416297, 'status': 'ok', 'Trained_Model': MLPClassifier(alpha=1e-05, batch_size=10, early_stopping=True,\n",
      "              hidden_layer_sizes=(150,), learning_rate_init=5e-05,\n",
      "              solver='sgd')}, 'misc': {'tid': 16, 'cmd': ('domain_attachment', 'FMinIter_Domain'), 'workdir': None, 'idxs': {'alpha': [16], 'batch': [16], 'learning_rate_init': [16], 'num_nodes': [16], 'optimizer': [16]}, 'vals': {'alpha': [7], 'batch': [0], 'learning_rate_init': [7], 'num_nodes': [6], 'optimizer': [0]}}, 'exp_key': None, 'owner': None, 'version': 0, 'book_time': datetime.datetime(2022, 10, 10, 16, 36, 39, 304000), 'refresh_time': datetime.datetime(2022, 10, 10, 16, 36, 40, 762000)}\n",
      "{'state': 2, 'tid': 17, 'spec': None, 'result': {'loss': 0.18678078628837574, 'status': 'ok', 'Trained_Model': MLPClassifier(alpha=5e-05, batch_size=10, early_stopping=True,\n",
      "              hidden_layer_sizes=(75,), learning_rate_init=0.05)}, 'misc': {'tid': 17, 'cmd': ('domain_attachment', 'FMinIter_Domain'), 'workdir': None, 'idxs': {'alpha': [17], 'batch': [17], 'learning_rate_init': [17], 'num_nodes': [17], 'optimizer': [17]}, 'vals': {'alpha': [8], 'batch': [0], 'learning_rate_init': [1], 'num_nodes': [3], 'optimizer': [1]}}, 'exp_key': None, 'owner': None, 'version': 0, 'book_time': datetime.datetime(2022, 10, 10, 16, 36, 40, 765000), 'refresh_time': datetime.datetime(2022, 10, 10, 16, 36, 41, 355000)}\n",
      "{'state': 2, 'tid': 18, 'spec': None, 'result': {'loss': 0.18066562983869106, 'status': 'ok', 'Trained_Model': MLPClassifier(alpha=0.005, batch_size=30, early_stopping=True,\n",
      "              hidden_layer_sizes=(200,), learning_rate_init=0.005,\n",
      "              solver='sgd')}, 'misc': {'tid': 18, 'cmd': ('domain_attachment', 'FMinIter_Domain'), 'workdir': None, 'idxs': {'alpha': [18], 'batch': [18], 'learning_rate_init': [18], 'num_nodes': [18], 'optimizer': [18]}, 'vals': {'alpha': [4], 'batch': [2], 'learning_rate_init': [3], 'num_nodes': [8], 'optimizer': [0]}}, 'exp_key': None, 'owner': None, 'version': 0, 'book_time': datetime.datetime(2022, 10, 10, 16, 36, 41, 358000), 'refresh_time': datetime.datetime(2022, 10, 10, 16, 36, 41, 609000)}\n",
      "{'state': 2, 'tid': 19, 'spec': None, 'result': {'loss': 0.22663097312695352, 'status': 'ok', 'Trained_Model': MLPClassifier(alpha=0.01, batch_size=50, early_stopping=True,\n",
      "              hidden_layer_sizes=(150,), learning_rate_init=0.0005,\n",
      "              solver='sgd')}, 'misc': {'tid': 19, 'cmd': ('domain_attachment', 'FMinIter_Domain'), 'workdir': None, 'idxs': {'alpha': [19], 'batch': [19], 'learning_rate_init': [19], 'num_nodes': [19], 'optimizer': [19]}, 'vals': {'alpha': [1], 'batch': [3], 'learning_rate_init': [4], 'num_nodes': [6], 'optimizer': [0]}}, 'exp_key': None, 'owner': None, 'version': 0, 'book_time': datetime.datetime(2022, 10, 10, 16, 36, 41, 613000), 'refresh_time': datetime.datetime(2022, 10, 10, 16, 36, 41, 841000)}\n",
      "{'state': 2, 'tid': 20, 'spec': None, 'result': {'loss': 0.1750916661049638, 'status': 'ok', 'Trained_Model': MLPClassifier(batch_size=20, early_stopping=True, hidden_layer_sizes=(10,),\n",
      "              learning_rate_init=0.01)}, 'misc': {'tid': 20, 'cmd': ('domain_attachment', 'FMinIter_Domain'), 'workdir': None, 'idxs': {'alpha': [20], 'batch': [20], 'learning_rate_init': [20], 'num_nodes': [20], 'optimizer': [20]}, 'vals': {'alpha': [6], 'batch': [1], 'learning_rate_init': [0], 'num_nodes': [0], 'optimizer': [1]}}, 'exp_key': None, 'owner': None, 'version': 0, 'book_time': datetime.datetime(2022, 10, 10, 16, 36, 41, 848000), 'refresh_time': datetime.datetime(2022, 10, 10, 16, 36, 42, 118000)}\n",
      "{'state': 2, 'tid': 21, 'spec': None, 'result': {'loss': 0.18268984378811487, 'status': 'ok', 'Trained_Model': MLPClassifier(batch_size=20, early_stopping=True, hidden_layer_sizes=(400,))}, 'misc': {'tid': 21, 'cmd': ('domain_attachment', 'FMinIter_Domain'), 'workdir': None, 'idxs': {'alpha': [21], 'batch': [21], 'learning_rate_init': [21], 'num_nodes': [21], 'optimizer': [21]}, 'vals': {'alpha': [6], 'batch': [1], 'learning_rate_init': [2], 'num_nodes': [12], 'optimizer': [1]}}, 'exp_key': None, 'owner': None, 'version': 0, 'book_time': datetime.datetime(2022, 10, 10, 16, 36, 42, 122000), 'refresh_time': datetime.datetime(2022, 10, 10, 16, 36, 43)}\n",
      "{'state': 2, 'tid': 22, 'spec': None, 'result': {'loss': 0.17737860887387205, 'status': 'ok', 'Trained_Model': MLPClassifier(alpha=0, batch_size=20, early_stopping=True,\n",
      "              hidden_layer_sizes=(10,), learning_rate_init=0.01)}, 'misc': {'tid': 22, 'cmd': ('domain_attachment', 'FMinIter_Domain'), 'workdir': None, 'idxs': {'alpha': [22], 'batch': [22], 'learning_rate_init': [22], 'num_nodes': [22], 'optimizer': [22]}, 'vals': {'alpha': [0], 'batch': [1], 'learning_rate_init': [0], 'num_nodes': [0], 'optimizer': [1]}}, 'exp_key': None, 'owner': None, 'version': 0, 'book_time': datetime.datetime(2022, 10, 10, 16, 36, 43, 6000), 'refresh_time': datetime.datetime(2022, 10, 10, 16, 36, 43, 429000)}\n",
      "{'state': 2, 'tid': 23, 'spec': None, 'result': {'loss': 0.18719113479995264, 'status': 'ok', 'Trained_Model': MLPClassifier(batch_size=20, early_stopping=True, learning_rate_init=0.01)}, 'misc': {'tid': 23, 'cmd': ('domain_attachment', 'FMinIter_Domain'), 'workdir': None, 'idxs': {'alpha': [23], 'batch': [23], 'learning_rate_init': [23], 'num_nodes': [23], 'optimizer': [23]}, 'vals': {'alpha': [6], 'batch': [1], 'learning_rate_init': [0], 'num_nodes': [4], 'optimizer': [1]}}, 'exp_key': None, 'owner': None, 'version': 0, 'book_time': datetime.datetime(2022, 10, 10, 16, 36, 43, 433000), 'refresh_time': datetime.datetime(2022, 10, 10, 16, 36, 43, 751000)}\n",
      "{'state': 2, 'tid': 24, 'spec': None, 'result': {'loss': 0.18628811545991494, 'status': 'ok', 'Trained_Model': MLPClassifier(batch_size=20, early_stopping=True, hidden_layer_sizes=(300,),\n",
      "              learning_rate_init=0.0001)}, 'misc': {'tid': 24, 'cmd': ('domain_attachment', 'FMinIter_Domain'), 'workdir': None, 'idxs': {'alpha': [24], 'batch': [24], 'learning_rate_init': [24], 'num_nodes': [24], 'optimizer': [24]}, 'vals': {'alpha': [6], 'batch': [1], 'learning_rate_init': [5], 'num_nodes': [10], 'optimizer': [1]}}, 'exp_key': None, 'owner': None, 'version': 0, 'book_time': datetime.datetime(2022, 10, 10, 16, 36, 43, 758000), 'refresh_time': datetime.datetime(2022, 10, 10, 16, 36, 44, 245000)}\n",
      "{'state': 2, 'tid': 25, 'spec': None, 'result': {'loss': 0.17949029424411245, 'status': 'ok', 'Trained_Model': MLPClassifier(batch_size=10, early_stopping=True, hidden_layer_sizes=(10,))}, 'misc': {'tid': 25, 'cmd': ('domain_attachment', 'FMinIter_Domain'), 'workdir': None, 'idxs': {'alpha': [25], 'batch': [25], 'learning_rate_init': [25], 'num_nodes': [25], 'optimizer': [25]}, 'vals': {'alpha': [6], 'batch': [0], 'learning_rate_init': [2], 'num_nodes': [0], 'optimizer': [1]}}, 'exp_key': None, 'owner': None, 'version': 0, 'book_time': datetime.datetime(2022, 10, 10, 16, 36, 44, 251000), 'refresh_time': datetime.datetime(2022, 10, 10, 16, 36, 44, 819000)}\n",
      "{'state': 2, 'tid': 26, 'spec': None, 'result': {'loss': 0.18679697749962074, 'status': 'ok', 'Trained_Model': MLPClassifier(batch_size=20, early_stopping=True, hidden_layer_sizes=(200,),\n",
      "              learning_rate_init=0.0001)}, 'misc': {'tid': 26, 'cmd': ('domain_attachment', 'FMinIter_Domain'), 'workdir': None, 'idxs': {'alpha': [26], 'batch': [26], 'learning_rate_init': [26], 'num_nodes': [26], 'optimizer': [26]}, 'vals': {'alpha': [6], 'batch': [1], 'learning_rate_init': [5], 'num_nodes': [8], 'optimizer': [1]}}, 'exp_key': None, 'owner': None, 'version': 0, 'book_time': datetime.datetime(2022, 10, 10, 16, 36, 44, 823000), 'refresh_time': datetime.datetime(2022, 10, 10, 16, 36, 45, 372000)}\n",
      "{'state': 2, 'tid': 27, 'spec': None, 'result': {'loss': 0.17785041022868828, 'status': 'ok', 'Trained_Model': MLPClassifier(alpha=0, batch_size=10, early_stopping=True,\n",
      "              hidden_layer_sizes=(10,), learning_rate_init=0.01)}, 'misc': {'tid': 27, 'cmd': ('domain_attachment', 'FMinIter_Domain'), 'workdir': None, 'idxs': {'alpha': [27], 'batch': [27], 'learning_rate_init': [27], 'num_nodes': [27], 'optimizer': [27]}, 'vals': {'alpha': [0], 'batch': [0], 'learning_rate_init': [0], 'num_nodes': [0], 'optimizer': [1]}}, 'exp_key': None, 'owner': None, 'version': 0, 'book_time': datetime.datetime(2022, 10, 10, 16, 36, 45, 379000), 'refresh_time': datetime.datetime(2022, 10, 10, 16, 36, 45, 930000)}\n",
      "{'state': 2, 'tid': 28, 'spec': None, 'result': {'loss': 0.18055575346704206, 'status': 'ok', 'Trained_Model': MLPClassifier(alpha=0.0005, batch_size=20, early_stopping=True,\n",
      "              hidden_layer_sizes=(200,), learning_rate_init=0.0001)}, 'misc': {'tid': 28, 'cmd': ('domain_attachment', 'FMinIter_Domain'), 'workdir': None, 'idxs': {'alpha': [28], 'batch': [28], 'learning_rate_init': [28], 'num_nodes': [28], 'optimizer': [28]}, 'vals': {'alpha': [5], 'batch': [1], 'learning_rate_init': [5], 'num_nodes': [8], 'optimizer': [1]}}, 'exp_key': None, 'owner': None, 'version': 0, 'book_time': datetime.datetime(2022, 10, 10, 16, 36, 45, 936000), 'refresh_time': datetime.datetime(2022, 10, 10, 16, 36, 46, 517000)}\n",
      "{'state': 2, 'tid': 29, 'spec': None, 'result': {'loss': 0.18726694162571922, 'status': 'ok', 'Trained_Model': MLPClassifier(alpha=0.001, batch_size=10, early_stopping=True,\n",
      "              hidden_layer_sizes=(400,), learning_rate_init=0.01)}, 'misc': {'tid': 29, 'cmd': ('domain_attachment', 'FMinIter_Domain'), 'workdir': None, 'idxs': {'alpha': [29], 'batch': [29], 'learning_rate_init': [29], 'num_nodes': [29], 'optimizer': [29]}, 'vals': {'alpha': [3], 'batch': [0], 'learning_rate_init': [0], 'num_nodes': [12], 'optimizer': [1]}}, 'exp_key': None, 'owner': None, 'version': 0, 'book_time': datetime.datetime(2022, 10, 10, 16, 36, 46, 522000), 'refresh_time': datetime.datetime(2022, 10, 10, 16, 36, 47, 301000)}\n",
      "{'state': 2, 'tid': 30, 'spec': None, 'result': {'loss': 0.17987738558039143, 'status': 'ok', 'Trained_Model': MLPClassifier(batch_size=20, early_stopping=True, learning_rate_init=0.0001)}, 'misc': {'tid': 30, 'cmd': ('domain_attachment', 'FMinIter_Domain'), 'workdir': None, 'idxs': {'alpha': [30], 'batch': [30], 'learning_rate_init': [30], 'num_nodes': [30], 'optimizer': [30]}, 'vals': {'alpha': [6], 'batch': [1], 'learning_rate_init': [5], 'num_nodes': [4], 'optimizer': [1]}}, 'exp_key': None, 'owner': None, 'version': 0, 'book_time': datetime.datetime(2022, 10, 10, 16, 36, 47, 307000), 'refresh_time': datetime.datetime(2022, 10, 10, 16, 36, 48, 18000)}\n",
      "{'state': 2, 'tid': 31, 'spec': None, 'result': {'loss': 0.18074141813990727, 'status': 'ok', 'Trained_Model': MLPClassifier(batch_size=20, early_stopping=True, hidden_layer_sizes=(75,),\n",
      "              learning_rate_init=0.01)}, 'misc': {'tid': 31, 'cmd': ('domain_attachment', 'FMinIter_Domain'), 'workdir': None, 'idxs': {'alpha': [31], 'batch': [31], 'learning_rate_init': [31], 'num_nodes': [31], 'optimizer': [31]}, 'vals': {'alpha': [6], 'batch': [1], 'learning_rate_init': [0], 'num_nodes': [3], 'optimizer': [1]}}, 'exp_key': None, 'owner': None, 'version': 0, 'book_time': datetime.datetime(2022, 10, 10, 16, 36, 48, 23000), 'refresh_time': datetime.datetime(2022, 10, 10, 16, 36, 48, 538000)}\n",
      "{'state': 2, 'tid': 32, 'spec': None, 'result': {'loss': 0.21645104764055784, 'status': 'ok', 'Trained_Model': MLPClassifier(alpha=0.05, batch_size=10, early_stopping=True,\n",
      "              hidden_layer_sizes=(300,), learning_rate_init=0.05)}, 'misc': {'tid': 32, 'cmd': ('domain_attachment', 'FMinIter_Domain'), 'workdir': None, 'idxs': {'alpha': [32], 'batch': [32], 'learning_rate_init': [32], 'num_nodes': [32], 'optimizer': [32]}, 'vals': {'alpha': [2], 'batch': [0], 'learning_rate_init': [1], 'num_nodes': [10], 'optimizer': [1]}}, 'exp_key': None, 'owner': None, 'version': 0, 'book_time': datetime.datetime(2022, 10, 10, 16, 36, 48, 543000), 'refresh_time': datetime.datetime(2022, 10, 10, 16, 36, 49, 198000)}\n",
      "{'state': 2, 'tid': 33, 'spec': None, 'result': {'loss': 0.1757084469749825, 'status': 'ok', 'Trained_Model': MLPClassifier(batch_size=20, early_stopping=True, hidden_layer_sizes=(50,))}, 'misc': {'tid': 33, 'cmd': ('domain_attachment', 'FMinIter_Domain'), 'workdir': None, 'idxs': {'alpha': [33], 'batch': [33], 'learning_rate_init': [33], 'num_nodes': [33], 'optimizer': [33]}, 'vals': {'alpha': [6], 'batch': [1], 'learning_rate_init': [2], 'num_nodes': [2], 'optimizer': [1]}}, 'exp_key': None, 'owner': None, 'version': 0, 'book_time': datetime.datetime(2022, 10, 10, 16, 36, 49, 204000), 'refresh_time': datetime.datetime(2022, 10, 10, 16, 36, 49, 614000)}\n",
      "{'state': 2, 'tid': 34, 'spec': None, 'result': {'loss': 0.17797844965554807, 'status': 'ok', 'Trained_Model': MLPClassifier(alpha=5e-05, batch_size=20, early_stopping=True,\n",
      "              hidden_layer_sizes=(50,))}, 'misc': {'tid': 34, 'cmd': ('domain_attachment', 'FMinIter_Domain'), 'workdir': None, 'idxs': {'alpha': [34], 'batch': [34], 'learning_rate_init': [34], 'num_nodes': [34], 'optimizer': [34]}, 'vals': {'alpha': [8], 'batch': [1], 'learning_rate_init': [2], 'num_nodes': [2], 'optimizer': [1]}}, 'exp_key': None, 'owner': None, 'version': 0, 'book_time': datetime.datetime(2022, 10, 10, 16, 36, 49, 621000), 'refresh_time': datetime.datetime(2022, 10, 10, 16, 36, 50, 88000)}\n",
      "{'state': 2, 'tid': 35, 'spec': None, 'result': {'loss': 0.18103241324941527, 'status': 'ok', 'Trained_Model': MLPClassifier(alpha=0, batch_size=20, early_stopping=True,\n",
      "              hidden_layer_sizes=(50,))}, 'misc': {'tid': 35, 'cmd': ('domain_attachment', 'FMinIter_Domain'), 'workdir': None, 'idxs': {'alpha': [35], 'batch': [35], 'learning_rate_init': [35], 'num_nodes': [35], 'optimizer': [35]}, 'vals': {'alpha': [0], 'batch': [1], 'learning_rate_init': [2], 'num_nodes': [2], 'optimizer': [1]}}, 'exp_key': None, 'owner': None, 'version': 0, 'book_time': datetime.datetime(2022, 10, 10, 16, 36, 50, 96000), 'refresh_time': datetime.datetime(2022, 10, 10, 16, 36, 50, 381000)}\n",
      "{'state': 2, 'tid': 36, 'spec': None, 'result': {'loss': 0.174813922687737, 'status': 'ok', 'Trained_Model': MLPClassifier(alpha=0.0005, batch_size=20, early_stopping=True,\n",
      "              hidden_layer_sizes=(50,))}, 'misc': {'tid': 36, 'cmd': ('domain_attachment', 'FMinIter_Domain'), 'workdir': None, 'idxs': {'alpha': [36], 'batch': [36], 'learning_rate_init': [36], 'num_nodes': [36], 'optimizer': [36]}, 'vals': {'alpha': [5], 'batch': [1], 'learning_rate_init': [2], 'num_nodes': [2], 'optimizer': [1]}}, 'exp_key': None, 'owner': None, 'version': 0, 'book_time': datetime.datetime(2022, 10, 10, 16, 36, 50, 388000), 'refresh_time': datetime.datetime(2022, 10, 10, 16, 36, 50, 676000)}\n",
      "{'state': 2, 'tid': 37, 'spec': None, 'result': {'loss': 0.17735850285084695, 'status': 'ok', 'Trained_Model': MLPClassifier(alpha=0.0005, batch_size=20, early_stopping=True,\n",
      "              hidden_layer_sizes=(250,))}, 'misc': {'tid': 37, 'cmd': ('domain_attachment', 'FMinIter_Domain'), 'workdir': None, 'idxs': {'alpha': [37], 'batch': [37], 'learning_rate_init': [37], 'num_nodes': [37], 'optimizer': [37]}, 'vals': {'alpha': [5], 'batch': [1], 'learning_rate_init': [2], 'num_nodes': [9], 'optimizer': [1]}}, 'exp_key': None, 'owner': None, 'version': 0, 'book_time': datetime.datetime(2022, 10, 10, 16, 36, 50, 683000), 'refresh_time': datetime.datetime(2022, 10, 10, 16, 36, 51, 422000)}\n",
      "{'state': 2, 'tid': 38, 'spec': None, 'result': {'loss': 0.181196927552729, 'status': 'ok', 'Trained_Model': MLPClassifier(alpha=0.0005, batch_size=20, early_stopping=True,\n",
      "              hidden_layer_sizes=(125,), learning_rate_init=0.01)}, 'misc': {'tid': 38, 'cmd': ('domain_attachment', 'FMinIter_Domain'), 'workdir': None, 'idxs': {'alpha': [38], 'batch': [38], 'learning_rate_init': [38], 'num_nodes': [38], 'optimizer': [38]}, 'vals': {'alpha': [5], 'batch': [1], 'learning_rate_init': [0], 'num_nodes': [5], 'optimizer': [1]}}, 'exp_key': None, 'owner': None, 'version': 0, 'book_time': datetime.datetime(2022, 10, 10, 16, 36, 51, 430000), 'refresh_time': datetime.datetime(2022, 10, 10, 16, 36, 51, 969000)}\n",
      "{'state': 2, 'tid': 39, 'spec': None, 'result': {'loss': 0.3291578076566505, 'status': 'ok', 'Trained_Model': MLPClassifier(alpha=0.0005, batch_size=20, early_stopping=True,\n",
      "              hidden_layer_sizes=(50,), learning_rate_init=1e-05)}, 'misc': {'tid': 39, 'cmd': ('domain_attachment', 'FMinIter_Domain'), 'workdir': None, 'idxs': {'alpha': [39], 'batch': [39], 'learning_rate_init': [39], 'num_nodes': [39], 'optimizer': [39]}, 'vals': {'alpha': [5], 'batch': [1], 'learning_rate_init': [6], 'num_nodes': [2], 'optimizer': [1]}}, 'exp_key': None, 'owner': None, 'version': 0, 'book_time': datetime.datetime(2022, 10, 10, 16, 36, 51, 974000), 'refresh_time': datetime.datetime(2022, 10, 10, 16, 36, 52, 752000)}\n",
      "{'state': 2, 'tid': 40, 'spec': None, 'result': {'loss': 0.17552519834231903, 'status': 'ok', 'Trained_Model': MLPClassifier(alpha=1e-05, batch_size=20, early_stopping=True,\n",
      "              hidden_layer_sizes=(25,), learning_rate_init=0.005)}, 'misc': {'tid': 40, 'cmd': ('domain_attachment', 'FMinIter_Domain'), 'workdir': None, 'idxs': {'alpha': [40], 'batch': [40], 'learning_rate_init': [40], 'num_nodes': [40], 'optimizer': [40]}, 'vals': {'alpha': [7], 'batch': [1], 'learning_rate_init': [3], 'num_nodes': [1], 'optimizer': [1]}}, 'exp_key': None, 'owner': None, 'version': 0, 'book_time': datetime.datetime(2022, 10, 10, 16, 36, 52, 759000), 'refresh_time': datetime.datetime(2022, 10, 10, 16, 36, 53, 223000)}\n",
      "{'state': 2, 'tid': 41, 'spec': None, 'result': {'loss': 0.2803338148619027, 'status': 'ok', 'Trained_Model': MLPClassifier(alpha=0.001, batch_size=50, early_stopping=True,\n",
      "              hidden_layer_sizes=(10,), learning_rate_init=5e-05)}, 'misc': {'tid': 41, 'cmd': ('domain_attachment', 'FMinIter_Domain'), 'workdir': None, 'idxs': {'alpha': [41], 'batch': [41], 'learning_rate_init': [41], 'num_nodes': [41], 'optimizer': [41]}, 'vals': {'alpha': [3], 'batch': [3], 'learning_rate_init': [7], 'num_nodes': [0], 'optimizer': [1]}}, 'exp_key': None, 'owner': None, 'version': 0, 'book_time': datetime.datetime(2022, 10, 10, 16, 36, 53, 229000), 'refresh_time': datetime.datetime(2022, 10, 10, 16, 36, 53, 799000)}\n",
      "{'state': 2, 'tid': 42, 'spec': None, 'result': {'loss': 0.20766562599679278, 'status': 'ok', 'Trained_Model': MLPClassifier(alpha=0.05, batch_size=30, early_stopping=True,\n",
      "              hidden_layer_sizes=(175,), solver='sgd')}, 'misc': {'tid': 42, 'cmd': ('domain_attachment', 'FMinIter_Domain'), 'workdir': None, 'idxs': {'alpha': [42], 'batch': [42], 'learning_rate_init': [42], 'num_nodes': [42], 'optimizer': [42]}, 'vals': {'alpha': [2], 'batch': [2], 'learning_rate_init': [2], 'num_nodes': [7], 'optimizer': [0]}}, 'exp_key': None, 'owner': None, 'version': 0, 'book_time': datetime.datetime(2022, 10, 10, 16, 36, 53, 804000), 'refresh_time': datetime.datetime(2022, 10, 10, 16, 36, 54, 133000)}\n",
      "{'state': 2, 'tid': 43, 'spec': None, 'result': {'loss': 0.1778216167777114, 'status': 'ok', 'Trained_Model': MLPClassifier(alpha=0.0005, batch_size=20, early_stopping=True,\n",
      "              hidden_layer_sizes=(350,), learning_rate_init=0.0005)}, 'misc': {'tid': 43, 'cmd': ('domain_attachment', 'FMinIter_Domain'), 'workdir': None, 'idxs': {'alpha': [43], 'batch': [43], 'learning_rate_init': [43], 'num_nodes': [43], 'optimizer': [43]}, 'vals': {'alpha': [5], 'batch': [1], 'learning_rate_init': [4], 'num_nodes': [11], 'optimizer': [1]}}, 'exp_key': None, 'owner': None, 'version': 0, 'book_time': datetime.datetime(2022, 10, 10, 16, 36, 54, 139000), 'refresh_time': datetime.datetime(2022, 10, 10, 16, 36, 54, 667000)}\n",
      "{'state': 2, 'tid': 44, 'spec': None, 'result': {'loss': 0.18142511256652222, 'status': 'ok', 'Trained_Model': MLPClassifier(alpha=0.005, batch_size=50, early_stopping=True,\n",
      "              hidden_layer_sizes=(250,), learning_rate_init=0.01, solver='sgd')}, 'misc': {'tid': 44, 'cmd': ('domain_attachment', 'FMinIter_Domain'), 'workdir': None, 'idxs': {'alpha': [44], 'batch': [44], 'learning_rate_init': [44], 'num_nodes': [44], 'optimizer': [44]}, 'vals': {'alpha': [4], 'batch': [3], 'learning_rate_init': [0], 'num_nodes': [9], 'optimizer': [0]}}, 'exp_key': None, 'owner': None, 'version': 0, 'book_time': datetime.datetime(2022, 10, 10, 16, 36, 54, 673000), 'refresh_time': datetime.datetime(2022, 10, 10, 16, 36, 54, 919000)}\n",
      "{'state': 2, 'tid': 45, 'spec': None, 'result': {'loss': 0.5440423154506046, 'status': 'ok', 'Trained_Model': MLPClassifier(alpha=5e-05, batch_size=30, early_stopping=True,\n",
      "              hidden_layer_sizes=(10,), learning_rate_init=1e-05)}, 'misc': {'tid': 45, 'cmd': ('domain_attachment', 'FMinIter_Domain'), 'workdir': None, 'idxs': {'alpha': [45], 'batch': [45], 'learning_rate_init': [45], 'num_nodes': [45], 'optimizer': [45]}, 'vals': {'alpha': [8], 'batch': [2], 'learning_rate_init': [6], 'num_nodes': [0], 'optimizer': [1]}}, 'exp_key': None, 'owner': None, 'version': 0, 'book_time': datetime.datetime(2022, 10, 10, 16, 36, 54, 925000), 'refresh_time': datetime.datetime(2022, 10, 10, 16, 36, 56, 723000)}\n",
      "{'state': 2, 'tid': 46, 'spec': None, 'result': {'loss': 0.18546298099758102, 'status': 'ok', 'Trained_Model': MLPClassifier(alpha=0.0005, batch_size=20, early_stopping=True,\n",
      "              hidden_layer_sizes=(125,), learning_rate_init=0.05)}, 'misc': {'tid': 46, 'cmd': ('domain_attachment', 'FMinIter_Domain'), 'workdir': None, 'idxs': {'alpha': [46], 'batch': [46], 'learning_rate_init': [46], 'num_nodes': [46], 'optimizer': [46]}, 'vals': {'alpha': [5], 'batch': [1], 'learning_rate_init': [1], 'num_nodes': [5], 'optimizer': [1]}}, 'exp_key': None, 'owner': None, 'version': 0, 'book_time': datetime.datetime(2022, 10, 10, 16, 36, 56, 728000), 'refresh_time': datetime.datetime(2022, 10, 10, 16, 36, 57, 183000)}\n",
      "{'state': 2, 'tid': 47, 'spec': None, 'result': {'loss': 0.25327993132672816, 'status': 'ok', 'Trained_Model': MLPClassifier(alpha=1e-05, batch_size=20, early_stopping=True,\n",
      "              hidden_layer_sizes=(25,), learning_rate_init=5e-05, solver='sgd')}, 'misc': {'tid': 47, 'cmd': ('domain_attachment', 'FMinIter_Domain'), 'workdir': None, 'idxs': {'alpha': [47], 'batch': [47], 'learning_rate_init': [47], 'num_nodes': [47], 'optimizer': [47]}, 'vals': {'alpha': [7], 'batch': [1], 'learning_rate_init': [7], 'num_nodes': [1], 'optimizer': [0]}}, 'exp_key': None, 'owner': None, 'version': 0, 'book_time': datetime.datetime(2022, 10, 10, 16, 36, 57, 190000), 'refresh_time': datetime.datetime(2022, 10, 10, 16, 36, 57, 944000)}\n",
      "{'state': 2, 'tid': 48, 'spec': None, 'result': {'loss': 0.18541572569313258, 'status': 'ok', 'Trained_Model': MLPClassifier(alpha=0.001, batch_size=30, early_stopping=True,\n",
      "              hidden_layer_sizes=(50,), learning_rate_init=0.005)}, 'misc': {'tid': 48, 'cmd': ('domain_attachment', 'FMinIter_Domain'), 'workdir': None, 'idxs': {'alpha': [48], 'batch': [48], 'learning_rate_init': [48], 'num_nodes': [48], 'optimizer': [48]}, 'vals': {'alpha': [3], 'batch': [2], 'learning_rate_init': [3], 'num_nodes': [2], 'optimizer': [1]}}, 'exp_key': None, 'owner': None, 'version': 0, 'book_time': datetime.datetime(2022, 10, 10, 16, 36, 57, 950000), 'refresh_time': datetime.datetime(2022, 10, 10, 16, 36, 58, 150000)}\n",
      "{'state': 2, 'tid': 49, 'spec': None, 'result': {'loss': 0.2049908714520864, 'status': 'ok', 'Trained_Model': MLPClassifier(alpha=0.05, batch_size=50, early_stopping=True,\n",
      "              hidden_layer_sizes=(75,), solver='sgd')}, 'misc': {'tid': 49, 'cmd': ('domain_attachment', 'FMinIter_Domain'), 'workdir': None, 'idxs': {'alpha': [49], 'batch': [49], 'learning_rate_init': [49], 'num_nodes': [49], 'optimizer': [49]}, 'vals': {'alpha': [2], 'batch': [3], 'learning_rate_init': [2], 'num_nodes': [3], 'optimizer': [0]}}, 'exp_key': None, 'owner': None, 'version': 0, 'book_time': datetime.datetime(2022, 10, 10, 16, 36, 58, 157000), 'refresh_time': datetime.datetime(2022, 10, 10, 16, 36, 58, 323000)}\n"
     ]
    }
   ],
   "source": [
    "for trial in trials1:\n",
    "    print(trial)"
   ]
  },
  {
   "cell_type": "markdown",
   "id": "039b804d",
   "metadata": {},
   "source": [
    "each `trial` in `trials1` is a dictionary. There is a key `result` that contains another dictionary with `loss` (best loss from that specific trial), `status`, and `Trained_Model` for that specific trial."
   ]
  },
  {
   "cell_type": "code",
   "execution_count": 22,
   "id": "0d01cefa",
   "metadata": {},
   "outputs": [
    {
     "name": "stdout",
     "output_type": "stream",
     "text": [
      "losses are \n",
      "===========================================================\n",
      "\n",
      "[0.2580781688266739, 0.19343532683426828, 0.17938236565904397, 0.4913525780146946, 0.18489081636310953, 0.4078929100554588, 0.3395549436595578, 0.29459584230659486, 0.19870615620153867, 0.1760823880637695, 0.3997304362460272, 0.18173281450286302, 0.7015891249622973, 0.18615612171920226, 0.2102233190520137, 0.20352574379375765, 0.22154453109416297, 0.18678078628837574, 0.18066562983869106, 0.22663097312695352, 0.1750916661049638, 0.18268984378811487, 0.17737860887387205, 0.18719113479995264, 0.18628811545991494, 0.17949029424411245, 0.18679697749962074, 0.17785041022868828, 0.18055575346704206, 0.18726694162571922, 0.17987738558039143, 0.18074141813990727, 0.21645104764055784, 0.1757084469749825, 0.17797844965554807, 0.18103241324941527, 0.174813922687737, 0.17735850285084695, 0.181196927552729, 0.3291578076566505, 0.17552519834231903, 0.2803338148619027, 0.20766562599679278, 0.1778216167777114, 0.18142511256652222, 0.5440423154506046, 0.18546298099758102, 0.25327993132672816, 0.18541572569313258, 0.2049908714520864]\n"
     ]
    }
   ],
   "source": [
    "'''\n",
    "extracts all valid iterations of the hyperoptimization process \n",
    "'''\n",
    "valid_trial_list1 = [trial for trial in trials1\n",
    "                            if STATUS_OK == trial['result']['status']]\n",
    "    \n",
    "'''\n",
    "extracts obj. function value in all valid iterations of the hyperoptimization \n",
    "'''\n",
    "losses1 = [ float(trial['result']['loss']) for trial in valid_trial_list1]\n",
    "print(\"losses are \\n===========================================================\\n\")\n",
    "print(losses1)\n",
    "'''\n",
    "find the one with lowest obj. function\n",
    "'''\n",
    "index_having_minumum_loss1 = np.argmin(losses1)\n",
    "\n",
    "'''\n",
    "extract the model with the least value of the objective function\n",
    "'''\n",
    "best_trial_obj1 = valid_trial_list1[index_having_minumum_loss1]\n",
    "best_model1 = best_trial_obj1['result']['Trained_Model']   "
   ]
  },
  {
   "cell_type": "code",
   "execution_count": 23,
   "id": "b4c677e7",
   "metadata": {},
   "outputs": [
    {
     "name": "stdout",
     "output_type": "stream",
     "text": [
      "Best hyper parameter values are\n",
      "MLPClassifier(alpha=0.0005, batch_size=20, early_stopping=True,\n",
      "              hidden_layer_sizes=(50,))\n"
     ]
    }
   ],
   "source": [
    "print(\"Best hyper parameter values are\")\n",
    "print(best_model1)"
   ]
  },
  {
   "cell_type": "markdown",
   "id": "13e2f8f1",
   "metadata": {},
   "source": [
    "Perform prediction on the test set with the best model"
   ]
  },
  {
   "cell_type": "code",
   "execution_count": 24,
   "id": "9104af6e",
   "metadata": {},
   "outputs": [
    {
     "name": "stdout",
     "output_type": "stream",
     "text": [
      "testing accuracy 0.9386503067484663\n"
     ]
    }
   ],
   "source": [
    "from sklearn.metrics import accuracy_score\n",
    "pred_classes = best_model1.predict(X_test_std) # predicted class labels\n",
    "print('testing accuracy',accuracy_score(y_test,pred_classes))    "
   ]
  },
  {
   "cell_type": "markdown",
   "id": "f3dbfdb6",
   "metadata": {},
   "source": [
    "### Saving the model to a file"
   ]
  },
  {
   "cell_type": "code",
   "execution_count": 28,
   "id": "a71e631c",
   "metadata": {},
   "outputs": [],
   "source": [
    "import pickle\n",
    "\n",
    "#extracts the model corresponding to the lowest obj. function\n",
    "filename = 'test_model.pkl'\n",
    "pickle.dump(best_model1, open(filename, 'wb'))"
   ]
  },
  {
   "cell_type": "markdown",
   "id": "d3d3d2ef",
   "metadata": {},
   "source": [
    "### Loading the model from a file"
   ]
  },
  {
   "cell_type": "code",
   "execution_count": 29,
   "id": "5439b2e2",
   "metadata": {},
   "outputs": [
    {
     "name": "stdout",
     "output_type": "stream",
     "text": [
      "MLPClassifier(alpha=0.0005, batch_size=20, early_stopping=True,\n",
      "              hidden_layer_sizes=(50,))\n"
     ]
    }
   ],
   "source": [
    "# load the model from disk\n",
    "loaded_model = pickle.load(open('test_model.sav', 'rb'))\n",
    "print(loaded_model)"
   ]
  },
  {
   "cell_type": "markdown",
   "id": "fe406623",
   "metadata": {},
   "source": [
    "## Run the hyperparameter optimization on second space"
   ]
  },
  {
   "cell_type": "code",
   "execution_count": 30,
   "id": "01baf5b0",
   "metadata": {},
   "outputs": [
    {
     "name": "stdout",
     "output_type": "stream",
     "text": [
      "MLPClassifier(alpha=2.0, batch_size=17, early_stopping=True,                                                           \n",
      "              hidden_layer_sizes=(57,),\n",
      "              learning_rate_init=0.004288550784527108)\n",
      "MLPClassifier(alpha=1.0, batch_size=23, early_stopping=True,                                                           \n",
      "              hidden_layer_sizes=(106,),\n",
      "              learning_rate_init=0.0032188087742628683)\n",
      "MLPClassifier(alpha=2.0, batch_size=24, early_stopping=True,                                                           \n",
      "              hidden_layer_sizes=(30,), learning_rate_init=0.003697422781840454,\n",
      "              solver='sgd')\n",
      "MLPClassifier(alpha=2.0, batch_size=19, early_stopping=True,                                                           \n",
      "              hidden_layer_sizes=(201,),\n",
      "              learning_rate_init=0.008594879353500812)\n",
      "MLPClassifier(alpha=1.0, batch_size=12, early_stopping=True,                                                           \n",
      "              hidden_layer_sizes=(289,),\n",
      "              learning_rate_init=0.003445049381201584)\n",
      "MLPClassifier(alpha=1.0, batch_size=44, early_stopping=True,                                                           \n",
      "              hidden_layer_sizes=(206,),\n",
      "              learning_rate_init=0.003772269081224113, solver='sgd')\n",
      "MLPClassifier(alpha=1.0, batch_size=35, early_stopping=True,                                                           \n",
      "              hidden_layer_sizes=(334,),\n",
      "              learning_rate_init=0.006438768930465764, solver='sgd')\n",
      "MLPClassifier(alpha=1.0, batch_size=24, early_stopping=True,                                                           \n",
      "              hidden_layer_sizes=(48,), learning_rate_init=0.00816421725692829)\n",
      "MLPClassifier(alpha=1.0, batch_size=19, early_stopping=True,                                                           \n",
      "              hidden_layer_sizes=(257,),\n",
      "              learning_rate_init=0.0005949707453094886, solver='sgd')\n",
      "MLPClassifier(alpha=1.0, batch_size=37, early_stopping=True,                                                           \n",
      "              hidden_layer_sizes=(16,),\n",
      "              learning_rate_init=0.0036246227666471773)\n",
      "MLPClassifier(alpha=2.0, batch_size=23, early_stopping=True,                                                           \n",
      "              hidden_layer_sizes=(343,),\n",
      "              learning_rate_init=0.006243037323535523)\n",
      "MLPClassifier(alpha=1.0, batch_size=12, early_stopping=True,                                                           \n",
      "              hidden_layer_sizes=(267,),\n",
      "              learning_rate_init=0.008510689217029932, solver='sgd')\n",
      "MLPClassifier(alpha=1.0, batch_size=32, early_stopping=True,                                                           \n",
      "              hidden_layer_sizes=(207,),\n",
      "              learning_rate_init=0.0064302942891005565)\n",
      "MLPClassifier(alpha=1.0, batch_size=11, early_stopping=True,                                                           \n",
      "              hidden_layer_sizes=(376,),\n",
      "              learning_rate_init=0.009326871949987407)\n",
      "MLPClassifier(alpha=3.0, batch_size=45, early_stopping=True,                                                           \n",
      "              hidden_layer_sizes=(105,),\n",
      "              learning_rate_init=0.004284992182999926, solver='sgd')\n",
      "MLPClassifier(alpha=2.0, batch_size=37, early_stopping=True,                                                           \n",
      "              hidden_layer_sizes=(350,),\n",
      "              learning_rate_init=0.0020129629387515605)\n",
      "MLPClassifier(alpha=1.0, batch_size=24, early_stopping=True,                                                           \n",
      "              hidden_layer_sizes=(130,),\n",
      "              learning_rate_init=0.005737117251332277, solver='sgd')\n",
      "MLPClassifier(alpha=1.0, batch_size=32, early_stopping=True,                                                           \n",
      "              hidden_layer_sizes=(312,),\n",
      "              learning_rate_init=0.006145102391436928, solver='sgd')\n",
      "MLPClassifier(alpha=2.0, batch_size=30, early_stopping=True,                                                           \n",
      "              hidden_layer_sizes=(123,),\n",
      "              learning_rate_init=0.0075654550832039025, solver='sgd')\n",
      "MLPClassifier(alpha=2.0, batch_size=13, early_stopping=True,                                                           \n",
      "              hidden_layer_sizes=(206,),\n",
      "              learning_rate_init=0.005914179384739066, solver='sgd')\n",
      "MLPClassifier(alpha=1.0, batch_size=40, early_stopping=True,                                                           \n",
      "              hidden_layer_sizes=(396,),\n",
      "              learning_rate_init=0.002081977711482672, solver='sgd')\n",
      "MLPClassifier(alpha=1.0, batch_size=50, early_stopping=True,                                                           \n",
      "              hidden_layer_sizes=(155,),\n",
      "              learning_rate_init=0.007264982472557134)\n",
      "MLPClassifier(alpha=1.0, batch_size=50, early_stopping=True,                                                           \n",
      "              hidden_layer_sizes=(82,),\n",
      "              learning_rate_init=0.007394446117863797)\n",
      "MLPClassifier(alpha=1.0, batch_size=50, early_stopping=True,                                                           \n",
      "              hidden_layer_sizes=(159,),\n",
      "              learning_rate_init=0.00965119354443102)\n",
      "MLPClassifier(alpha=1.0, batch_size=49, early_stopping=True,                                                           \n",
      "              hidden_layer_sizes=(161,),\n",
      "              learning_rate_init=0.009689273109667074)\n",
      "MLPClassifier(alpha=3.0, batch_size=45, early_stopping=True,                                                           \n",
      "              hidden_layer_sizes=(166,),\n",
      "              learning_rate_init=0.009906538414981611)\n",
      "MLPClassifier(alpha=3.0, batch_size=49, early_stopping=True,                                                           \n",
      "              hidden_layer_sizes=(170,),\n",
      "              learning_rate_init=0.007298830123155957)\n",
      "MLPClassifier(alpha=3.0, batch_size=42, early_stopping=True,                                                           \n",
      "              hidden_layer_sizes=(240,),\n",
      "              learning_rate_init=0.008964490486458268)\n",
      "MLPClassifier(alpha=3.0, batch_size=47, early_stopping=True,                                                           \n",
      "              hidden_layer_sizes=(134,),\n",
      "              learning_rate_init=0.004877926941413237)\n",
      "MLPClassifier(alpha=1.0, batch_size=40, early_stopping=True,                                                           \n",
      "              hidden_layer_sizes=(230,),\n",
      "              learning_rate_init=0.007938086466817238)\n",
      "MLPClassifier(alpha=1.0, batch_size=47, early_stopping=True,                                                           \n",
      "              hidden_layer_sizes=(69,),\n",
      "              learning_rate_init=0.006998728481943598)\n",
      "MLPClassifier(alpha=3.0, batch_size=42, early_stopping=True,                                                           \n",
      "              hidden_layer_sizes=(93,),\n",
      "              learning_rate_init=0.005291706935362628)\n",
      "MLPClassifier(alpha=3.0, batch_size=27, early_stopping=True,                                                           \n",
      "              hidden_layer_sizes=(151,),\n",
      "              learning_rate_init=0.009182844267962148)\n",
      "MLPClassifier(alpha=1.0, batch_size=47, early_stopping=True,                                                           \n",
      "              hidden_layer_sizes=(183,),\n",
      "              learning_rate_init=0.009829767327059258)\n",
      "MLPClassifier(alpha=1.0, batch_size=15, early_stopping=True,                                                           \n",
      "              hidden_layer_sizes=(185,),\n",
      "              learning_rate_init=0.006808026811899676)\n",
      "MLPClassifier(alpha=3.0, batch_size=36, early_stopping=True,                                                           \n",
      "              hidden_layer_sizes=(63,),\n",
      "              learning_rate_init=0.008421210472906383)\n",
      "MLPClassifier(alpha=3.0, batch_size=20, early_stopping=True,                                                           \n",
      "              hidden_layer_sizes=(41,),\n",
      "              learning_rate_init=0.007992368373838158)\n",
      "MLPClassifier(alpha=1.0, batch_size=39, early_stopping=True,                                                           \n",
      "              hidden_layer_sizes=(285,),\n",
      "              learning_rate_init=0.002885418846406285)\n",
      "MLPClassifier(alpha=1.0, batch_size=43, early_stopping=True,                                                           \n",
      "              hidden_layer_sizes=(21,),\n",
      "              learning_rate_init=0.0003788931936207019)\n",
      "MLPClassifier(alpha=1.0, batch_size=27, early_stopping=True,                                                           \n",
      "              hidden_layer_sizes=(226,),\n",
      "              learning_rate_init=0.008915534120294394)\n",
      "MLPClassifier(alpha=3.0, batch_size=49, early_stopping=True,                                                           \n",
      "              hidden_layer_sizes=(141,),\n",
      "              learning_rate_init=0.00522842924086147)\n",
      "MLPClassifier(alpha=3.0, batch_size=34, early_stopping=True,                                                           \n",
      "              hidden_layer_sizes=(115,),\n",
      "              learning_rate_init=0.006891275813608871)\n",
      "MLPClassifier(alpha=1.0, batch_size=46, early_stopping=True,                                                           \n",
      "              hidden_layer_sizes=(248,),\n",
      "              learning_rate_init=0.00415271798693828)\n",
      "MLPClassifier(alpha=3.0, batch_size=43, early_stopping=True,                                                           \n",
      "              hidden_layer_sizes=(272,),\n",
      "              learning_rate_init=0.009340340285049849)\n",
      "MLPClassifier(alpha=2.0, batch_size=39, early_stopping=True,                                                           \n",
      "              hidden_layer_sizes=(310,),\n",
      "              learning_rate_init=0.0077554282252952095)\n",
      "MLPClassifier(alpha=3.0, batch_size=34, early_stopping=True,                                                           \n",
      "              hidden_layer_sizes=(190,),\n",
      "              learning_rate_init=0.008572637495543378, solver='sgd')\n",
      "MLPClassifier(alpha=3.0, batch_size=29, early_stopping=True,                                                           \n",
      "              hidden_layer_sizes=(97,),\n",
      "              learning_rate_init=0.0011108115209827055)\n",
      "MLPClassifier(alpha=1.0, batch_size=21, early_stopping=True,                                                           \n",
      "              hidden_layer_sizes=(215,),\n",
      "              learning_rate_init=0.008216660970197852, solver='sgd')\n",
      "MLPClassifier(alpha=3.0, batch_size=38, early_stopping=True,                                                           \n",
      "              hidden_layer_sizes=(38,),\n",
      "              learning_rate_init=0.006545653566236296)\n",
      "MLPClassifier(alpha=3.0, batch_size=50, early_stopping=True,                                                           \n",
      "              hidden_layer_sizes=(80,),\n",
      "              learning_rate_init=0.005484648459823228)\n",
      "100%|████████████████████████████████████████████████| 50/50 [00:21<00:00,  2.37trial/s, best loss: 0.2273104448707593]\n",
      "[0.38042437927783895, 0.2741815135649355, 0.3383926741870444, 0.36713883570055683, 0.334956518269803, 0.29135462181423133, 0.25238134201434376, 0.27168638276772594, 0.4466813037311724, 0.23917486306556934, 0.3445245865214936, 0.3321426728868979, 0.2539623074329161, 0.34464777148866127, 0.3323190728909939, 0.2928577005975083, 0.27633808622959344, 0.25906982596889033, 0.31392154175345316, 0.416202854097172, 0.3373904737722406, 0.2273104448707593, 0.23522194706757124, 0.23128911621232126, 0.23321011662377808, 0.3113456503595678, 0.2991783263955, 0.3166030389209639, 0.30744245516202673, 0.24115786907669715, 0.23277544908969458, 0.3172306091644901, 0.370755657474461, 0.23813756819883275, 0.3132311709630716, 0.3326973486486497, 0.41221120648282095, 0.23883735841388892, 0.272876330251904, 0.2674148857560161, 0.307102355882335, 0.3497413071621774, 0.2387752441107347, 0.3177539334869778, 0.2870290265423864, 0.3535391865808791, 0.35473551246406837, 0.282740179521934, 0.32649557223235476, 0.2990334120820782]\n",
      "testing accuracy 0.9340490797546013\n",
      "Best hyper parameter values are\n",
      "MLPClassifier(alpha=1.0, batch_size=50, early_stopping=True,\n",
      "              hidden_layer_sizes=(155,),\n",
      "              learning_rate_init=0.007264982472557134)\n"
     ]
    }
   ],
   "source": [
    "trials2=Trials()\n",
    "fmin(partial(nn1_model_obj,Training_features=X_train_std,Training_class=y_train),nn_space_2,algo=tpe.suggest,max_evals=50,trials=trials2)\n",
    "\n",
    "# extracts all valid iterations of the hyperoptimization \n",
    "valid_trial_list2 = [trial for trial in trials2\n",
    "                            if STATUS_OK == trial['result']['status']]\n",
    "    \n",
    "# extracts obj. function value in all valid iterations of the hyperoptimization \n",
    "losses2 = [ float(trial['result']['loss']) for trial in valid_trial_list2]\n",
    "print(losses2)\n",
    "# find the one with lowest obj. function\n",
    "index_having_minumum_loss2 = np.argmin(losses2)\n",
    "best_trial_obj2 = valid_trial_list2[index_having_minumum_loss2]\n",
    "best_model2 = best_trial_obj2['result']['Trained_Model']   \n",
    "\n",
    "pred_classes = best_model2.predict(X_test_std) # predicted class labels\n",
    "print('testing accuracy',accuracy_score(y_test,pred_classes)) \n",
    "\n",
    "print(\"Best hyper parameter values are\")\n",
    "print(best_model2)"
   ]
  },
  {
   "cell_type": "markdown",
   "id": "d6c7974d",
   "metadata": {},
   "source": [
    "## Adjusting the parameters for the algorithm"
   ]
  },
  {
   "cell_type": "markdown",
   "id": "3b0cc0a2",
   "metadata": {},
   "source": [
    "You can use `n_EI_candidates` to control the number of candidates that TPE algorithms checks at each iteration."
   ]
  },
  {
   "cell_type": "code",
   "execution_count": 97,
   "id": "31c7ce44",
   "metadata": {},
   "outputs": [],
   "source": [
    "from hyperopt import tpe\n",
    "TPE = partial(\n",
    "    tpe.suggest,\n",
    "    # Sample 1000 candidate and select candidate that\n",
    "    # has highest Expected Improvement (EI)\n",
    "    n_EI_candidates=100,\n",
    "    # Use 20% of best observations to estimate next\n",
    "    # set of parameters\n",
    "    gamma=0.2,\n",
    ")\n"
   ]
  },
  {
   "cell_type": "markdown",
   "id": "1391b54a",
   "metadata": {},
   "source": [
    "## Exercise, perform hyperparameter optimization on Random forest using HyperOpt."
   ]
  },
  {
   "cell_type": "code",
   "execution_count": 38,
   "id": "91cc8e15",
   "metadata": {},
   "outputs": [],
   "source": [
    "from sklearn.ensemble import RandomForestClassifier\n",
    "from sklearn.model_selection import GridSearchCV\n",
    "from sklearn.model_selection import cross_val_score"
   ]
  },
  {
   "cell_type": "markdown",
   "id": "0eb4ce22",
   "metadata": {},
   "source": [
    "### Random Forest hyperparameter space"
   ]
  },
  {
   "cell_type": "code",
   "execution_count": 34,
   "id": "07b479bb",
   "metadata": {},
   "outputs": [],
   "source": [
    "'''\n",
    "Instead of options, range is provided\n",
    "'''\n",
    "total_features  = 7\n",
    "rf_space = {\n",
    "            'n_estimators': scope.int(hp.quniform('num_nodes',50,5000,1)),\n",
    "            'criterion': hp.choice('criterion',['gini', 'entropy','log_loss']),\n",
    "            'max_features': scope.int(hp.quniform('max_features',1,total_features,1)),\n",
    "            'min_samples_leaf' : hp.choice('min_samples_leaf',[1, 2])\n",
    "        }"
   ]
  },
  {
   "cell_type": "markdown",
   "id": "0d0aacaa",
   "metadata": {},
   "source": [
    "### Random Forest Objective Function"
   ]
  },
  {
   "cell_type": "code",
   "execution_count": 53,
   "id": "bf687d23",
   "metadata": {},
   "outputs": [],
   "source": [
    "def rf_model_obj(params,Training_features,Training_class):\n",
    "    \n",
    "    model = RandomForestClassifier(n_estimators=params['n_estimators'],\n",
    "                          criterion=params['criterion'], \n",
    "                          max_features = params['max_features'], \n",
    "                          min_samples_leaf = params['min_samples_leaf'], n_jobs=4\n",
    "                        )\n",
    "\n",
    "    '''\n",
    "    calculates the score on the validation splits.\n",
    "    '''\n",
    "    scores = cross_val_score(model, Training_features,Training_class, cv=3, scoring = 'accuracy')\n",
    "    '''\n",
    "    scores= Array of scores of the estimator for each run of the cross validation.\n",
    "    '''\n",
    "    val_acc = -scores.mean()\n",
    "    return {'loss': val_acc,'status': STATUS_OK, 'Trained_Model': model} \n",
    "\n",
    "  #returning a dictionary that contains -ve of accuracy, status of the optimization process, and the trained model"
   ]
  },
  {
   "cell_type": "markdown",
   "id": "db2b2679",
   "metadata": {},
   "source": [
    "### Running the hyperoptimization process"
   ]
  },
  {
   "cell_type": "code",
   "execution_count": 44,
   "id": "4cebf4a8",
   "metadata": {},
   "outputs": [
    {
     "name": "stdout",
     "output_type": "stream",
     "text": [
      "100%|███████████████████████████████████████████████| 20/20 [03:07<00:00,  9.39s/trial, best loss: -0.9252304802719468]\n",
      "[-0.9225454016375011, -0.9229289842995648, -0.9236965905233038, -0.9240792913861444, -0.9244633149478195, -0.9244624331485963, -0.922929866098788, -0.9210106300896349, -0.9225458425371128, -0.9217786772129853, -0.9240792913861443, -0.9252295984727238, -0.9240788504865328, -0.9236961496236922, -0.9240788504865328, -0.9210110709892464, -0.9236965905233038, -0.9252304802719468, -0.924462874048208, -0.9229294251991763]\n"
     ]
    }
   ],
   "source": [
    "trials_rf=Trials()\n",
    "fmin(partial(rf_model_obj,Training_features=X_train_std,Training_class=y_train),rf_space,algo=tpe.suggest,max_evals=20,trials=trials_rf)\n",
    "\n",
    "# extracts all valid iterations of the hyperoptimization \n",
    "valid_trial_list_rf= [trial for trial in trials_rf\n",
    "                            if STATUS_OK == trial['result']['status']]\n",
    "    \n",
    "# extracts obj. function value in all valid iterations of the hyperoptimization \n",
    "losses_rf = [ float(trial['result']['loss']) for trial in valid_trial_list_rf]\n",
    "print(losses_rf)"
   ]
  },
  {
   "cell_type": "markdown",
   "id": "0259e59b",
   "metadata": {},
   "source": [
    "### Best hyperparameters"
   ]
  },
  {
   "cell_type": "code",
   "execution_count": 51,
   "id": "b1d903ae",
   "metadata": {},
   "outputs": [
    {
     "name": "stdout",
     "output_type": "stream",
     "text": [
      "Best hyper parameter values are\n",
      "RandomForestClassifier(criterion='log_loss', max_features=3, min_samples_leaf=2,\n",
      "                       n_estimators=680, n_jobs=4)\n"
     ]
    }
   ],
   "source": [
    "# find the one with lowest obj. function\n",
    "index_having_minumum_loss_rf = np.argmin(losses_rf)\n",
    "best_trial_obj_rf = valid_trial_list_rf[index_having_minumum_loss_rf]\n",
    "best_model_rf = best_trial_obj_rf['result']['Trained_Model']   \n",
    "print(\"Best hyper parameter values are\")\n",
    "print(best_model_rf)"
   ]
  },
  {
   "cell_type": "markdown",
   "id": "42b728a9",
   "metadata": {},
   "source": [
    "### Train random forest with estimated parameters"
   ]
  },
  {
   "cell_type": "code",
   "execution_count": 54,
   "id": "961ce7ec",
   "metadata": {},
   "outputs": [
    {
     "data": {
      "text/html": [
       "<style>#sk-container-id-1 {color: black;background-color: white;}#sk-container-id-1 pre{padding: 0;}#sk-container-id-1 div.sk-toggleable {background-color: white;}#sk-container-id-1 label.sk-toggleable__label {cursor: pointer;display: block;width: 100%;margin-bottom: 0;padding: 0.3em;box-sizing: border-box;text-align: center;}#sk-container-id-1 label.sk-toggleable__label-arrow:before {content: \"▸\";float: left;margin-right: 0.25em;color: #696969;}#sk-container-id-1 label.sk-toggleable__label-arrow:hover:before {color: black;}#sk-container-id-1 div.sk-estimator:hover label.sk-toggleable__label-arrow:before {color: black;}#sk-container-id-1 div.sk-toggleable__content {max-height: 0;max-width: 0;overflow: hidden;text-align: left;background-color: #f0f8ff;}#sk-container-id-1 div.sk-toggleable__content pre {margin: 0.2em;color: black;border-radius: 0.25em;background-color: #f0f8ff;}#sk-container-id-1 input.sk-toggleable__control:checked~div.sk-toggleable__content {max-height: 200px;max-width: 100%;overflow: auto;}#sk-container-id-1 input.sk-toggleable__control:checked~label.sk-toggleable__label-arrow:before {content: \"▾\";}#sk-container-id-1 div.sk-estimator input.sk-toggleable__control:checked~label.sk-toggleable__label {background-color: #d4ebff;}#sk-container-id-1 div.sk-label input.sk-toggleable__control:checked~label.sk-toggleable__label {background-color: #d4ebff;}#sk-container-id-1 input.sk-hidden--visually {border: 0;clip: rect(1px 1px 1px 1px);clip: rect(1px, 1px, 1px, 1px);height: 1px;margin: -1px;overflow: hidden;padding: 0;position: absolute;width: 1px;}#sk-container-id-1 div.sk-estimator {font-family: monospace;background-color: #f0f8ff;border: 1px dotted black;border-radius: 0.25em;box-sizing: border-box;margin-bottom: 0.5em;}#sk-container-id-1 div.sk-estimator:hover {background-color: #d4ebff;}#sk-container-id-1 div.sk-parallel-item::after {content: \"\";width: 100%;border-bottom: 1px solid gray;flex-grow: 1;}#sk-container-id-1 div.sk-label:hover label.sk-toggleable__label {background-color: #d4ebff;}#sk-container-id-1 div.sk-serial::before {content: \"\";position: absolute;border-left: 1px solid gray;box-sizing: border-box;top: 0;bottom: 0;left: 50%;z-index: 0;}#sk-container-id-1 div.sk-serial {display: flex;flex-direction: column;align-items: center;background-color: white;padding-right: 0.2em;padding-left: 0.2em;position: relative;}#sk-container-id-1 div.sk-item {position: relative;z-index: 1;}#sk-container-id-1 div.sk-parallel {display: flex;align-items: stretch;justify-content: center;background-color: white;position: relative;}#sk-container-id-1 div.sk-item::before, #sk-container-id-1 div.sk-parallel-item::before {content: \"\";position: absolute;border-left: 1px solid gray;box-sizing: border-box;top: 0;bottom: 0;left: 50%;z-index: -1;}#sk-container-id-1 div.sk-parallel-item {display: flex;flex-direction: column;z-index: 1;position: relative;background-color: white;}#sk-container-id-1 div.sk-parallel-item:first-child::after {align-self: flex-end;width: 50%;}#sk-container-id-1 div.sk-parallel-item:last-child::after {align-self: flex-start;width: 50%;}#sk-container-id-1 div.sk-parallel-item:only-child::after {width: 0;}#sk-container-id-1 div.sk-dashed-wrapped {border: 1px dashed gray;margin: 0 0.4em 0.5em 0.4em;box-sizing: border-box;padding-bottom: 0.4em;background-color: white;}#sk-container-id-1 div.sk-label label {font-family: monospace;font-weight: bold;display: inline-block;line-height: 1.2em;}#sk-container-id-1 div.sk-label-container {text-align: center;}#sk-container-id-1 div.sk-container {/* jupyter's `normalize.less` sets `[hidden] { display: none; }` but bootstrap.min.css set `[hidden] { display: none !important; }` so we also need the `!important` here to be able to override the default hidden behavior on the sphinx rendered scikit-learn.org. See: https://github.com/scikit-learn/scikit-learn/issues/21755 */display: inline-block !important;position: relative;}#sk-container-id-1 div.sk-text-repr-fallback {display: none;}</style><div id=\"sk-container-id-1\" class=\"sk-top-container\"><div class=\"sk-text-repr-fallback\"><pre>RandomForestClassifier(criterion=&#x27;log_loss&#x27;, max_features=3, min_samples_leaf=2,\n",
       "                       n_estimators=680, n_jobs=4)</pre><b>In a Jupyter environment, please rerun this cell to show the HTML representation or trust the notebook. <br />On GitHub, the HTML representation is unable to render, please try loading this page with nbviewer.org.</b></div><div class=\"sk-container\" hidden><div class=\"sk-item\"><div class=\"sk-estimator sk-toggleable\"><input class=\"sk-toggleable__control sk-hidden--visually\" id=\"sk-estimator-id-1\" type=\"checkbox\" checked><label for=\"sk-estimator-id-1\" class=\"sk-toggleable__label sk-toggleable__label-arrow\">RandomForestClassifier</label><div class=\"sk-toggleable__content\"><pre>RandomForestClassifier(criterion=&#x27;log_loss&#x27;, max_features=3, min_samples_leaf=2,\n",
       "                       n_estimators=680, n_jobs=4)</pre></div></div></div></div></div>"
      ],
      "text/plain": [
       "RandomForestClassifier(criterion='log_loss', max_features=3, min_samples_leaf=2,\n",
       "                       n_estimators=680, n_jobs=4)"
      ]
     },
     "execution_count": 54,
     "metadata": {},
     "output_type": "execute_result"
    }
   ],
   "source": [
    "rf_model = RandomForestClassifier(n_estimators=680,\n",
    "                          criterion='log_loss', \n",
    "                          max_features = 3, \n",
    "                          min_samples_leaf = 2, n_jobs=4\n",
    "                        )\n",
    "rf_model.fit(X_train_std,y_train)"
   ]
  },
  {
   "cell_type": "code",
   "execution_count": 55,
   "id": "6c667c74",
   "metadata": {},
   "outputs": [
    {
     "name": "stdout",
     "output_type": "stream",
     "text": [
      "testing accuracy 0.9217791411042945\n"
     ]
    }
   ],
   "source": [
    "pred_classes = rf_model.predict(X_test_std) # predicted class labels\n",
    "print('testing accuracy',accuracy_score(y_test,pred_classes)) "
   ]
  }
 ],
 "metadata": {
  "kernelspec": {
   "display_name": "Python 3 (ipykernel)",
   "language": "python",
   "name": "python3"
  },
  "language_info": {
   "codemirror_mode": {
    "name": "ipython",
    "version": 3
   },
   "file_extension": ".py",
   "mimetype": "text/x-python",
   "name": "python",
   "nbconvert_exporter": "python",
   "pygments_lexer": "ipython3",
   "version": "3.9.12"
  }
 },
 "nbformat": 4,
 "nbformat_minor": 5
}
