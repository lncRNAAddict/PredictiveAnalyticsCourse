{
 "cells": [
  {
   "cell_type": "markdown",
   "id": "ba4dad10",
   "metadata": {},
   "source": [
    "### Read data and class labels"
   ]
  },
  {
   "cell_type": "code",
   "execution_count": 1,
   "id": "836a1c1f",
   "metadata": {},
   "outputs": [],
   "source": [
    "import numpy as np\n",
    "import pandas as pd"
   ]
  },
  {
   "cell_type": "code",
   "execution_count": 2,
   "id": "c4cbe863",
   "metadata": {},
   "outputs": [],
   "source": [
    "data = pd.read_csv('testdata.txt',header=None)\n",
    "data.columns=['x','y']\n",
    "data_class = pd.read_csv('test_class.txt',header=None)\n",
    "data_class.columns=['class']"
   ]
  },
  {
   "cell_type": "code",
   "execution_count": 3,
   "id": "0c8e711a",
   "metadata": {},
   "outputs": [
    {
     "data": {
      "text/html": [
       "<div>\n",
       "<style scoped>\n",
       "    .dataframe tbody tr th:only-of-type {\n",
       "        vertical-align: middle;\n",
       "    }\n",
       "\n",
       "    .dataframe tbody tr th {\n",
       "        vertical-align: top;\n",
       "    }\n",
       "\n",
       "    .dataframe thead th {\n",
       "        text-align: right;\n",
       "    }\n",
       "</style>\n",
       "<table border=\"1\" class=\"dataframe\">\n",
       "  <thead>\n",
       "    <tr style=\"text-align: right;\">\n",
       "      <th></th>\n",
       "      <th>x</th>\n",
       "      <th>y</th>\n",
       "    </tr>\n",
       "  </thead>\n",
       "  <tbody>\n",
       "    <tr>\n",
       "      <th>0</th>\n",
       "      <td>-0.699995</td>\n",
       "      <td>-0.743299</td>\n",
       "    </tr>\n",
       "    <tr>\n",
       "      <th>1</th>\n",
       "      <td>0.283845</td>\n",
       "      <td>0.266875</td>\n",
       "    </tr>\n",
       "    <tr>\n",
       "      <th>2</th>\n",
       "      <td>-0.699995</td>\n",
       "      <td>-0.743299</td>\n",
       "    </tr>\n",
       "    <tr>\n",
       "      <th>3</th>\n",
       "      <td>1.595632</td>\n",
       "      <td>1.613773</td>\n",
       "    </tr>\n",
       "    <tr>\n",
       "      <th>4</th>\n",
       "      <td>-0.699995</td>\n",
       "      <td>-0.743299</td>\n",
       "    </tr>\n",
       "  </tbody>\n",
       "</table>\n",
       "</div>"
      ],
      "text/plain": [
       "          x         y\n",
       "0 -0.699995 -0.743299\n",
       "1  0.283845  0.266875\n",
       "2 -0.699995 -0.743299\n",
       "3  1.595632  1.613773\n",
       "4 -0.699995 -0.743299"
      ]
     },
     "execution_count": 3,
     "metadata": {},
     "output_type": "execute_result"
    }
   ],
   "source": [
    "data.head()"
   ]
  },
  {
   "cell_type": "code",
   "execution_count": 4,
   "id": "161b79ae",
   "metadata": {},
   "outputs": [
    {
     "data": {
      "text/html": [
       "<div>\n",
       "<style scoped>\n",
       "    .dataframe tbody tr th:only-of-type {\n",
       "        vertical-align: middle;\n",
       "    }\n",
       "\n",
       "    .dataframe tbody tr th {\n",
       "        vertical-align: top;\n",
       "    }\n",
       "\n",
       "    .dataframe thead th {\n",
       "        text-align: right;\n",
       "    }\n",
       "</style>\n",
       "<table border=\"1\" class=\"dataframe\">\n",
       "  <thead>\n",
       "    <tr style=\"text-align: right;\">\n",
       "      <th></th>\n",
       "      <th>class</th>\n",
       "    </tr>\n",
       "  </thead>\n",
       "  <tbody>\n",
       "    <tr>\n",
       "      <th>0</th>\n",
       "      <td>0</td>\n",
       "    </tr>\n",
       "    <tr>\n",
       "      <th>1</th>\n",
       "      <td>0</td>\n",
       "    </tr>\n",
       "    <tr>\n",
       "      <th>2</th>\n",
       "      <td>0</td>\n",
       "    </tr>\n",
       "    <tr>\n",
       "      <th>3</th>\n",
       "      <td>0</td>\n",
       "    </tr>\n",
       "    <tr>\n",
       "      <th>4</th>\n",
       "      <td>0</td>\n",
       "    </tr>\n",
       "  </tbody>\n",
       "</table>\n",
       "</div>"
      ],
      "text/plain": [
       "   class\n",
       "0      0\n",
       "1      0\n",
       "2      0\n",
       "3      0\n",
       "4      0"
      ]
     },
     "execution_count": 4,
     "metadata": {},
     "output_type": "execute_result"
    }
   ],
   "source": [
    "data_class.head()"
   ]
  },
  {
   "cell_type": "markdown",
   "id": "cae23c17",
   "metadata": {},
   "source": [
    "### Functions to compute output of hidden layer and output layer "
   ]
  },
  {
   "cell_type": "code",
   "execution_count": 5,
   "id": "7db4a662",
   "metadata": {},
   "outputs": [],
   "source": [
    "def output_of_hidden_layer(input1,input2,w1,w2,w3,w4):\n",
    "    h1_out = max(0,w1*input1 + w3*input2)# RELU\n",
    "    h2_out = max(0,w2*input1 + w4*input2)# RELU\n",
    "    return (h1_out,h2_out)\n",
    "\n",
    "import math\n",
    "def output_softmax(input1,input2,w5,w6,w7,w8):\n",
    "    output1_out = math.exp(w5*input1 + w7*input2)\n",
    "    output2_out = math.exp(w6*input1 + w8*input2)\n",
    "    D = output1_out + output2_out\n",
    "    output1_out = output1_out/D\n",
    "    output2_out = output2_out/D\n",
    "    \n",
    "    return (output1_out,output2_out)"
   ]
  },
  {
   "cell_type": "markdown",
   "id": "39325bd7",
   "metadata": {},
   "source": [
    "### Function to calculate accuracy "
   ]
  },
  {
   "cell_type": "code",
   "execution_count": 10,
   "id": "19dcec37",
   "metadata": {},
   "outputs": [],
   "source": [
    "#actual_class (n samples,) labels\n",
    "#pred_prob(n samples, 2) probabilities values\n",
    "from sklearn.metrics import accuracy_score\n",
    "def compute_accuracy(actual_class,pred_prob):\n",
    "    pred_class=np.argmax(pred_prob , axis=1)\n",
    "    print(pred_class)\n",
    "    return(accuracy_score(actual_class,pred_class))"
   ]
  },
  {
   "cell_type": "markdown",
   "id": "6d543915",
   "metadata": {},
   "source": [
    "### Calculate accuracy for set1 weights"
   ]
  },
  {
   "cell_type": "code",
   "execution_count": 11,
   "id": "f1ef68b1",
   "metadata": {},
   "outputs": [
    {
     "name": "stdout",
     "output_type": "stream",
     "text": [
      "[0 1 0 1 0 1 0 0 0 0 0 0 0 0 1 1 0 0 1 0 0 1 0 1 0 0 0 0 0 0 0 0 1 0 0 0 1\n",
      " 0 1 1 1 1 1 1 1 0 1 0 0 1 1 0 1 1 1 1 1 0 0 1 1 0 1 1 0 0 0 1 1 0 0 1 0 1\n",
      " 1 0 0 0 0 0 0 0 0 0 1 1 1 1 0 0 0 0 0 0 0 0 0 0 1 1 1 1 0 0 1 1 1 1 0 1 0\n",
      " 1 0 1 0 0 0 1 0 0 0 0 1 1 1 0 1 0 1 0 0 0 1 0 0 0 0 0 0 0 0 0 1 0 0 0 1 0\n",
      " 0 1 0 0 1 0 0 1 0 0 0 1 1 0 0 0 0 0 1 1 0 0 0 0 0 1 1 1 0 1 0 0 0 0 0 1 1\n",
      " 0 1 1 1 0 1 1 0 0 0 0 1 0 0 0 1 1 0 0 0 1 1 0 0 0 1 1 0 1 1 1 0 0 1 0 0 1\n",
      " 0 1 1 0 1 1 0 1 1 1 1 1 0 0 1 1 1 1 0 0 0 0 0 0 1 1 0 0 0 1 0 1 1 1 0 0 0\n",
      " 1 1 1 1 1 1 0 1 1 1 0 1 0 1 0 0 0 0 0 0 1 0 0 1 1 1 1 1 0 0 1 0 0 1 1 0 1\n",
      " 1 1 0 0 1 0 1 0 1 1 0 0 1 0 0 0 1 0 0 1 1 1 0 1 1 0 0 1 0 0 0 0 1 1 1 0 0\n",
      " 1 1 0 1 0 0 1 0 0 0 0 1 0 0 0 1 0 0 0 1 1 0 0 0 1 1 1 1 1 0 1 0 0 1 1 0 0\n",
      " 0 0 0 0 0 0 0 0 0 1 0 1 0 0 0 0 1 0 0 0 0 1 0 0 0 0 0 0 0 0 1 0 0 0 0 0 0\n",
      " 0 0 0 0 0 1 0 1 0 1 0 0 0 0 1 0 0 0 1 1 1 0 0 0 0 0 0 1 1 1 0 0 0 1 0 0 0\n",
      " 0 0 0 0 0 1 0 0 0 1 0 0 1 1 0 0 0 0 0 0 0 1 1 1 0 0 0 0 0 0 0 0 0 0 0 1 0\n",
      " 0 1 1 0 0 0 1 1 0 0 1 0 1 0 0 0 0 0 0 0 0 0 0 0 0 1 0 0 0 0 0 0 0 1 1 0 0\n",
      " 0 1 0 0 1 1 0 0 0 0 0 0 1 0 0 0 0 0 0 0 0 0 0 0 0 0 0 0 1 0 0 1 0 0 0 0 0\n",
      " 0 0 0 0 0 0 0 0 0 0 1 0 0 1 1 1 1 0 0 1 0 0 0 0 0 0 1 1 0 0 0 1 0 1 0 1 1\n",
      " 1 0 1 0 0 0 0 0 0 0 0 1 0 1 0 0 1 0 1 1 1 0 0 0 0 0 0 0 0 0 0 0 0 0 1 0 0\n",
      " 0 0 0 0 1 0 0 1 0 0 0 0 0 0 0 0 0 0 0 1 0 0 0 0 0 0 0 0 1 1 0 0 0 0 0 0 0\n",
      " 0 0 1 1 1 0 0 0 0 0 0 0 0 0 1 1 0 0 0 0 0 0 0 0 0 1 0 0 0 0 1 1 1]\n"
     ]
    },
    {
     "data": {
      "text/plain": [
       "0.9456366237482118"
      ]
     },
     "execution_count": 11,
     "metadata": {},
     "output_type": "execute_result"
    }
   ],
   "source": [
    "'''\n",
    "set1\n",
    "'''\n",
    "w1=1.3438\n",
    "w2=-0.6225\n",
    "w3=0.3509\n",
    "w4=-0.8999\n",
    "w5=-1.1398\n",
    "w6=0.3944\n",
    "w7=1.3882\n",
    "w8=-0.8676\n",
    "pred_prob = np.zeros(data.shape)\n",
    "'''\n",
    "for each sample, compute the predicted probabilities \n",
    "'''\n",
    "for i in range(0,data.shape[0]):\n",
    "    input1 = data.to_numpy()[i,0]\n",
    "    input2 = data.to_numpy()[i,1]\n",
    "    (h1_out,h2_out)=output_of_hidden_layer(input1,input2,w1,w2,w3,w4)\n",
    "    (output1_out,output2_out)=output_softmax(h1_out,h2_out,w5,w6,w7,w8)\n",
    "    pred_prob[i,0]=output1_out\n",
    "    pred_prob[i,1]=output2_out\n",
    "    \n",
    "compute_accuracy(data_class.to_numpy(dtype=\"int\"),pred_prob)"
   ]
  },
  {
   "cell_type": "code",
   "execution_count": 8,
   "id": "f768d0e9",
   "metadata": {},
   "outputs": [
    {
     "data": {
      "text/plain": [
       "array([[0.92356855, 0.07643145],\n",
       "       [0.32544409, 0.67455591],\n",
       "       [0.92356855, 0.07643145],\n",
       "       ...,\n",
       "       [0.00280595, 0.99719405],\n",
       "       [0.0219698 , 0.9780302 ],\n",
       "       [0.01539158, 0.98460842]])"
      ]
     },
     "execution_count": 8,
     "metadata": {},
     "output_type": "execute_result"
    }
   ],
   "source": [
    "pred_prob"
   ]
  },
  {
   "cell_type": "code",
   "execution_count": 9,
   "id": "4223892e",
   "metadata": {},
   "outputs": [
    {
     "data": {
      "text/plain": [
       "(699, 2)"
      ]
     },
     "execution_count": 9,
     "metadata": {},
     "output_type": "execute_result"
    }
   ],
   "source": [
    "pred_prob.shape"
   ]
  },
  {
   "cell_type": "markdown",
   "id": "63864454",
   "metadata": {},
   "source": [
    "### Calculate accuracy for set2 weights"
   ]
  },
  {
   "cell_type": "code",
   "execution_count": 8,
   "id": "3e52f14b",
   "metadata": {},
   "outputs": [
    {
     "data": {
      "text/plain": [
       "0.32331902718168815"
      ]
     },
     "execution_count": 8,
     "metadata": {},
     "output_type": "execute_result"
    }
   ],
   "source": [
    "'''\n",
    "set2\n",
    "'''\n",
    "w1=0.8061\n",
    "w2=0.2354\n",
    "w3=-0.4092\n",
    "w4=-0.8999\n",
    "w5=-0.5538\n",
    "w6=-0.1916\n",
    "w7=0.0288\n",
    "w8=0.4918\n",
    "pred_prob = np.zeros(data.shape)\n",
    "'''\n",
    "for each sample, compute the predicted probabilities \n",
    "'''\n",
    "for i in range(0,data.shape[0]):\n",
    "    input1 = data.to_numpy()[i,0]\n",
    "    input2 = data.to_numpy()[i,1]\n",
    "    (h1_out,h2_out)=output_of_hidden_layer(input1,input2,w1,w2,w3,w4)\n",
    "    (output1_out,output2_out)=output_softmax(h1_out,h2_out,w5,w6,w7,w8)\n",
    "    pred_prob[i,0]=output1_out\n",
    "    pred_prob[i,1]=output2_out\n",
    "    \n",
    "compute_accuracy(data_class.to_numpy(dtype=\"int\"),pred_prob)"
   ]
  }
 ],
 "metadata": {
  "kernelspec": {
   "display_name": "Python 3 (ipykernel)",
   "language": "python",
   "name": "python3"
  },
  "language_info": {
   "codemirror_mode": {
    "name": "ipython",
    "version": 3
   },
   "file_extension": ".py",
   "mimetype": "text/x-python",
   "name": "python",
   "nbconvert_exporter": "python",
   "pygments_lexer": "ipython3",
   "version": "3.9.12"
  }
 },
 "nbformat": 4,
 "nbformat_minor": 5
}
