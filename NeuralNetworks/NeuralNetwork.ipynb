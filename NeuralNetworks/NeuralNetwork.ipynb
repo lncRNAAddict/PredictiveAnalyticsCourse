{
 "cells": [
  {
   "cell_type": "markdown",
   "id": "497f1dfd",
   "metadata": {},
   "source": [
    "# Multilayer Neural network training using MLPClassifier from Scikitlearn"
   ]
  },
  {
   "cell_type": "markdown",
   "id": "9072660d",
   "metadata": {},
   "source": [
    "`Pre-requisite`:\n",
    "    Please go through the theory materials on Neural Network before going though this tutorial."
   ]
  },
  {
   "cell_type": "markdown",
   "id": "0b25fb6c",
   "metadata": {},
   "source": [
    "### Dataset"
   ]
  },
  {
   "cell_type": "markdown",
   "id": "f92d418c",
   "metadata": {},
   "source": [
    "Diabetes dataset for 768 women"
   ]
  },
  {
   "cell_type": "markdown",
   "id": "a54ec65a",
   "metadata": {},
   "source": [
    "original source is https://www.kaggle.com/datasets/saurabh00007/diabetescsv?select=diabetes.csv"
   ]
  },
  {
   "cell_type": "code",
   "execution_count": 1,
   "id": "cc672152",
   "metadata": {},
   "outputs": [],
   "source": [
    "import pandas as pd"
   ]
  },
  {
   "cell_type": "code",
   "execution_count": 2,
   "id": "6cfebbfc",
   "metadata": {},
   "outputs": [
    {
     "data": {
      "text/html": [
       "<div>\n",
       "<style scoped>\n",
       "    .dataframe tbody tr th:only-of-type {\n",
       "        vertical-align: middle;\n",
       "    }\n",
       "\n",
       "    .dataframe tbody tr th {\n",
       "        vertical-align: top;\n",
       "    }\n",
       "\n",
       "    .dataframe thead th {\n",
       "        text-align: right;\n",
       "    }\n",
       "</style>\n",
       "<table border=\"1\" class=\"dataframe\">\n",
       "  <thead>\n",
       "    <tr style=\"text-align: right;\">\n",
       "      <th></th>\n",
       "      <th>Pregnancies</th>\n",
       "      <th>Glucose</th>\n",
       "      <th>BloodPressure</th>\n",
       "      <th>SkinThickness</th>\n",
       "      <th>Insulin</th>\n",
       "      <th>BMI</th>\n",
       "      <th>DiabetesPedigreeFunction</th>\n",
       "      <th>Age</th>\n",
       "      <th>Outcome</th>\n",
       "    </tr>\n",
       "  </thead>\n",
       "  <tbody>\n",
       "    <tr>\n",
       "      <th>0</th>\n",
       "      <td>6</td>\n",
       "      <td>148</td>\n",
       "      <td>72</td>\n",
       "      <td>35</td>\n",
       "      <td>0</td>\n",
       "      <td>33.6</td>\n",
       "      <td>0.627</td>\n",
       "      <td>50</td>\n",
       "      <td>1</td>\n",
       "    </tr>\n",
       "    <tr>\n",
       "      <th>1</th>\n",
       "      <td>1</td>\n",
       "      <td>85</td>\n",
       "      <td>66</td>\n",
       "      <td>29</td>\n",
       "      <td>0</td>\n",
       "      <td>26.6</td>\n",
       "      <td>0.351</td>\n",
       "      <td>31</td>\n",
       "      <td>0</td>\n",
       "    </tr>\n",
       "    <tr>\n",
       "      <th>2</th>\n",
       "      <td>8</td>\n",
       "      <td>183</td>\n",
       "      <td>64</td>\n",
       "      <td>0</td>\n",
       "      <td>0</td>\n",
       "      <td>23.3</td>\n",
       "      <td>0.672</td>\n",
       "      <td>32</td>\n",
       "      <td>1</td>\n",
       "    </tr>\n",
       "    <tr>\n",
       "      <th>3</th>\n",
       "      <td>1</td>\n",
       "      <td>89</td>\n",
       "      <td>66</td>\n",
       "      <td>23</td>\n",
       "      <td>94</td>\n",
       "      <td>28.1</td>\n",
       "      <td>0.167</td>\n",
       "      <td>21</td>\n",
       "      <td>0</td>\n",
       "    </tr>\n",
       "    <tr>\n",
       "      <th>4</th>\n",
       "      <td>0</td>\n",
       "      <td>137</td>\n",
       "      <td>40</td>\n",
       "      <td>35</td>\n",
       "      <td>168</td>\n",
       "      <td>43.1</td>\n",
       "      <td>2.288</td>\n",
       "      <td>33</td>\n",
       "      <td>1</td>\n",
       "    </tr>\n",
       "    <tr>\n",
       "      <th>...</th>\n",
       "      <td>...</td>\n",
       "      <td>...</td>\n",
       "      <td>...</td>\n",
       "      <td>...</td>\n",
       "      <td>...</td>\n",
       "      <td>...</td>\n",
       "      <td>...</td>\n",
       "      <td>...</td>\n",
       "      <td>...</td>\n",
       "    </tr>\n",
       "    <tr>\n",
       "      <th>763</th>\n",
       "      <td>10</td>\n",
       "      <td>101</td>\n",
       "      <td>76</td>\n",
       "      <td>48</td>\n",
       "      <td>180</td>\n",
       "      <td>32.9</td>\n",
       "      <td>0.171</td>\n",
       "      <td>63</td>\n",
       "      <td>0</td>\n",
       "    </tr>\n",
       "    <tr>\n",
       "      <th>764</th>\n",
       "      <td>2</td>\n",
       "      <td>122</td>\n",
       "      <td>70</td>\n",
       "      <td>27</td>\n",
       "      <td>0</td>\n",
       "      <td>36.8</td>\n",
       "      <td>0.340</td>\n",
       "      <td>27</td>\n",
       "      <td>0</td>\n",
       "    </tr>\n",
       "    <tr>\n",
       "      <th>765</th>\n",
       "      <td>5</td>\n",
       "      <td>121</td>\n",
       "      <td>72</td>\n",
       "      <td>23</td>\n",
       "      <td>112</td>\n",
       "      <td>26.2</td>\n",
       "      <td>0.245</td>\n",
       "      <td>30</td>\n",
       "      <td>0</td>\n",
       "    </tr>\n",
       "    <tr>\n",
       "      <th>766</th>\n",
       "      <td>1</td>\n",
       "      <td>126</td>\n",
       "      <td>60</td>\n",
       "      <td>0</td>\n",
       "      <td>0</td>\n",
       "      <td>30.1</td>\n",
       "      <td>0.349</td>\n",
       "      <td>47</td>\n",
       "      <td>1</td>\n",
       "    </tr>\n",
       "    <tr>\n",
       "      <th>767</th>\n",
       "      <td>1</td>\n",
       "      <td>93</td>\n",
       "      <td>70</td>\n",
       "      <td>31</td>\n",
       "      <td>0</td>\n",
       "      <td>30.4</td>\n",
       "      <td>0.315</td>\n",
       "      <td>23</td>\n",
       "      <td>0</td>\n",
       "    </tr>\n",
       "  </tbody>\n",
       "</table>\n",
       "<p>768 rows × 9 columns</p>\n",
       "</div>"
      ],
      "text/plain": [
       "     Pregnancies  Glucose  BloodPressure  SkinThickness  Insulin   BMI  \\\n",
       "0              6      148             72             35        0  33.6   \n",
       "1              1       85             66             29        0  26.6   \n",
       "2              8      183             64              0        0  23.3   \n",
       "3              1       89             66             23       94  28.1   \n",
       "4              0      137             40             35      168  43.1   \n",
       "..           ...      ...            ...            ...      ...   ...   \n",
       "763           10      101             76             48      180  32.9   \n",
       "764            2      122             70             27        0  36.8   \n",
       "765            5      121             72             23      112  26.2   \n",
       "766            1      126             60              0        0  30.1   \n",
       "767            1       93             70             31        0  30.4   \n",
       "\n",
       "     DiabetesPedigreeFunction  Age  Outcome  \n",
       "0                       0.627   50        1  \n",
       "1                       0.351   31        0  \n",
       "2                       0.672   32        1  \n",
       "3                       0.167   21        0  \n",
       "4                       2.288   33        1  \n",
       "..                        ...  ...      ...  \n",
       "763                     0.171   63        0  \n",
       "764                     0.340   27        0  \n",
       "765                     0.245   30        0  \n",
       "766                     0.349   47        1  \n",
       "767                     0.315   23        0  \n",
       "\n",
       "[768 rows x 9 columns]"
      ]
     },
     "execution_count": 2,
     "metadata": {},
     "output_type": "execute_result"
    }
   ],
   "source": [
    "df = pd.read_csv('diabetes.csv')\n",
    "df"
   ]
  },
  {
   "cell_type": "markdown",
   "id": "e87f5718",
   "metadata": {},
   "source": [
    "`Outcome` column is the class label (0: not diabetic & 1: diabetic). \n",
    "\n",
    "Note that there is class imbalance."
   ]
  },
  {
   "cell_type": "code",
   "execution_count": 3,
   "id": "afdf4671",
   "metadata": {},
   "outputs": [
    {
     "name": "stdout",
     "output_type": "stream",
     "text": [
      "Class distributions\n"
     ]
    },
    {
     "data": {
      "text/plain": [
       "0    500\n",
       "1    268\n",
       "Name: Outcome, dtype: int64"
      ]
     },
     "execution_count": 3,
     "metadata": {},
     "output_type": "execute_result"
    }
   ],
   "source": [
    "print(\"Class distributions\")\n",
    "df['Outcome'].value_counts()"
   ]
  },
  {
   "cell_type": "markdown",
   "id": "aa53bbe6",
   "metadata": {},
   "source": [
    "Separate the features and class columns"
   ]
  },
  {
   "cell_type": "code",
   "execution_count": 4,
   "id": "fe0d6f3d",
   "metadata": {},
   "outputs": [
    {
     "data": {
      "text/html": [
       "<div>\n",
       "<style scoped>\n",
       "    .dataframe tbody tr th:only-of-type {\n",
       "        vertical-align: middle;\n",
       "    }\n",
       "\n",
       "    .dataframe tbody tr th {\n",
       "        vertical-align: top;\n",
       "    }\n",
       "\n",
       "    .dataframe thead th {\n",
       "        text-align: right;\n",
       "    }\n",
       "</style>\n",
       "<table border=\"1\" class=\"dataframe\">\n",
       "  <thead>\n",
       "    <tr style=\"text-align: right;\">\n",
       "      <th></th>\n",
       "      <th>Pregnancies</th>\n",
       "      <th>Glucose</th>\n",
       "      <th>BloodPressure</th>\n",
       "      <th>SkinThickness</th>\n",
       "      <th>Insulin</th>\n",
       "      <th>BMI</th>\n",
       "      <th>DiabetesPedigreeFunction</th>\n",
       "      <th>Age</th>\n",
       "    </tr>\n",
       "  </thead>\n",
       "  <tbody>\n",
       "    <tr>\n",
       "      <th>0</th>\n",
       "      <td>6</td>\n",
       "      <td>148</td>\n",
       "      <td>72</td>\n",
       "      <td>35</td>\n",
       "      <td>0</td>\n",
       "      <td>33.6</td>\n",
       "      <td>0.627</td>\n",
       "      <td>50</td>\n",
       "    </tr>\n",
       "    <tr>\n",
       "      <th>1</th>\n",
       "      <td>1</td>\n",
       "      <td>85</td>\n",
       "      <td>66</td>\n",
       "      <td>29</td>\n",
       "      <td>0</td>\n",
       "      <td>26.6</td>\n",
       "      <td>0.351</td>\n",
       "      <td>31</td>\n",
       "    </tr>\n",
       "    <tr>\n",
       "      <th>2</th>\n",
       "      <td>8</td>\n",
       "      <td>183</td>\n",
       "      <td>64</td>\n",
       "      <td>0</td>\n",
       "      <td>0</td>\n",
       "      <td>23.3</td>\n",
       "      <td>0.672</td>\n",
       "      <td>32</td>\n",
       "    </tr>\n",
       "    <tr>\n",
       "      <th>3</th>\n",
       "      <td>1</td>\n",
       "      <td>89</td>\n",
       "      <td>66</td>\n",
       "      <td>23</td>\n",
       "      <td>94</td>\n",
       "      <td>28.1</td>\n",
       "      <td>0.167</td>\n",
       "      <td>21</td>\n",
       "    </tr>\n",
       "    <tr>\n",
       "      <th>4</th>\n",
       "      <td>0</td>\n",
       "      <td>137</td>\n",
       "      <td>40</td>\n",
       "      <td>35</td>\n",
       "      <td>168</td>\n",
       "      <td>43.1</td>\n",
       "      <td>2.288</td>\n",
       "      <td>33</td>\n",
       "    </tr>\n",
       "    <tr>\n",
       "      <th>...</th>\n",
       "      <td>...</td>\n",
       "      <td>...</td>\n",
       "      <td>...</td>\n",
       "      <td>...</td>\n",
       "      <td>...</td>\n",
       "      <td>...</td>\n",
       "      <td>...</td>\n",
       "      <td>...</td>\n",
       "    </tr>\n",
       "    <tr>\n",
       "      <th>763</th>\n",
       "      <td>10</td>\n",
       "      <td>101</td>\n",
       "      <td>76</td>\n",
       "      <td>48</td>\n",
       "      <td>180</td>\n",
       "      <td>32.9</td>\n",
       "      <td>0.171</td>\n",
       "      <td>63</td>\n",
       "    </tr>\n",
       "    <tr>\n",
       "      <th>764</th>\n",
       "      <td>2</td>\n",
       "      <td>122</td>\n",
       "      <td>70</td>\n",
       "      <td>27</td>\n",
       "      <td>0</td>\n",
       "      <td>36.8</td>\n",
       "      <td>0.340</td>\n",
       "      <td>27</td>\n",
       "    </tr>\n",
       "    <tr>\n",
       "      <th>765</th>\n",
       "      <td>5</td>\n",
       "      <td>121</td>\n",
       "      <td>72</td>\n",
       "      <td>23</td>\n",
       "      <td>112</td>\n",
       "      <td>26.2</td>\n",
       "      <td>0.245</td>\n",
       "      <td>30</td>\n",
       "    </tr>\n",
       "    <tr>\n",
       "      <th>766</th>\n",
       "      <td>1</td>\n",
       "      <td>126</td>\n",
       "      <td>60</td>\n",
       "      <td>0</td>\n",
       "      <td>0</td>\n",
       "      <td>30.1</td>\n",
       "      <td>0.349</td>\n",
       "      <td>47</td>\n",
       "    </tr>\n",
       "    <tr>\n",
       "      <th>767</th>\n",
       "      <td>1</td>\n",
       "      <td>93</td>\n",
       "      <td>70</td>\n",
       "      <td>31</td>\n",
       "      <td>0</td>\n",
       "      <td>30.4</td>\n",
       "      <td>0.315</td>\n",
       "      <td>23</td>\n",
       "    </tr>\n",
       "  </tbody>\n",
       "</table>\n",
       "<p>768 rows × 8 columns</p>\n",
       "</div>"
      ],
      "text/plain": [
       "     Pregnancies  Glucose  BloodPressure  SkinThickness  Insulin   BMI  \\\n",
       "0              6      148             72             35        0  33.6   \n",
       "1              1       85             66             29        0  26.6   \n",
       "2              8      183             64              0        0  23.3   \n",
       "3              1       89             66             23       94  28.1   \n",
       "4              0      137             40             35      168  43.1   \n",
       "..           ...      ...            ...            ...      ...   ...   \n",
       "763           10      101             76             48      180  32.9   \n",
       "764            2      122             70             27        0  36.8   \n",
       "765            5      121             72             23      112  26.2   \n",
       "766            1      126             60              0        0  30.1   \n",
       "767            1       93             70             31        0  30.4   \n",
       "\n",
       "     DiabetesPedigreeFunction  Age  \n",
       "0                       0.627   50  \n",
       "1                       0.351   31  \n",
       "2                       0.672   32  \n",
       "3                       0.167   21  \n",
       "4                       2.288   33  \n",
       "..                        ...  ...  \n",
       "763                     0.171   63  \n",
       "764                     0.340   27  \n",
       "765                     0.245   30  \n",
       "766                     0.349   47  \n",
       "767                     0.315   23  \n",
       "\n",
       "[768 rows x 8 columns]"
      ]
     },
     "metadata": {},
     "output_type": "display_data"
    },
    {
     "data": {
      "text/plain": [
       "0      1\n",
       "1      0\n",
       "2      1\n",
       "3      0\n",
       "4      1\n",
       "      ..\n",
       "763    0\n",
       "764    0\n",
       "765    0\n",
       "766    1\n",
       "767    0\n",
       "Name: Outcome, Length: 768, dtype: int64"
      ]
     },
     "metadata": {},
     "output_type": "display_data"
    }
   ],
   "source": [
    "df_features = df.loc[:,'Pregnancies':'Age'].copy(deep=True) # features. \n",
    "df_class = df['Outcome'].copy(deep=True) # class labels\n",
    "display(df_features,df_class)"
   ]
  },
  {
   "cell_type": "markdown",
   "id": "02382ecb",
   "metadata": {},
   "source": [
    "### Split Train and test sets"
   ]
  },
  {
   "cell_type": "code",
   "execution_count": 5,
   "id": "f7027752",
   "metadata": {},
   "outputs": [],
   "source": [
    "from sklearn.model_selection import train_test_split\n",
    "X_train, X_test, y_train, y_test = train_test_split(df_features,df_class,test_size=0.2)"
   ]
  },
  {
   "cell_type": "markdown",
   "id": "8e00b284",
   "metadata": {},
   "source": [
    "### Feature Scaling"
   ]
  },
  {
   "cell_type": "code",
   "execution_count": 6,
   "id": "cc9b8d7a",
   "metadata": {},
   "outputs": [
    {
     "name": "stdout",
     "output_type": "stream",
     "text": [
      "(614, 8)\n",
      "(154, 8)\n",
      "No. of samples in each class in training set \n"
     ]
    },
    {
     "data": {
      "text/plain": [
       "0    392\n",
       "1    222\n",
       "Name: Outcome, dtype: int64"
      ]
     },
     "execution_count": 6,
     "metadata": {},
     "output_type": "execute_result"
    }
   ],
   "source": [
    "from sklearn.preprocessing import StandardScaler\n",
    "stdsc = StandardScaler()\n",
    "X_train_std = stdsc.fit_transform(X_train)\n",
    "X_test_std = stdsc.transform(X_test)\n",
    "print(X_train_std.shape)\n",
    "print(X_test_std.shape)\n",
    "print(\"No. of samples in each class in training set \")\n",
    "y_train.value_counts()"
   ]
  },
  {
   "cell_type": "markdown",
   "id": "4c897020",
   "metadata": {},
   "source": [
    "### Balancing training set using SMOTE"
   ]
  },
  {
   "cell_type": "markdown",
   "id": "b0bc2016",
   "metadata": {},
   "source": [
    "You will need to install a package called `imblearn` to use SMOTE.\n",
    "\n",
    "`pip install imbalanced-learn`\n",
    "\n",
    "or\n",
    "\n",
    "`conda install -c conda-forge imbalanced-learn`\n",
    "\n",
    "https://imbalanced-learn.org/stable/references/generated/imblearn.over_sampling.SMOTE.html"
   ]
  },
  {
   "cell_type": "code",
   "execution_count": 7,
   "id": "fed5f1d2",
   "metadata": {},
   "outputs": [
    {
     "name": "stdout",
     "output_type": "stream",
     "text": [
      "Size of New training data after SMOTE\n",
      "(784, 8)\n",
      "(784,)\n",
      "Class distribution after SMOTE\n",
      "0    392\n",
      "1    392\n",
      "Name: Outcome, dtype: int64\n"
     ]
    }
   ],
   "source": [
    "from imblearn.over_sampling import SMOTE\n",
    "sm = SMOTE(sampling_strategy='not majority', k_neighbors=5)\n",
    "X_train_smote, y_train_smote = sm.fit_resample(X_train_std, y_train) # note X_train_std is the scaled feature data\n",
    "print(\"Size of New training data after SMOTE\")\n",
    "print(X_train_smote.shape)\n",
    "print(y_train_smote.shape)\n",
    "print(\"Class distribution after SMOTE\")\n",
    "print(y_train_smote.value_counts())"
   ]
  },
  {
   "cell_type": "markdown",
   "id": "7e8b8be5",
   "metadata": {},
   "source": [
    "# Neural Network models\n",
    "\n",
    "#### First model\n",
    "\n",
    "* `number of hidden layer` = 1 with 10 nodes. The network will have one input layer and one output layer and 1 hidden layer.\n",
    "\n",
    "#### Second model\n",
    "* `number of hidden layer` = 2. Each hidden layer will have 10 nodes. The network will have one input layer and one output layer and 2 hidden layers.\n",
    "\n",
    "Some important parameters for training:\n",
    "\n",
    "* `validation_fraction`: During the optimization process, fraction of the training set will be used as a `validation` data. The weights in the model will be updated by optimizing the log loss (binary cross entropy) calculated by using the predictions by the model in the `validation` data and actual class labels of the validation data.\n",
    "* `early_stopping`: terminate training when validation score is not improving. \n",
    "\n",
    "Full information here: https://scikit-learn.org/stable/modules/generated/sklearn.neural_network.MLPClassifier.html\n",
    "\n",
    "### Without cross validation, without hyper parameter optimization\n",
    "\n",
    "* Here, we will not perform hyper parameter optimization. We will simply choose some specific values for the model parameters.\n",
    "* No k-fold cross validation will be performed."
   ]
  },
  {
   "cell_type": "markdown",
   "id": "0dcfbc2a",
   "metadata": {},
   "source": [
    "The MLPClassifier can be used for `multiclass classification` or\n",
    "`binary classification` problems. So the number of nodes in output layer is automatically decided based on type of `y_train`\n",
    "If there is only one node in the output layer, `sigmoid` activation will be used.\n",
    "If there are more than one nodes, `softmax` activation function will be used.\n"
   ]
  },
  {
   "cell_type": "code",
   "execution_count": 8,
   "id": "b53cbae4",
   "metadata": {},
   "outputs": [],
   "source": [
    "from sklearn.neural_network import MLPClassifier\n",
    "\n",
    "nn_model1 = MLPClassifier(hidden_layer_sizes=(10,),\n",
    "                          activation='relu', # activation in the hidden layers\n",
    "                          solver = 'adam', # optimizer name\n",
    "                          alpha = 0, # L2 regularization parameter\n",
    "                          batch_size = 50, # batch size\n",
    "                          learning_rate = 'constant', \n",
    "                          learning_rate_init = 0.001, # learning rate\n",
    "                          early_stopping=True, # how to stop training the model\n",
    "                          validation_fraction=0.1, # how much of training set is used as validation set.\n",
    "                          n_iter_no_change = 10)\n",
    "\n",
    "nn_model2 = MLPClassifier(hidden_layer_sizes=(10,10,),\n",
    "                          activation='relu',\n",
    "                          solver = 'adam',\n",
    "                          alpha = 0,\n",
    "                          batch_size = 50,\n",
    "                          learning_rate = 'constant',\n",
    "                          learning_rate_init = 0.001,\n",
    "                          early_stopping=True,\n",
    "                          validation_fraction=0.1,\n",
    "                          n_iter_no_change = 10)"
   ]
  },
  {
   "cell_type": "code",
   "execution_count": 9,
   "id": "6fde3079",
   "metadata": {},
   "outputs": [
    {
     "data": {
      "text/plain": [
       "MLPClassifier(alpha=0, batch_size=50, early_stopping=True,\n",
       "              hidden_layer_sizes=(10,))"
      ]
     },
     "execution_count": 9,
     "metadata": {},
     "output_type": "execute_result"
    }
   ],
   "source": [
    "nn_model1.fit(X_train_smote, y_train_smote)"
   ]
  },
  {
   "cell_type": "code",
   "execution_count": 10,
   "id": "5ee94b80",
   "metadata": {},
   "outputs": [
    {
     "data": {
      "text/plain": [
       "MLPClassifier(alpha=0, batch_size=50, early_stopping=True,\n",
       "              hidden_layer_sizes=(10, 10))"
      ]
     },
     "execution_count": 10,
     "metadata": {},
     "output_type": "execute_result"
    }
   ],
   "source": [
    "nn_model2.fit(X_train_smote, y_train_smote)"
   ]
  },
  {
   "cell_type": "markdown",
   "id": "e27b3b4c",
   "metadata": {},
   "source": [
    "#### Checking loss function value at each `epoch`"
   ]
  },
  {
   "cell_type": "code",
   "execution_count": 11,
   "id": "0c65509f",
   "metadata": {},
   "outputs": [
    {
     "name": "stdout",
     "output_type": "stream",
     "text": [
      "[0.7726718580596044, 0.7446181283656071, 0.719977897427294, 0.6966895479913401, 0.6765713542690439, 0.657535506037743, 0.6400902747970132, 0.6239219585067648, 0.6091174854396219, 0.5957891610926467, 0.5838710262614301, 0.572251557031012, 0.5628610860757914, 0.5532703938173172, 0.5449305059727997, 0.5376358758914566, 0.5316402049343997, 0.5257792306551158, 0.5206452880790046, 0.5161001246511481, 0.5122964802513026]\n",
      "\n",
      "==========================================================\n",
      "\n",
      "[0.702420123557119, 0.6727158657869383, 0.6486137094516791, 0.628612440660702, 0.6108938888579984, 0.5962498304529793, 0.5838431645445167, 0.5736034693427586, 0.56549627807366, 0.5575253739548415, 0.5509144302521373, 0.5445975408739496, 0.5390000196482848, 0.5336228983129059, 0.5297855845965925, 0.5253945621899125, 0.522345932571079, 0.519591505488061, 0.5168956503027547, 0.5133395384560611]\n"
     ]
    }
   ],
   "source": [
    "print(nn_model1.loss_curve_)\n",
    "print(\"\\n==========================================================\\n\")\n",
    "print(nn_model2.loss_curve_)"
   ]
  },
  {
   "cell_type": "markdown",
   "id": "e6470cef",
   "metadata": {},
   "source": [
    "#### Plotting loss function value at each `epoch`"
   ]
  },
  {
   "cell_type": "code",
   "execution_count": 12,
   "id": "d20db2ab",
   "metadata": {},
   "outputs": [
    {
     "data": {
      "text/plain": [
       "Text(0.5, 1.0, 'model with 1 layer')"
      ]
     },
     "execution_count": 12,
     "metadata": {},
     "output_type": "execute_result"
    },
    {
     "data": {
      "image/png": "[encoded data removed]",
      "text/plain": [
       "<Figure size 432x288 with 1 Axes>"
      ]
     },
     "metadata": {
      "needs_background": "light"
     },
     "output_type": "display_data"
    }
   ],
   "source": [
    "from matplotlib import pyplot as plt\n",
    "\n",
    "ax = plt.plot(nn_model1.loss_curve_)\n",
    "plt.xlabel(\"epoch\")\n",
    "plt.ylabel(\"validation set - loss\")\n",
    "plt.title(\"model with 1 layer\")"
   ]
  },
  {
   "cell_type": "code",
   "execution_count": 13,
   "id": "6ac930ba",
   "metadata": {},
   "outputs": [
    {
     "data": {
      "text/plain": [
       "Text(0.5, 1.0, 'model with 2 layers')"
      ]
     },
     "execution_count": 13,
     "metadata": {},
     "output_type": "execute_result"
    },
    {
     "data": {
      "image/png": "[encoded data removed]",
      "text/plain": [
       "<Figure size 432x288 with 1 Axes>"
      ]
     },
     "metadata": {
      "needs_background": "light"
     },
     "output_type": "display_data"
    }
   ],
   "source": [
    "ax = plt.plot(nn_model2.loss_curve_)\n",
    "plt.xlabel(\"epoch\")\n",
    "plt.ylabel(\"validation set - loss\")\n",
    "plt.title(\"model with 2 layers\")"
   ]
  },
  {
   "cell_type": "markdown",
   "id": "c2cc23d1",
   "metadata": {},
   "source": [
    "### Classification reports"
   ]
  },
  {
   "cell_type": "code",
   "execution_count": 14,
   "id": "61720379",
   "metadata": {},
   "outputs": [
    {
     "name": "stdout",
     "output_type": "stream",
     "text": [
      "\n",
      "=======================================================================\n",
      "Prediction results on test set - NN model with 1 hidden layer\n",
      "              precision    recall  f1-score   support\n",
      "\n",
      "           0       0.83      0.65      0.73       108\n",
      "           1       0.46      0.70      0.55        46\n",
      "\n",
      "    accuracy                           0.66       154\n",
      "   macro avg       0.65      0.67      0.64       154\n",
      "weighted avg       0.72      0.66      0.68       154\n",
      "\n"
     ]
    }
   ],
   "source": [
    "from sklearn.metrics import classification_report\n",
    "from sklearn import metrics\n",
    "print(\"\\n=======================================================================\")\n",
    "print(\"Prediction results on test set - NN model with 1 hidden layer\")\n",
    "y_pred = nn_model1.predict(X_test_std)\n",
    "print(classification_report(y_test,y_pred))"
   ]
  },
  {
   "cell_type": "code",
   "execution_count": 15,
   "id": "90972a74",
   "metadata": {},
   "outputs": [
    {
     "name": "stdout",
     "output_type": "stream",
     "text": [
      "\n",
      "=======================================================================\n",
      "Prediction results on test set - NN model with 2 hidden layers\n",
      "              precision    recall  f1-score   support\n",
      "\n",
      "           0       0.83      0.74      0.78       108\n",
      "           1       0.52      0.65      0.58        46\n",
      "\n",
      "    accuracy                           0.71       154\n",
      "   macro avg       0.68      0.70      0.68       154\n",
      "weighted avg       0.74      0.71      0.72       154\n",
      "\n"
     ]
    }
   ],
   "source": [
    "from sklearn.metrics import classification_report\n",
    "from sklearn import metrics\n",
    "print(\"\\n=======================================================================\")\n",
    "print(\"Prediction results on test set - NN model with 2 hidden layers\")\n",
    "y_pred = nn_model2.predict(X_test_std)\n",
    "print(classification_report(y_test,y_pred))"
   ]
  },
  {
   "cell_type": "markdown",
   "id": "7d4bbd1d",
   "metadata": {},
   "source": [
    "### Extracting weights from the model"
   ]
  },
  {
   "cell_type": "code",
   "execution_count": 16,
   "id": "06c104ef",
   "metadata": {},
   "outputs": [
    {
     "name": "stdout",
     "output_type": "stream",
     "text": [
      "Model1 with one hidden layer with 10 nodes\n",
      "2\n",
      "weights between input layer and hidden layer (8, 10)\n",
      "weights between hidden layer and output layer (10, 1)\n",
      "biases for nn model 1 \n",
      "2\n",
      "biases to hidden layer 1 (10,)\n",
      "biases to output layer (1,)\n"
     ]
    }
   ],
   "source": [
    "print(\"Model1 with one hidden layer with 10 nodes\")\n",
    "print(len(nn_model1.coefs_))\n",
    "print(\"weights between input layer and hidden layer\", nn_model1.coefs_[0].shape)\n",
    "print(\"weights between hidden layer and output layer\",nn_model1.coefs_[1].shape)\n",
    "\n",
    "\n",
    "print(\"biases for nn model 1 \")\n",
    "print(len(nn_model1.intercepts_))\n",
    "print(\"biases to hidden layer 1\",nn_model1.intercepts_[0].shape)\n",
    "print(\"biases to output layer\",nn_model1.intercepts_[1].shape)"
   ]
  },
  {
   "cell_type": "markdown",
   "id": "d5acd24c",
   "metadata": {},
   "source": [
    "* (8,10): number of nodes in input layer and hidden layer are 8 and 10, respectively.\n",
    "* (10,1): number of nodes in hidden layer and output layer are 10, and 1, respectively."
   ]
  },
  {
   "cell_type": "code",
   "execution_count": 17,
   "id": "fb7ffb13",
   "metadata": {},
   "outputs": [
    {
     "name": "stdout",
     "output_type": "stream",
     "text": [
      "Model2 with two hidden layers with 10 nodes\n",
      "3\n",
      "weights between input layer and hidden layer1 (8, 10)\n",
      "weights between hidden layer1 and hidden layer2 (10, 10)\n",
      "weights between hidden layer2 and output layer (10, 1)\n",
      "biases for nn model 2 \n",
      "3\n",
      "biases to hidden layer 1 (10,)\n",
      "biases to hidden layer 2 (10,)\n",
      "biases to output layer (1,)\n"
     ]
    }
   ],
   "source": [
    "print(\"Model2 with two hidden layers with 10 nodes\")\n",
    "print(len(nn_model2.coefs_))\n",
    "print(\"weights between input layer and hidden layer1\", nn_model2.coefs_[0].shape)\n",
    "print(\"weights between hidden layer1 and hidden layer2\",nn_model2.coefs_[1].shape)\n",
    "print(\"weights between hidden layer2 and output layer\",nn_model2.coefs_[2].shape)\n",
    "\n",
    "\n",
    "print(\"biases for nn model 2 \")\n",
    "print(len(nn_model2.intercepts_))\n",
    "print(\"biases to hidden layer 1\",nn_model2.intercepts_[0].shape)\n",
    "print(\"biases to hidden layer 2\",nn_model2.intercepts_[1].shape)\n",
    "print(\"biases to output layer\",nn_model2.intercepts_[2].shape)"
   ]
  },
  {
   "cell_type": "markdown",
   "id": "e3523228",
   "metadata": {},
   "source": [
    "* (8,10): number of nodes in input layer and first hidden layer are 8 and 10, respectively.\n",
    "* (10,10): number of nodes in first hidden layer and second hidden layer are 10, and 10, respectively.\n",
    "* (10,1): number of nodes in last hidden layer and output layer are 10, and 1, respectively."
   ]
  },
  {
   "cell_type": "markdown",
   "id": "6fbadddd",
   "metadata": {},
   "source": [
    "### With cross validation, with hyper parameter optimization using `CVGridSearch`\n"
   ]
  },
  {
   "cell_type": "code",
   "execution_count": 20,
   "id": "a1f8fcfb",
   "metadata": {},
   "outputs": [],
   "source": [
    "from sklearn.model_selection import GridSearchCV"
   ]
  },
  {
   "cell_type": "code",
   "execution_count": 18,
   "id": "1e5a3fa1",
   "metadata": {},
   "outputs": [],
   "source": [
    "'''\n",
    "Parameter space for the model with 1 layer\n",
    "'''\n",
    "param_space_1 = {\n",
    "                          'hidden_layer_sizes': [(10,),(50,),(100,),(120,)],\n",
    "                          'activation': ['relu'], # activation in the hidden layers\n",
    "                          'solver' : ['adam'], # optimizer name\n",
    "                          'alpha' : [0,0.001,0.0001], # L2 regularization parameter\n",
    "                          'batch_size' : [20,50], # batch size\n",
    "                          'learning_rate' : ['constant'], \n",
    "                          'learning_rate_init' : [0.001,0.005,0.0001], # learning rate\n",
    "                          'early_stopping' : [True], # how to stop training the model\n",
    "                          'validation_fraction': [0.1], # how much of training set is used as validation set.\n",
    "                          'n_iter_no_change' : [10]\n",
    "}\n",
    "\n",
    "'''\n",
    "Parameter space for the model with 2 layers\n",
    "'''\n",
    "param_space_2 = {\n",
    "                          'hidden_layer_sizes': [(10,10),(50,50),(100,100),(120,120)],\n",
    "                          'activation': ['relu'], # activation in the hidden layers\n",
    "                          'solver' : ['adam'], # optimizer name\n",
    "                          'alpha' : [0,0.001,0.0001], # L2 regularization parameter\n",
    "                          'batch_size' : [20,50], # batch size\n",
    "                          'learning_rate' : ['constant'], \n",
    "                          'learning_rate_init' : [0.001,0.005,0.0001], # learning rate\n",
    "                          'early_stopping' : [True], # how to stop training the model\n",
    "                          'validation_fraction': [0.1], # how much of training set is used as validation set.\n",
    "                          'n_iter_no_change' : [10]\n",
    "}"
   ]
  },
  {
   "cell_type": "markdown",
   "id": "a8ed930a",
   "metadata": {},
   "source": [
    "#### GridSearchCV for model  with 1 layer"
   ]
  },
  {
   "cell_type": "markdown",
   "id": "7d44b5a1",
   "metadata": {},
   "source": [
    "`Hyperparameter optimization`: Here, we are simply using GridSearch that goes through all possible combinations/options in the given parameter space. The Dataset is small enough and it will not take too much time."
   ]
  },
  {
   "cell_type": "code",
   "execution_count": 21,
   "id": "7a66409a",
   "metadata": {},
   "outputs": [
    {
     "data": {
      "text/plain": [
       "GridSearchCV(cv=5, estimator=MLPClassifier(),\n",
       "             param_grid={'activation': ['relu'], 'alpha': [0, 0.001, 0.0001],\n",
       "                         'batch_size': [20, 50], 'early_stopping': [True],\n",
       "                         'hidden_layer_sizes': [(10,), (50,), (100,), (120,)],\n",
       "                         'learning_rate': ['constant'],\n",
       "                         'learning_rate_init': [0.001, 0.005, 0.0001],\n",
       "                         'n_iter_no_change': [10], 'solver': ['adam'],\n",
       "                         'validation_fraction': [0.1]})"
      ]
     },
     "execution_count": 21,
     "metadata": {},
     "output_type": "execute_result"
    }
   ],
   "source": [
    "from sklearn.neural_network import MLPClassifier\n",
    "mlp_model1 = MLPClassifier()\n",
    "model1 = GridSearchCV(mlp_model1 , param_space_1,cv=5)\n",
    "model1.fit(X_train_smote,y_train_smote)"
   ]
  },
  {
   "cell_type": "code",
   "execution_count": 22,
   "id": "d2f640f5",
   "metadata": {},
   "outputs": [
    {
     "name": "stdout",
     "output_type": "stream",
     "text": [
      "model with 1 layer best hyperparameters \n"
     ]
    },
    {
     "data": {
      "text/plain": [
       "{'activation': 'relu',\n",
       " 'alpha': 0.0001,\n",
       " 'batch_size': 20,\n",
       " 'early_stopping': True,\n",
       " 'hidden_layer_sizes': (120,),\n",
       " 'learning_rate': 'constant',\n",
       " 'learning_rate_init': 0.005,\n",
       " 'n_iter_no_change': 10,\n",
       " 'solver': 'adam',\n",
       " 'validation_fraction': 0.1}"
      ]
     },
     "execution_count": 22,
     "metadata": {},
     "output_type": "execute_result"
    }
   ],
   "source": [
    "print(\"model with 1 layer best hyperparameters \")\n",
    "model1.best_params_"
   ]
  },
  {
   "cell_type": "code",
   "execution_count": 23,
   "id": "94dc1822",
   "metadata": {},
   "outputs": [
    {
     "name": "stdout",
     "output_type": "stream",
     "text": [
      "\n",
      "=======================================================================\n",
      "Prediction results on test set - NN model with 1 hidden layer\n",
      "              precision    recall  f1-score   support\n",
      "\n",
      "           0       0.86      0.79      0.82       108\n",
      "           1       0.58      0.70      0.63        46\n",
      "\n",
      "    accuracy                           0.76       154\n",
      "   macro avg       0.72      0.74      0.73       154\n",
      "weighted avg       0.78      0.76      0.77       154\n",
      "\n"
     ]
    }
   ],
   "source": [
    "from sklearn.metrics import classification_report\n",
    "from sklearn import metrics\n",
    "print(\"\\n=======================================================================\")\n",
    "print(\"Prediction results on test set - NN model with 1 hidden layer\")\n",
    "y_pred = model1.predict(X_test_std)\n",
    "print(classification_report(y_test,y_pred))"
   ]
  },
  {
   "cell_type": "markdown",
   "id": "da02d7bc",
   "metadata": {},
   "source": [
    "#### GridSearchCV for model  with 2 layers"
   ]
  },
  {
   "cell_type": "code",
   "execution_count": 24,
   "id": "f1b49a71",
   "metadata": {},
   "outputs": [
    {
     "data": {
      "text/plain": [
       "GridSearchCV(cv=5, estimator=MLPClassifier(),\n",
       "             param_grid={'activation': ['relu'], 'alpha': [0, 0.001, 0.0001],\n",
       "                         'batch_size': [20, 50], 'early_stopping': [True],\n",
       "                         'hidden_layer_sizes': [(10, 10), (50, 50), (100, 100),\n",
       "                                                (120, 120)],\n",
       "                         'learning_rate': ['constant'],\n",
       "                         'learning_rate_init': [0.001, 0.005, 0.0001],\n",
       "                         'n_iter_no_change': [10], 'solver': ['adam'],\n",
       "                         'validation_fraction': [0.1]})"
      ]
     },
     "execution_count": 24,
     "metadata": {},
     "output_type": "execute_result"
    }
   ],
   "source": [
    "from sklearn.neural_network import MLPClassifier\n",
    "mlp_model2 = MLPClassifier()\n",
    "model2 = GridSearchCV(mlp_model2 , param_space_2,cv=5)\n",
    "model2.fit(X_train_smote,y_train_smote)"
   ]
  },
  {
   "cell_type": "code",
   "execution_count": 95,
   "id": "9bf1b790",
   "metadata": {},
   "outputs": [
    {
     "name": "stdout",
     "output_type": "stream",
     "text": [
      "model with 2 layers best hyperparameters \n"
     ]
    },
    {
     "data": {
      "text/plain": [
       "{'activation': 'relu',\n",
       " 'alpha': 0,\n",
       " 'batch_size': 20,\n",
       " 'early_stopping': True,\n",
       " 'hidden_layer_sizes': (120, 120),\n",
       " 'learning_rate': 'constant',\n",
       " 'learning_rate_init': 0.005,\n",
       " 'n_iter_no_change': 10,\n",
       " 'solver': 'adam',\n",
       " 'validation_fraction': 0.1}"
      ]
     },
     "execution_count": 95,
     "metadata": {},
     "output_type": "execute_result"
    }
   ],
   "source": [
    "print(\"model with 2 layers best hyperparameters \")\n",
    "model2.best_params_"
   ]
  },
  {
   "cell_type": "code",
   "execution_count": 113,
   "id": "52d41d79",
   "metadata": {},
   "outputs": [
    {
     "name": "stdout",
     "output_type": "stream",
     "text": [
      "\n",
      "=======================================================================\n",
      "Prediction results on test set - NN model with 2 hidden layers\n",
      "              precision    recall  f1-score   support\n",
      "\n",
      "           0       0.80      0.66      0.72       103\n",
      "           1       0.49      0.67      0.57        51\n",
      "\n",
      "    accuracy                           0.66       154\n",
      "   macro avg       0.65      0.66      0.65       154\n",
      "weighted avg       0.70      0.66      0.67       154\n",
      "\n"
     ]
    }
   ],
   "source": [
    "from sklearn.metrics import classification_report\n",
    "from sklearn import metrics\n",
    "print(\"\\n=======================================================================\")\n",
    "print(\"Prediction results on test set - NN model with 2 hidden layers\")\n",
    "y_pred = model2.predict(X_test_std)\n",
    "print(classification_report(y_test,y_pred))"
   ]
  },
  {
   "cell_type": "markdown",
   "id": "4022b472",
   "metadata": {},
   "source": [
    "#### In summary, The predictions on the test set has been improved by trying out different options of the parameters in the model."
   ]
  },
  {
   "cell_type": "markdown",
   "id": "d728a0c1",
   "metadata": {},
   "source": [
    "### To get the parameter values from the best model after CV grid search"
   ]
  },
  {
   "cell_type": "code",
   "execution_count": 124,
   "id": "cc45c86a",
   "metadata": {},
   "outputs": [
    {
     "name": "stdout",
     "output_type": "stream",
     "text": [
      "Model2 with two hidden layers after CV grid search\n",
      "3\n",
      "weights between input layer and hidden layer1 (8, 120)\n",
      "weights between hidden layer1 and hidden layer2 (120, 120)\n",
      "weights between hidden layer2 and output layer (120, 1)\n"
     ]
    }
   ],
   "source": [
    "print(\"Model2 with two hidden layers after CV grid search\")\n",
    "print(len(model2.best_estimator_.coefs_))\n",
    "print(\"weights between input layer and hidden layer1\", model2.best_estimator_.coefs_[0].shape)\n",
    "print(\"weights between hidden layer1 and hidden layer2\",model2.best_estimator_.coefs_[1].shape)\n",
    "print(\"weights between hidden layer2 and output layer\",model2.best_estimator_.coefs_[2].shape)"
   ]
  },
  {
   "cell_type": "markdown",
   "id": "cd3b08e9",
   "metadata": {},
   "source": [
    "# Neural Network models for more than 2 classes\n"
   ]
  },
  {
   "cell_type": "markdown",
   "id": "ddc84b95",
   "metadata": {},
   "source": [
    "Wine data: original source is https://archive.ics.uci.edu/ml/machine-learning-databases/wine/\n",
    "\n",
    "Class label is the first column. Three classes : 1, 2, 3"
   ]
  },
  {
   "cell_type": "code",
   "execution_count": 136,
   "id": "e0d5e828",
   "metadata": {},
   "outputs": [
    {
     "data": {
      "text/html": [
       "<div>\n",
       "<style scoped>\n",
       "    .dataframe tbody tr th:only-of-type {\n",
       "        vertical-align: middle;\n",
       "    }\n",
       "\n",
       "    .dataframe tbody tr th {\n",
       "        vertical-align: top;\n",
       "    }\n",
       "\n",
       "    .dataframe thead th {\n",
       "        text-align: right;\n",
       "    }\n",
       "</style>\n",
       "<table border=\"1\" class=\"dataframe\">\n",
       "  <thead>\n",
       "    <tr style=\"text-align: right;\">\n",
       "      <th></th>\n",
       "      <th>Class label</th>\n",
       "      <th>Alcohol</th>\n",
       "      <th>Malic acid</th>\n",
       "      <th>Ash</th>\n",
       "      <th>Alcalinity of ash</th>\n",
       "      <th>Magnesium</th>\n",
       "      <th>Total phenols</th>\n",
       "      <th>Flavanoids</th>\n",
       "      <th>Nonflavanoid phenols</th>\n",
       "      <th>Proanthocyanins</th>\n",
       "      <th>Color intensity</th>\n",
       "      <th>Hue</th>\n",
       "      <th>OD280/OD315 of diluted wines</th>\n",
       "      <th>Proline</th>\n",
       "    </tr>\n",
       "  </thead>\n",
       "  <tbody>\n",
       "    <tr>\n",
       "      <th>0</th>\n",
       "      <td>1</td>\n",
       "      <td>14.23</td>\n",
       "      <td>1.71</td>\n",
       "      <td>2.43</td>\n",
       "      <td>15.6</td>\n",
       "      <td>127</td>\n",
       "      <td>2.80</td>\n",
       "      <td>3.06</td>\n",
       "      <td>0.28</td>\n",
       "      <td>2.29</td>\n",
       "      <td>5.64</td>\n",
       "      <td>1.04</td>\n",
       "      <td>3.92</td>\n",
       "      <td>1065</td>\n",
       "    </tr>\n",
       "    <tr>\n",
       "      <th>1</th>\n",
       "      <td>1</td>\n",
       "      <td>13.20</td>\n",
       "      <td>1.78</td>\n",
       "      <td>2.14</td>\n",
       "      <td>11.2</td>\n",
       "      <td>100</td>\n",
       "      <td>2.65</td>\n",
       "      <td>2.76</td>\n",
       "      <td>0.26</td>\n",
       "      <td>1.28</td>\n",
       "      <td>4.38</td>\n",
       "      <td>1.05</td>\n",
       "      <td>3.40</td>\n",
       "      <td>1050</td>\n",
       "    </tr>\n",
       "    <tr>\n",
       "      <th>2</th>\n",
       "      <td>1</td>\n",
       "      <td>13.16</td>\n",
       "      <td>2.36</td>\n",
       "      <td>2.67</td>\n",
       "      <td>18.6</td>\n",
       "      <td>101</td>\n",
       "      <td>2.80</td>\n",
       "      <td>3.24</td>\n",
       "      <td>0.30</td>\n",
       "      <td>2.81</td>\n",
       "      <td>5.68</td>\n",
       "      <td>1.03</td>\n",
       "      <td>3.17</td>\n",
       "      <td>1185</td>\n",
       "    </tr>\n",
       "    <tr>\n",
       "      <th>3</th>\n",
       "      <td>1</td>\n",
       "      <td>14.37</td>\n",
       "      <td>1.95</td>\n",
       "      <td>2.50</td>\n",
       "      <td>16.8</td>\n",
       "      <td>113</td>\n",
       "      <td>3.85</td>\n",
       "      <td>3.49</td>\n",
       "      <td>0.24</td>\n",
       "      <td>2.18</td>\n",
       "      <td>7.80</td>\n",
       "      <td>0.86</td>\n",
       "      <td>3.45</td>\n",
       "      <td>1480</td>\n",
       "    </tr>\n",
       "    <tr>\n",
       "      <th>4</th>\n",
       "      <td>1</td>\n",
       "      <td>13.24</td>\n",
       "      <td>2.59</td>\n",
       "      <td>2.87</td>\n",
       "      <td>21.0</td>\n",
       "      <td>118</td>\n",
       "      <td>2.80</td>\n",
       "      <td>2.69</td>\n",
       "      <td>0.39</td>\n",
       "      <td>1.82</td>\n",
       "      <td>4.32</td>\n",
       "      <td>1.04</td>\n",
       "      <td>2.93</td>\n",
       "      <td>735</td>\n",
       "    </tr>\n",
       "    <tr>\n",
       "      <th>...</th>\n",
       "      <td>...</td>\n",
       "      <td>...</td>\n",
       "      <td>...</td>\n",
       "      <td>...</td>\n",
       "      <td>...</td>\n",
       "      <td>...</td>\n",
       "      <td>...</td>\n",
       "      <td>...</td>\n",
       "      <td>...</td>\n",
       "      <td>...</td>\n",
       "      <td>...</td>\n",
       "      <td>...</td>\n",
       "      <td>...</td>\n",
       "      <td>...</td>\n",
       "    </tr>\n",
       "    <tr>\n",
       "      <th>173</th>\n",
       "      <td>3</td>\n",
       "      <td>13.71</td>\n",
       "      <td>5.65</td>\n",
       "      <td>2.45</td>\n",
       "      <td>20.5</td>\n",
       "      <td>95</td>\n",
       "      <td>1.68</td>\n",
       "      <td>0.61</td>\n",
       "      <td>0.52</td>\n",
       "      <td>1.06</td>\n",
       "      <td>7.70</td>\n",
       "      <td>0.64</td>\n",
       "      <td>1.74</td>\n",
       "      <td>740</td>\n",
       "    </tr>\n",
       "    <tr>\n",
       "      <th>174</th>\n",
       "      <td>3</td>\n",
       "      <td>13.40</td>\n",
       "      <td>3.91</td>\n",
       "      <td>2.48</td>\n",
       "      <td>23.0</td>\n",
       "      <td>102</td>\n",
       "      <td>1.80</td>\n",
       "      <td>0.75</td>\n",
       "      <td>0.43</td>\n",
       "      <td>1.41</td>\n",
       "      <td>7.30</td>\n",
       "      <td>0.70</td>\n",
       "      <td>1.56</td>\n",
       "      <td>750</td>\n",
       "    </tr>\n",
       "    <tr>\n",
       "      <th>175</th>\n",
       "      <td>3</td>\n",
       "      <td>13.27</td>\n",
       "      <td>4.28</td>\n",
       "      <td>2.26</td>\n",
       "      <td>20.0</td>\n",
       "      <td>120</td>\n",
       "      <td>1.59</td>\n",
       "      <td>0.69</td>\n",
       "      <td>0.43</td>\n",
       "      <td>1.35</td>\n",
       "      <td>10.20</td>\n",
       "      <td>0.59</td>\n",
       "      <td>1.56</td>\n",
       "      <td>835</td>\n",
       "    </tr>\n",
       "    <tr>\n",
       "      <th>176</th>\n",
       "      <td>3</td>\n",
       "      <td>13.17</td>\n",
       "      <td>2.59</td>\n",
       "      <td>2.37</td>\n",
       "      <td>20.0</td>\n",
       "      <td>120</td>\n",
       "      <td>1.65</td>\n",
       "      <td>0.68</td>\n",
       "      <td>0.53</td>\n",
       "      <td>1.46</td>\n",
       "      <td>9.30</td>\n",
       "      <td>0.60</td>\n",
       "      <td>1.62</td>\n",
       "      <td>840</td>\n",
       "    </tr>\n",
       "    <tr>\n",
       "      <th>177</th>\n",
       "      <td>3</td>\n",
       "      <td>14.13</td>\n",
       "      <td>4.10</td>\n",
       "      <td>2.74</td>\n",
       "      <td>24.5</td>\n",
       "      <td>96</td>\n",
       "      <td>2.05</td>\n",
       "      <td>0.76</td>\n",
       "      <td>0.56</td>\n",
       "      <td>1.35</td>\n",
       "      <td>9.20</td>\n",
       "      <td>0.61</td>\n",
       "      <td>1.60</td>\n",
       "      <td>560</td>\n",
       "    </tr>\n",
       "  </tbody>\n",
       "</table>\n",
       "<p>178 rows × 14 columns</p>\n",
       "</div>"
      ],
      "text/plain": [
       "     Class label  Alcohol  Malic acid   Ash  Alcalinity of ash  Magnesium  \\\n",
       "0              1    14.23        1.71  2.43               15.6        127   \n",
       "1              1    13.20        1.78  2.14               11.2        100   \n",
       "2              1    13.16        2.36  2.67               18.6        101   \n",
       "3              1    14.37        1.95  2.50               16.8        113   \n",
       "4              1    13.24        2.59  2.87               21.0        118   \n",
       "..           ...      ...         ...   ...                ...        ...   \n",
       "173            3    13.71        5.65  2.45               20.5         95   \n",
       "174            3    13.40        3.91  2.48               23.0        102   \n",
       "175            3    13.27        4.28  2.26               20.0        120   \n",
       "176            3    13.17        2.59  2.37               20.0        120   \n",
       "177            3    14.13        4.10  2.74               24.5         96   \n",
       "\n",
       "     Total phenols  Flavanoids  Nonflavanoid phenols  Proanthocyanins  \\\n",
       "0             2.80        3.06                  0.28             2.29   \n",
       "1             2.65        2.76                  0.26             1.28   \n",
       "2             2.80        3.24                  0.30             2.81   \n",
       "3             3.85        3.49                  0.24             2.18   \n",
       "4             2.80        2.69                  0.39             1.82   \n",
       "..             ...         ...                   ...              ...   \n",
       "173           1.68        0.61                  0.52             1.06   \n",
       "174           1.80        0.75                  0.43             1.41   \n",
       "175           1.59        0.69                  0.43             1.35   \n",
       "176           1.65        0.68                  0.53             1.46   \n",
       "177           2.05        0.76                  0.56             1.35   \n",
       "\n",
       "     Color intensity   Hue  OD280/OD315 of diluted wines  Proline  \n",
       "0               5.64  1.04                          3.92     1065  \n",
       "1               4.38  1.05                          3.40     1050  \n",
       "2               5.68  1.03                          3.17     1185  \n",
       "3               7.80  0.86                          3.45     1480  \n",
       "4               4.32  1.04                          2.93      735  \n",
       "..               ...   ...                           ...      ...  \n",
       "173             7.70  0.64                          1.74      740  \n",
       "174             7.30  0.70                          1.56      750  \n",
       "175            10.20  0.59                          1.56      835  \n",
       "176             9.30  0.60                          1.62      840  \n",
       "177             9.20  0.61                          1.60      560  \n",
       "\n",
       "[178 rows x 14 columns]"
      ]
     },
     "metadata": {},
     "output_type": "display_data"
    },
    {
     "data": {
      "text/plain": [
       "2    71\n",
       "1    59\n",
       "3    48\n",
       "Name: Class label, dtype: int64"
      ]
     },
     "execution_count": 136,
     "metadata": {},
     "output_type": "execute_result"
    }
   ],
   "source": [
    "df_wine = pd.read_csv('wine.data', header=None)\n",
    "df_wine.columns = ['Class label', 'Alcohol', 'Malic acid', 'Ash',\n",
    "                   'Alcalinity of ash', 'Magnesium', 'Total phenols',\n",
    "                   'Flavanoids', 'Nonflavanoid phenols', 'Proanthocyanins',\n",
    "                   'Color intensity', 'Hue', 'OD280/OD315 of diluted wines',\n",
    "                   'Proline']\n",
    "display(df_wine)\n",
    "df_wine['Class label'].value_counts()"
   ]
  },
  {
   "cell_type": "code",
   "execution_count": 140,
   "id": "1940d8c5",
   "metadata": {},
   "outputs": [
    {
     "data": {
      "text/plain": [
       "0      1\n",
       "1      1\n",
       "2      1\n",
       "3      1\n",
       "4      1\n",
       "      ..\n",
       "173    3\n",
       "174    3\n",
       "175    3\n",
       "176    3\n",
       "177    3\n",
       "Name: Class label, Length: 178, dtype: int64"
      ]
     },
     "execution_count": 140,
     "metadata": {},
     "output_type": "execute_result"
    }
   ],
   "source": [
    "df_wine['Class label']"
   ]
  },
  {
   "cell_type": "code",
   "execution_count": 143,
   "id": "e4c5a509",
   "metadata": {},
   "outputs": [],
   "source": [
    "df_wine_features = df_wine.loc[:,'Alcohol':'Proline'].copy(deep=True) # features. \n",
    "df_wine_class = df_wine['Class label'].copy(deep=True) # class labels"
   ]
  },
  {
   "cell_type": "code",
   "execution_count": 156,
   "id": "1ac58415",
   "metadata": {},
   "outputs": [
    {
     "name": "stdout",
     "output_type": "stream",
     "text": [
      "(142, 13)\n",
      "(36, 13)\n"
     ]
    }
   ],
   "source": [
    "from sklearn.model_selection import train_test_split\n",
    "X_wine_train, X_wine_test, y_wine_train, y_wine_test = train_test_split(df_wine_features,df_wine_class,test_size=0.2)\n",
    "from sklearn.preprocessing import StandardScaler\n",
    "stdsc = StandardScaler()\n",
    "X_wine_train_std = stdsc.fit_transform(X_wine_train)\n",
    "X_wine_test_std = stdsc.transform(X_wine_test)\n",
    "print(X_wine_train_std.shape)\n",
    "print(X_wine_test_std.shape)"
   ]
  },
  {
   "cell_type": "code",
   "execution_count": 157,
   "id": "260bece9",
   "metadata": {},
   "outputs": [],
   "source": [
    "from sklearn.neural_network import MLPClassifier\n",
    "NN_model1 = MLPClassifier(hidden_layer_sizes=(10,),\n",
    "                          activation='relu', # activation in the hidden layers\n",
    "                          solver = 'adam', # optimizer name\n",
    "                          alpha = 0, # L2 regularization parameter\n",
    "                          batch_size = 50, # batch size\n",
    "                          learning_rate = 'constant', \n",
    "                          learning_rate_init = 0.001, # learning rate\n",
    "                          early_stopping=True, # how to stop training the model\n",
    "                          validation_fraction=0.1, # how much of training set is used as validation set.\n",
    "                          n_iter_no_change = 10)"
   ]
  },
  {
   "cell_type": "code",
   "execution_count": 158,
   "id": "3b0e0279",
   "metadata": {},
   "outputs": [
    {
     "data": {
      "text/html": [
       "<style>#sk-container-id-24 {color: black;background-color: white;}#sk-container-id-24 pre{padding: 0;}#sk-container-id-24 div.sk-toggleable {background-color: white;}#sk-container-id-24 label.sk-toggleable__label {cursor: pointer;display: block;width: 100%;margin-bottom: 0;padding: 0.3em;box-sizing: border-box;text-align: center;}#sk-container-id-24 label.sk-toggleable__label-arrow:before {content: \"▸\";float: left;margin-right: 0.25em;color: #696969;}#sk-container-id-24 label.sk-toggleable__label-arrow:hover:before {color: black;}#sk-container-id-24 div.sk-estimator:hover label.sk-toggleable__label-arrow:before {color: black;}#sk-container-id-24 div.sk-toggleable__content {max-height: 0;max-width: 0;overflow: hidden;text-align: left;background-color: #f0f8ff;}#sk-container-id-24 div.sk-toggleable__content pre {margin: 0.2em;color: black;border-radius: 0.25em;background-color: #f0f8ff;}#sk-container-id-24 input.sk-toggleable__control:checked~div.sk-toggleable__content {max-height: 200px;max-width: 100%;overflow: auto;}#sk-container-id-24 input.sk-toggleable__control:checked~label.sk-toggleable__label-arrow:before {content: \"▾\";}#sk-container-id-24 div.sk-estimator input.sk-toggleable__control:checked~label.sk-toggleable__label {background-color: #d4ebff;}#sk-container-id-24 div.sk-label input.sk-toggleable__control:checked~label.sk-toggleable__label {background-color: #d4ebff;}#sk-container-id-24 input.sk-hidden--visually {border: 0;clip: rect(1px 1px 1px 1px);clip: rect(1px, 1px, 1px, 1px);height: 1px;margin: -1px;overflow: hidden;padding: 0;position: absolute;width: 1px;}#sk-container-id-24 div.sk-estimator {font-family: monospace;background-color: #f0f8ff;border: 1px dotted black;border-radius: 0.25em;box-sizing: border-box;margin-bottom: 0.5em;}#sk-container-id-24 div.sk-estimator:hover {background-color: #d4ebff;}#sk-container-id-24 div.sk-parallel-item::after {content: \"\";width: 100%;border-bottom: 1px solid gray;flex-grow: 1;}#sk-container-id-24 div.sk-label:hover label.sk-toggleable__label {background-color: #d4ebff;}#sk-container-id-24 div.sk-serial::before {content: \"\";position: absolute;border-left: 1px solid gray;box-sizing: border-box;top: 0;bottom: 0;left: 50%;z-index: 0;}#sk-container-id-24 div.sk-serial {display: flex;flex-direction: column;align-items: center;background-color: white;padding-right: 0.2em;padding-left: 0.2em;position: relative;}#sk-container-id-24 div.sk-item {position: relative;z-index: 1;}#sk-container-id-24 div.sk-parallel {display: flex;align-items: stretch;justify-content: center;background-color: white;position: relative;}#sk-container-id-24 div.sk-item::before, #sk-container-id-24 div.sk-parallel-item::before {content: \"\";position: absolute;border-left: 1px solid gray;box-sizing: border-box;top: 0;bottom: 0;left: 50%;z-index: -1;}#sk-container-id-24 div.sk-parallel-item {display: flex;flex-direction: column;z-index: 1;position: relative;background-color: white;}#sk-container-id-24 div.sk-parallel-item:first-child::after {align-self: flex-end;width: 50%;}#sk-container-id-24 div.sk-parallel-item:last-child::after {align-self: flex-start;width: 50%;}#sk-container-id-24 div.sk-parallel-item:only-child::after {width: 0;}#sk-container-id-24 div.sk-dashed-wrapped {border: 1px dashed gray;margin: 0 0.4em 0.5em 0.4em;box-sizing: border-box;padding-bottom: 0.4em;background-color: white;}#sk-container-id-24 div.sk-label label {font-family: monospace;font-weight: bold;display: inline-block;line-height: 1.2em;}#sk-container-id-24 div.sk-label-container {text-align: center;}#sk-container-id-24 div.sk-container {/* jupyter's `normalize.less` sets `[hidden] { display: none; }` but bootstrap.min.css set `[hidden] { display: none !important; }` so we also need the `!important` here to be able to override the default hidden behavior on the sphinx rendered scikit-learn.org. See: https://github.com/scikit-learn/scikit-learn/issues/21755 */display: inline-block !important;position: relative;}#sk-container-id-24 div.sk-text-repr-fallback {display: none;}</style><div id=\"sk-container-id-24\" class=\"sk-top-container\"><div class=\"sk-text-repr-fallback\"><pre>MLPClassifier(alpha=0, batch_size=50, early_stopping=True,\n",
       "              hidden_layer_sizes=(10,))</pre><b>In a Jupyter environment, please rerun this cell to show the HTML representation or trust the notebook. <br />On GitHub, the HTML representation is unable to render, please try loading this page with nbviewer.org.</b></div><div class=\"sk-container\" hidden><div class=\"sk-item\"><div class=\"sk-estimator sk-toggleable\"><input class=\"sk-toggleable__control sk-hidden--visually\" id=\"sk-estimator-id-46\" type=\"checkbox\" checked><label for=\"sk-estimator-id-46\" class=\"sk-toggleable__label sk-toggleable__label-arrow\">MLPClassifier</label><div class=\"sk-toggleable__content\"><pre>MLPClassifier(alpha=0, batch_size=50, early_stopping=True,\n",
       "              hidden_layer_sizes=(10,))</pre></div></div></div></div></div>"
      ],
      "text/plain": [
       "MLPClassifier(alpha=0, batch_size=50, early_stopping=True,\n",
       "              hidden_layer_sizes=(10,))"
      ]
     },
     "execution_count": 158,
     "metadata": {},
     "output_type": "execute_result"
    }
   ],
   "source": [
    "NN_model1.fit(X_wine_train_std, y_wine_train)"
   ]
  },
  {
   "cell_type": "code",
   "execution_count": 159,
   "id": "0b3e6b40",
   "metadata": {
    "scrolled": true
   },
   "outputs": [
    {
     "name": "stdout",
     "output_type": "stream",
     "text": [
      "\n",
      "=======================================================================\n",
      "Prediction results on test set - NN model with 2 hidden layers\n",
      "              precision    recall  f1-score   support\n",
      "\n",
      "           1       1.00      0.83      0.91        12\n",
      "           2       0.89      0.94      0.91        17\n",
      "           3       0.88      1.00      0.93         7\n",
      "\n",
      "    accuracy                           0.92        36\n",
      "   macro avg       0.92      0.92      0.92        36\n",
      "weighted avg       0.92      0.92      0.92        36\n",
      "\n"
     ]
    }
   ],
   "source": [
    "from sklearn.metrics import classification_report\n",
    "from sklearn import metrics\n",
    "print(\"\\n=======================================================================\")\n",
    "print(\"Prediction results on test set - NN model with 2 hidden layers\")\n",
    "y_pred = NN_model1.predict(X_wine_test_std)\n",
    "print(classification_report(y_wine_test,y_pred))"
   ]
  },
  {
   "cell_type": "code",
   "execution_count": 160,
   "id": "ceab8bcf",
   "metadata": {},
   "outputs": [
    {
     "data": {
      "text/plain": [
       "array([[0.10587462, 0.89180723, 0.00231815],\n",
       "       [0.73971516, 0.20500143, 0.05528341],\n",
       "       [0.79523225, 0.08118753, 0.12358022],\n",
       "       [0.19556466, 0.66749149, 0.13694385],\n",
       "       [0.06389634, 0.8169513 , 0.11915236],\n",
       "       [0.06153491, 0.900607  , 0.03785809],\n",
       "       [0.62702198, 0.21493734, 0.15804068],\n",
       "       [0.86104888, 0.11889237, 0.02005876],\n",
       "       [0.39372943, 0.18664245, 0.41962813],\n",
       "       [0.05944404, 0.8938018 , 0.04675416],\n",
       "       [0.60834378, 0.33167733, 0.05997888],\n",
       "       [0.10177086, 0.18479168, 0.71343747],\n",
       "       [0.10820976, 0.59740851, 0.29438173],\n",
       "       [0.24624842, 0.20929362, 0.54445795],\n",
       "       [0.1274289 , 0.82077583, 0.05179527],\n",
       "       [0.68201425, 0.13919168, 0.17879407],\n",
       "       [0.13311892, 0.27695684, 0.58992423],\n",
       "       [0.09670755, 0.89504275, 0.0082497 ],\n",
       "       [0.09661155, 0.79765288, 0.10573558],\n",
       "       [0.59587386, 0.37798091, 0.02614522],\n",
       "       [0.40535759, 0.55339777, 0.04124464],\n",
       "       [0.10929957, 0.85108257, 0.03961786],\n",
       "       [0.04187678, 0.79515104, 0.16297218],\n",
       "       [0.28924231, 0.63333337, 0.07742432],\n",
       "       [0.09977025, 0.17395893, 0.72627082],\n",
       "       [0.05252106, 0.80098609, 0.14649284],\n",
       "       [0.23227466, 0.73675026, 0.03097508],\n",
       "       [0.23959783, 0.60148597, 0.1589162 ],\n",
       "       [0.78144151, 0.14810486, 0.07045363],\n",
       "       [0.84317407, 0.13067353, 0.0261524 ],\n",
       "       [0.12660585, 0.69703253, 0.17636162],\n",
       "       [0.18774931, 0.31064306, 0.50160763],\n",
       "       [0.27205042, 0.48138385, 0.24656573],\n",
       "       [0.19115448, 0.27406307, 0.53478244],\n",
       "       [0.34786224, 0.15160193, 0.50053582],\n",
       "       [0.40192662, 0.28360636, 0.31446702]])"
      ]
     },
     "execution_count": 160,
     "metadata": {},
     "output_type": "execute_result"
    }
   ],
   "source": [
    "NN_model1.predict_proba(X_wine_test_std)"
   ]
  },
  {
   "cell_type": "code",
   "execution_count": 162,
   "id": "d01fbc2c",
   "metadata": {},
   "outputs": [
    {
     "data": {
      "text/plain": [
       "array([2, 1, 1, 2, 2, 2, 1, 1, 3, 2, 1, 3, 2, 3, 2, 1, 3, 2, 2, 1, 2, 2,\n",
       "       2, 2, 3, 2, 2, 2, 1, 1, 2, 3, 2, 3, 3, 1], dtype=int64)"
      ]
     },
     "execution_count": 162,
     "metadata": {},
     "output_type": "execute_result"
    }
   ],
   "source": [
    "y_pred"
   ]
  },
  {
   "cell_type": "code",
   "execution_count": 166,
   "id": "1dcfddc8",
   "metadata": {},
   "outputs": [
    {
     "name": "stdout",
     "output_type": "stream",
     "text": [
      "Model2 with two hidden layers after CV grid search\n",
      "2\n",
      "weights between input layer and hidden layer1 (13, 10)\n",
      "weights between hidden layer1 and output layer (10, 3)\n"
     ]
    }
   ],
   "source": [
    "print(\"Model2 with two hidden layers after CV grid search\")\n",
    "print(len(NN_model1.coefs_))\n",
    "print(\"weights between input layer and hidden layer1\", NN_model1.coefs_[0].shape)\n",
    "print(\"weights between hidden layer1 and output layer\",NN_model1.coefs_[1].shape)\n"
   ]
  }
 ],
 "metadata": {
  "kernelspec": {
   "display_name": "Python 3 (ipykernel)",
   "language": "python",
   "name": "python3"
  },
  "language_info": {
   "codemirror_mode": {
    "name": "ipython",
    "version": 3
   },
   "file_extension": ".py",
   "mimetype": "text/x-python",
   "name": "python",
   "nbconvert_exporter": "python",
   "pygments_lexer": "ipython3",
   "version": "3.9.12"
  }
 },
 "nbformat": 4,
 "nbformat_minor": 5
}
