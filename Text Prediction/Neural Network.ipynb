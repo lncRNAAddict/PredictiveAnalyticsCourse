{
 "cells": [
  {
   "cell_type": "markdown",
   "id": "bb99307e",
   "metadata": {},
   "source": [
    "# Text Classification (supervised learning) "
   ]
  },
  {
   "cell_type": "markdown",
   "id": "882eb8f4",
   "metadata": {},
   "source": [
    "In this tutorial, we will illustrate the idea of text classification using The SMS spam dataset. The problem is to predict if a phone sms message is spam or not."
   ]
  },
  {
   "cell_type": "markdown",
   "id": "95667522",
   "metadata": {},
   "source": [
    "* Import the csv file that contains the SMS spam data set.\n",
    "* There are two class labels `ham` (not spam) and `spam`"
   ]
  },
  {
   "cell_type": "code",
   "execution_count": 2,
   "id": "a9b3000c",
   "metadata": {},
   "outputs": [],
   "source": [
    "import pandas as pd"
   ]
  },
  {
   "cell_type": "code",
   "execution_count": 4,
   "id": "3fd2e3ad",
   "metadata": {},
   "outputs": [
    {
     "data": {
      "text/html": [
       "<div>\n",
       "<style scoped>\n",
       "    .dataframe tbody tr th:only-of-type {\n",
       "        vertical-align: middle;\n",
       "    }\n",
       "\n",
       "    .dataframe tbody tr th {\n",
       "        vertical-align: top;\n",
       "    }\n",
       "\n",
       "    .dataframe thead th {\n",
       "        text-align: right;\n",
       "    }\n",
       "</style>\n",
       "<table border=\"1\" class=\"dataframe\">\n",
       "  <thead>\n",
       "    <tr style=\"text-align: right;\">\n",
       "      <th></th>\n",
       "      <th>class</th>\n",
       "      <th>sms</th>\n",
       "    </tr>\n",
       "  </thead>\n",
       "  <tbody>\n",
       "    <tr>\n",
       "      <th>0</th>\n",
       "      <td>ham</td>\n",
       "      <td>K..give back my thanks.</td>\n",
       "    </tr>\n",
       "    <tr>\n",
       "      <th>1</th>\n",
       "      <td>ham</td>\n",
       "      <td>Am also doing in cbe only. But have to pay.</td>\n",
       "    </tr>\n",
       "    <tr>\n",
       "      <th>2</th>\n",
       "      <td>spam</td>\n",
       "      <td>complimentary 4 STAR Ibiza Holiday or £10,000 ...</td>\n",
       "    </tr>\n",
       "    <tr>\n",
       "      <th>3</th>\n",
       "      <td>spam</td>\n",
       "      <td>okmail: Dear Dave this is your final notice to...</td>\n",
       "    </tr>\n",
       "    <tr>\n",
       "      <th>4</th>\n",
       "      <td>ham</td>\n",
       "      <td>Aiya we discuss later lar... Pick u up at 4 is...</td>\n",
       "    </tr>\n",
       "    <tr>\n",
       "      <th>...</th>\n",
       "      <td>...</td>\n",
       "      <td>...</td>\n",
       "    </tr>\n",
       "    <tr>\n",
       "      <th>5553</th>\n",
       "      <td>ham</td>\n",
       "      <td>You are a great role model. You are giving so ...</td>\n",
       "    </tr>\n",
       "    <tr>\n",
       "      <th>5554</th>\n",
       "      <td>ham</td>\n",
       "      <td>Awesome, I remember the last time we got someb...</td>\n",
       "    </tr>\n",
       "    <tr>\n",
       "      <th>5555</th>\n",
       "      <td>spam</td>\n",
       "      <td>If you don't, your prize will go to another cu...</td>\n",
       "    </tr>\n",
       "    <tr>\n",
       "      <th>5556</th>\n",
       "      <td>spam</td>\n",
       "      <td>SMS. ac JSco: Energy is high, but u may not kn...</td>\n",
       "    </tr>\n",
       "    <tr>\n",
       "      <th>5557</th>\n",
       "      <td>ham</td>\n",
       "      <td>Shall call now dear having food</td>\n",
       "    </tr>\n",
       "  </tbody>\n",
       "</table>\n",
       "<p>5558 rows × 2 columns</p>\n",
       "</div>"
      ],
      "text/plain": [
       "     class                                                sms\n",
       "0      ham                            K..give back my thanks.\n",
       "1      ham        Am also doing in cbe only. But have to pay.\n",
       "2     spam  complimentary 4 STAR Ibiza Holiday or £10,000 ...\n",
       "3     spam  okmail: Dear Dave this is your final notice to...\n",
       "4      ham  Aiya we discuss later lar... Pick u up at 4 is...\n",
       "...    ...                                                ...\n",
       "5553   ham  You are a great role model. You are giving so ...\n",
       "5554   ham  Awesome, I remember the last time we got someb...\n",
       "5555  spam  If you don't, your prize will go to another cu...\n",
       "5556  spam  SMS. ac JSco: Energy is high, but u may not kn...\n",
       "5557   ham                    Shall call now dear having food\n",
       "\n",
       "[5558 rows x 2 columns]"
      ]
     },
     "execution_count": 4,
     "metadata": {},
     "output_type": "execute_result"
    }
   ],
   "source": [
    "sms_msgs = pd.read_csv('sms_spam.csv',names= ['class', 'sms'],header=1)\n",
    "sms_msgs"
   ]
  },
  {
   "cell_type": "markdown",
   "id": "2648e73b",
   "metadata": {},
   "source": [
    "How many messages are spam and not-spam. \n",
    "\n",
    "* You can see here that the number of messages belonging to different classes are not equal. \n",
    "* There is a class imbalance here. This should be corrected ideally. But for now lets not worry about it."
   ]
  },
  {
   "cell_type": "code",
   "execution_count": 5,
   "id": "f29e0d19",
   "metadata": {},
   "outputs": [
    {
     "data": {
      "text/plain": [
       "ham     4811\n",
       "spam     747\n",
       "Name: class, dtype: int64"
      ]
     },
     "execution_count": 5,
     "metadata": {},
     "output_type": "execute_result"
    }
   ],
   "source": [
    "sms_msgs['class'].value_counts()"
   ]
  },
  {
   "cell_type": "markdown",
   "id": "89a14e32",
   "metadata": {},
   "source": [
    "### Split the data into 80% training set and 20% testing set"
   ]
  },
  {
   "cell_type": "code",
   "execution_count": 6,
   "id": "4569bc1e",
   "metadata": {},
   "outputs": [],
   "source": [
    "sms_label = sms_msgs['class']\n",
    "sms_text  = sms_msgs['sms']"
   ]
  },
  {
   "cell_type": "code",
   "execution_count": 7,
   "id": "b7e71871",
   "metadata": {},
   "outputs": [],
   "source": [
    "from sklearn.model_selection import train_test_split\n",
    "msg_train, msg_test, label_train, label_test = train_test_split(sms_text, sms_label, test_size=0.2)"
   ]
  },
  {
   "cell_type": "markdown",
   "id": "286e6d6c",
   "metadata": {},
   "source": [
    "* `msg_train`: training data contains training text data\n",
    "* `msg_test` : testing data contains testing text data\n",
    "* `label_train`: class label for training text\n",
    "* `label_test` : class label for testing text\n"
   ]
  },
  {
   "cell_type": "code",
   "execution_count": 8,
   "id": "7978bd13",
   "metadata": {},
   "outputs": [
    {
     "name": "stdout",
     "output_type": "stream",
     "text": [
      "(4446,)\n",
      "(1112,)\n",
      "(4446,)\n",
      "(1112,)\n"
     ]
    }
   ],
   "source": [
    "print(msg_train.shape)\n",
    "print(msg_test.shape)\n",
    "print(label_train.shape)\n",
    "print(label_test.shape)"
   ]
  },
  {
   "cell_type": "markdown",
   "id": "c18e8458",
   "metadata": {},
   "source": [
    "### TFIDF of words as features.\n",
    "\n",
    "* Fit the `tfidfvectorizer` on the training set\n",
    "* Use the same  `tfidfvectorizer` to transform the testing set\n",
    "* This makes sure that the vocabulary (learned from training set) is used on the testing set. \n"
   ]
  },
  {
   "cell_type": "code",
   "execution_count": 9,
   "id": "06bc01b1",
   "metadata": {},
   "outputs": [],
   "source": [
    "from nltk.tokenize import TreebankWordTokenizer\n",
    "import spacy\n",
    "nlp = spacy.load(\"en_core_web_sm\")"
   ]
  },
  {
   "cell_type": "markdown",
   "id": "9d274c40",
   "metadata": {},
   "source": [
    "A function to perform preprocessing steps:\n",
    "\n",
    "    - tokenization\n",
    "    - filtering\n",
    "    - lemmantization/stemming"
   ]
  },
  {
   "cell_type": "code",
   "execution_count": 10,
   "id": "6fcf81af",
   "metadata": {},
   "outputs": [],
   "source": [
    "import string, re\n",
    "from nltk.corpus import stopwords\n",
    "stop_words = set(stopwords.words('english'))\n",
    "def my_tokenizer(text):\n",
    "    '''\n",
    "    tokenize\n",
    "    '''\n",
    "    tokenizer = TreebankWordTokenizer()\n",
    "    tokens = tokenizer.tokenize(text.lower())\n",
    "    #print(tokens)\n",
    "    '''\n",
    "    This is the step to remove tokens which are not needed\n",
    "    In this example, removing all punctuations and remove stop words\n",
    "    '''\n",
    "    \n",
    "    #tokens = [word for word in tokens if word not in string.punctuation]\n",
    "    tokens = [word for word in tokens if word not in stop_words]\n",
    "    #tokens = [word for word in tokens if len(word) > 3]\n",
    "\n",
    "    #print(tokens)\n",
    "    '''\n",
    "    lemmantization\n",
    "    '''\n",
    "    doc = nlp(' '.join(tokens))\n",
    "    tokens = [word.lemma_ for word in doc]\n",
    "    \n",
    "    '''\n",
    "    removing stop words and punctuation marks again.\n",
    "    lemmantization may create some of these\n",
    "    '''\n",
    "    #tokens = [word for word in tokens if word not in string.punctuation]\n",
    "    tokens = [word for word in tokens if word not in stop_words]\n",
    "    #tokens = [word for word in tokens if len(word) > 3 ]\n",
    "    return tokens\n"
   ]
  },
  {
   "cell_type": "code",
   "execution_count": 11,
   "id": "d1e42ca1",
   "metadata": {},
   "outputs": [
    {
     "name": "stdout",
     "output_type": "stream",
     "text": [
      "(4446, 708)\n",
      "(1112, 708)\n"
     ]
    }
   ],
   "source": [
    "from sklearn.feature_extraction.text import CountVectorizer,TfidfVectorizer\n",
    "\n",
    "'''\n",
    "First fit the tfidfvectorizer on the training set\n",
    "'''\n",
    "\n",
    "corpus_train=msg_train.to_list()\n",
    "vectorizer = TfidfVectorizer(min_df=10,analyzer=my_tokenizer) \n",
    "sms_train_tfidf = vectorizer.fit_transform(corpus_train)\n",
    "sms_train_tfidf = sms_train_tfidf.todense()\n",
    "print(sms_train_tfidf.shape)\n",
    "\n",
    "\n",
    "'''\n",
    "Use the same  tfidfvectorizer to transform the testing set\n",
    "'''\n",
    "\n",
    "corpus_test=msg_test.to_list()\n",
    "sms_test_tfidf = vectorizer.transform(corpus_test)\n",
    "sms_test_tfidf = sms_test_tfidf.todense()\n",
    "print(sms_test_tfidf.shape)\n"
   ]
  },
  {
   "cell_type": "markdown",
   "id": "1b870385",
   "metadata": {},
   "source": [
    "A row in `sms_train_tfidf` represent an sms. The columns in `sms_train_tfidf` represent the features. Testing data is `sms_test_tfidf`"
   ]
  },
  {
   "cell_type": "markdown",
   "id": "d9ec7148",
   "metadata": {},
   "source": [
    "### Blancing training set and fitting the model\n",
    "\n",
    "Use SMOTE (Synthetic Minority Over-sampling Technique) algorithm to create artificial data belonging to the minority class\n",
    "\n",
    "SMOTE algorithm: https://arxiv.org/abs/1106.1813\n",
    "\n",
    "NOTE: this step is only needed if there is an imbalance of rows belonging to different classes in the training set."
   ]
  },
  {
   "cell_type": "code",
   "execution_count": 12,
   "id": "fe25b94a",
   "metadata": {},
   "outputs": [
    {
     "name": "stdout",
     "output_type": "stream",
     "text": [
      "number of class labels in the balanced training set\n",
      " ham     3855\n",
      "spam    3855\n",
      "Name: class, dtype: int64\n"
     ]
    }
   ],
   "source": [
    "from imblearn.over_sampling import SMOTE\n",
    "sm = SMOTE(random_state=42)\n",
    "sms_train_tfidf_balanced, label_train_balanced = sm.fit_resample(sms_train_tfidf, label_train)\n",
    "print('number of class labels in the balanced training set\\n', label_train_balanced.value_counts())"
   ]
  },
  {
   "cell_type": "markdown",
   "id": "025b21e4",
   "metadata": {},
   "source": [
    "* `sms_train_tfidf_balanced`: new training set which is balanced\n",
    "* `label_train_balanced`: class labels of the new training set"
   ]
  },
  {
   "cell_type": "markdown",
   "id": "3815f91e",
   "metadata": {},
   "source": [
    "### Neural Network models\n",
    "\n",
    "Here, we will build three versions of a neural network. "
   ]
  },
  {
   "cell_type": "markdown",
   "id": "d98cfaeb",
   "metadata": {},
   "source": [
    "#### First model\n",
    "\n",
    "* `number of hidden layer` = 1 with 50 nodes. The network will have one input layer and one output layer and 1 hidden layer.\n",
    "* `validation_fraction`: During the optimization process, fraction of the training set will be used as a `validation` data. The weights in the model will be updated by optimizing the difference between the predictions by the model in the `validation` data and actual class labels of the validation data.\n",
    "* `early_stopping`: terminate training when validation score is not improving. \n",
    "\n"
   ]
  },
  {
   "cell_type": "code",
   "execution_count": 15,
   "id": "0bbc7e72",
   "metadata": {},
   "outputs": [],
   "source": [
    "from sklearn.neural_network import MLPClassifier\n",
    "nn_model1 = MLPClassifier(hidden_layer_sizes=(50,),activation='relu',early_stopping=True,validation_fraction=0.1)"
   ]
  },
  {
   "cell_type": "markdown",
   "id": "31641056",
   "metadata": {},
   "source": [
    "#### Second model\n",
    "\n",
    "* `number of hidden layer` = 2. Each hidden layer will have 50 nodes. The network will have one input layer and one output layer and 2 hidden layers.\n"
   ]
  },
  {
   "cell_type": "code",
   "execution_count": 16,
   "id": "49a6ca62",
   "metadata": {},
   "outputs": [],
   "source": [
    "nn_model2 = MLPClassifier(hidden_layer_sizes=(50,50,),activation='relu',early_stopping=True,validation_fraction=0.1)"
   ]
  },
  {
   "cell_type": "markdown",
   "id": "a27928ef",
   "metadata": {},
   "source": [
    "#### Third model\n",
    "\n",
    "\n",
    "* `number of hidden layer` = 3. Each hidden layer will have 50 nodes. The network will have one input layer and one output layer and 3 hidden layers.\n"
   ]
  },
  {
   "cell_type": "code",
   "execution_count": 17,
   "id": "b40b21c5",
   "metadata": {},
   "outputs": [],
   "source": [
    "nn_model3 = MLPClassifier(hidden_layer_sizes=(50,50,50),activation='relu',early_stopping=True, validation_fraction=0.1)"
   ]
  },
  {
   "cell_type": "markdown",
   "id": "ac460a1c",
   "metadata": {},
   "source": [
    "### Training the models\n",
    "\n",
    "The training optimizes the log-loss function (or binary cross entropy) by updating the weights in the model using an optimization algorithm."
   ]
  },
  {
   "cell_type": "code",
   "execution_count": 18,
   "id": "b6ef59d1",
   "metadata": {},
   "outputs": [
    {
     "data": {
      "text/plain": [
       "MLPClassifier(early_stopping=True, hidden_layer_sizes=(50, 50, 50))"
      ]
     },
     "execution_count": 18,
     "metadata": {},
     "output_type": "execute_result"
    }
   ],
   "source": [
    "nn_model1.fit(sms_train_tfidf_balanced, label_train_balanced)\n",
    "nn_model2.fit(sms_train_tfidf_balanced, label_train_balanced)\n",
    "nn_model3.fit(sms_train_tfidf_balanced, label_train_balanced)"
   ]
  },
  {
   "cell_type": "markdown",
   "id": "2c8f0f30",
   "metadata": {},
   "source": [
    "### Function to get the accuracy on each class of the testing data"
   ]
  },
  {
   "cell_type": "code",
   "execution_count": 19,
   "id": "c674ad44",
   "metadata": {},
   "outputs": [],
   "source": [
    "from sklearn.metrics import confusion_matrix,  ConfusionMatrixDisplay\n",
    "def get_accuracy(model,test_data,test_classes):\n",
    "    predictions = model.predict(test_data) # predictions\n",
    "    cm = confusion_matrix(test_classes, predictions, labels=model.classes_)\n",
    "    disp = ConfusionMatrixDisplay(confusion_matrix=cm,display_labels=model.classes_)\n",
    "    disp.plot()\n",
    "    \n",
    "    print('Accuracy for ham class is', 100*cm[0,0]/(cm[0,0]+cm[0,1]))\n",
    "    print('Accuracy for spam class is', 100*cm[1,1]/(cm[1,0]+cm[1,1]))"
   ]
  },
  {
   "cell_type": "markdown",
   "id": "b50ce094",
   "metadata": {},
   "source": [
    "#### Accuracy of first model on the testing data set"
   ]
  },
  {
   "cell_type": "code",
   "execution_count": 20,
   "id": "4cbe0cb4",
   "metadata": {},
   "outputs": [
    {
     "name": "stdout",
     "output_type": "stream",
     "text": [
      "Accuracy for ham class is 96.96652719665272\n",
      "Accuracy for spam class is 92.3076923076923\n"
     ]
    },
    {
     "data": {
      "image/png": "[encoded data removed]",
      "text/plain": [
       "<Figure size 432x288 with 2 Axes>"
      ]
     },
     "metadata": {
      "needs_background": "light"
     },
     "output_type": "display_data"
    }
   ],
   "source": [
    "get_accuracy(nn_model1,sms_test_tfidf,label_test)"
   ]
  },
  {
   "cell_type": "markdown",
   "id": "8ff8d4f0",
   "metadata": {},
   "source": [
    "#### Accuracy of second model on the testing data set"
   ]
  },
  {
   "cell_type": "code",
   "execution_count": 23,
   "id": "c562fb6d",
   "metadata": {},
   "outputs": [
    {
     "name": "stdout",
     "output_type": "stream",
     "text": [
      "Accuracy for ham class is 97.59414225941423\n",
      "Accuracy for spam class is 91.66666666666667\n"
     ]
    },
    {
     "data": {
      "image/png": "[encoded data removed]",
      "text/plain": [
       "<Figure size 432x288 with 2 Axes>"
      ]
     },
     "metadata": {
      "needs_background": "light"
     },
     "output_type": "display_data"
    }
   ],
   "source": [
    "get_accuracy(nn_model2,sms_test_tfidf,label_test)"
   ]
  },
  {
   "cell_type": "markdown",
   "id": "0f1af7a3",
   "metadata": {},
   "source": [
    "#### Accuracy of Third model on the testing data set"
   ]
  },
  {
   "cell_type": "code",
   "execution_count": 22,
   "id": "4a1041d6",
   "metadata": {},
   "outputs": [
    {
     "name": "stdout",
     "output_type": "stream",
     "text": [
      "Accuracy for ham class is 98.11715481171548\n",
      "Accuracy for spam class is 91.02564102564102\n"
     ]
    },
    {
     "data": {
      "image/png": "[encoded data removed]",
      "text/plain": [
       "<Figure size 432x288 with 2 Axes>"
      ]
     },
     "metadata": {
      "needs_background": "light"
     },
     "output_type": "display_data"
    }
   ],
   "source": [
    "get_accuracy(nn_model3,sms_test_tfidf,label_test)"
   ]
  },
  {
   "cell_type": "markdown",
   "id": "ece03c25",
   "metadata": {},
   "source": [
    "### Extracting weights from the model"
   ]
  },
  {
   "cell_type": "code",
   "execution_count": 29,
   "id": "af83982b",
   "metadata": {},
   "outputs": [
    {
     "name": "stdout",
     "output_type": "stream",
     "text": [
      "Model1 with one hidden layer with 50 nodes\n",
      "2\n",
      "weights between input layer and hidden layer (708, 50)\n",
      "weights between hidden layer and output layer (50, 1)\n",
      "biases for nn model 1 \n",
      "2\n",
      "biases to hidden layer 1 (50,)\n",
      "biases to output layer (1,)\n"
     ]
    }
   ],
   "source": [
    "print(\"Model1 with one hidden layer with 50 nodes\")\n",
    "print(len(nn_model1.coefs_))\n",
    "print(\"weights between input layer and hidden layer\", nn_model1.coefs_[0].shape)\n",
    "print(\"weights between hidden layer and output layer\",nn_model1.coefs_[1].shape)\n",
    "\n",
    "\n",
    "print(\"biases for nn model 1 \")\n",
    "print(len(nn_model1.intercepts_))\n",
    "print(\"biases to hidden layer 1\",nn_model1.intercepts_[0].shape)\n",
    "print(\"biases to output layer\",nn_model1.intercepts_[1].shape)"
   ]
  },
  {
   "cell_type": "markdown",
   "id": "5579088b",
   "metadata": {},
   "source": [
    "* (708,50): number of nodes in input layer and hidden layer are 708 and 50, respectively.\n",
    "* (50,1): number of nodes in hidden layer and output layer are 50, and 1, respectively."
   ]
  },
  {
   "cell_type": "code",
   "execution_count": 31,
   "id": "99fec133",
   "metadata": {},
   "outputs": [
    {
     "name": "stdout",
     "output_type": "stream",
     "text": [
      "Model2 with two hidden layers with 50 nodes\n",
      "3\n",
      "weights between input layer and hidden layer1 (708, 50)\n",
      "weights between hidden layer1 and hidden layer2 (50, 50)\n",
      "weights between hidden layer2 and output layer (50, 1)\n",
      "biases for nn model 2 \n",
      "3\n",
      "biases to hidden layer 1 (50,)\n",
      "biases to hidden layer 2 (50,)\n",
      "biases to output layer (1,)\n"
     ]
    }
   ],
   "source": [
    "print(\"Model2 with two hidden layers with 50 nodes\")\n",
    "print(len(nn_model2.coefs_))\n",
    "print(\"weights between input layer and hidden layer1\", nn_model2.coefs_[0].shape)\n",
    "print(\"weights between hidden layer1 and hidden layer2\",nn_model2.coefs_[1].shape)\n",
    "print(\"weights between hidden layer2 and output layer\",nn_model2.coefs_[2].shape)\n",
    "\n",
    "\n",
    "print(\"biases for nn model 2 \")\n",
    "print(len(nn_model2.intercepts_))\n",
    "print(\"biases to hidden layer 1\",nn_model2.intercepts_[0].shape)\n",
    "print(\"biases to hidden layer 2\",nn_model2.intercepts_[1].shape)\n",
    "print(\"biases to output layer\",nn_model2.intercepts_[2].shape)"
   ]
  },
  {
   "cell_type": "code",
   "execution_count": 32,
   "id": "60d8f374",
   "metadata": {},
   "outputs": [
    {
     "name": "stdout",
     "output_type": "stream",
     "text": [
      "Model3 with three hidden layers with 50 nodes\n",
      "4\n",
      "weights between input layer and hidden layer1 (708, 50)\n",
      "weights between hidden layer1 and hidden layer2 (50, 50)\n",
      "weights between hidden layer2 and output layer3 (50, 50)\n",
      "weights between hidden layer3 and output layer (50, 1)\n",
      "biases for nn model 3 \n",
      "4\n",
      "biases to hidden layer 1 (50,)\n",
      "biases to hidden layer 2 (50,)\n",
      "biases to hidden layer 3 (50,)\n",
      "biases to output layer (1,)\n"
     ]
    }
   ],
   "source": [
    "print(\"Model3 with three hidden layers with 50 nodes\")\n",
    "print(len(nn_model3.coefs_))\n",
    "print(\"weights between input layer and hidden layer1\", nn_model3.coefs_[0].shape)\n",
    "print(\"weights between hidden layer1 and hidden layer2\",nn_model3.coefs_[1].shape)\n",
    "print(\"weights between hidden layer2 and output layer3\",nn_model3.coefs_[2].shape)\n",
    "print(\"weights between hidden layer3 and output layer\",nn_model3.coefs_[3].shape)\n",
    "\n",
    "print(\"biases for nn model 3 \")\n",
    "\n",
    "print(len(nn_model3.intercepts_))\n",
    "print(\"biases to hidden layer 1\",nn_model3.intercepts_[0].shape)\n",
    "print(\"biases to hidden layer 2\",nn_model3.intercepts_[1].shape)\n",
    "print(\"biases to hidden layer 3\",nn_model3.intercepts_[2].shape)\n",
    "print(\"biases to output layer\",nn_model3.intercepts_[3].shape)"
   ]
  },
  {
   "cell_type": "markdown",
   "id": "49347f57",
   "metadata": {},
   "source": [
    "### Predicted class labels"
   ]
  },
  {
   "cell_type": "code",
   "execution_count": 33,
   "id": "1311e109",
   "metadata": {},
   "outputs": [
    {
     "data": {
      "text/plain": [
       "array(['ham', 'ham', 'spam', ..., 'ham', 'ham', 'spam'], dtype='<U4')"
      ]
     },
     "execution_count": 33,
     "metadata": {},
     "output_type": "execute_result"
    }
   ],
   "source": [
    "predictions = nn_model1.predict(sms_test_tfidf)\n",
    "predictions"
   ]
  },
  {
   "cell_type": "markdown",
   "id": "758951ab",
   "metadata": {},
   "source": [
    "### Predicted class labels probabilities"
   ]
  },
  {
   "cell_type": "code",
   "execution_count": 34,
   "id": "7945d4e0",
   "metadata": {},
   "outputs": [
    {
     "data": {
      "text/plain": [
       "array([[6.07470193e-01, 3.92529807e-01],\n",
       "       [9.91083575e-01, 8.91642535e-03],\n",
       "       [6.98762745e-02, 9.30123725e-01],\n",
       "       ...,\n",
       "       [9.70367607e-01, 2.96323932e-02],\n",
       "       [9.76216728e-01, 2.37832717e-02],\n",
       "       [4.04709745e-04, 9.99595290e-01]])"
      ]
     },
     "execution_count": 34,
     "metadata": {},
     "output_type": "execute_result"
    }
   ],
   "source": [
    "predictions_prob = nn_model1.predict_proba(sms_test_tfidf)\n",
    "predictions_prob"
   ]
  },
  {
   "cell_type": "code",
   "execution_count": null,
   "id": "0f2a1886",
   "metadata": {},
   "outputs": [],
   "source": [
    "import math\n",
    "w1=-0.0124\n",
    "w2=-0.001\n",
    "w3=-1.148\n",
    "w4=0.941\n",
    "w5=-0.773\n",
    "w6=0.102\n",
    "\n",
    "#hidden layer outputs\n",
    "h1out=max(0,w1*x + w3*y)\n",
    "h2out=max(0,w2*x + w4*y)\n",
    "\n",
    "#output layer\n",
    "p=math.exp(w5*h1out + w6*h2out)/(1+math.exp(w5*h1out + w6*h2out))\n",
    "print(p)"
   ]
  },
  {
   "cell_type": "code",
   "execution_count": null,
   "id": "1c9ef844",
   "metadata": {},
   "outputs": [],
   "source": []
  }
 ],
 "metadata": {
  "kernelspec": {
   "display_name": "Python 3 (ipykernel)",
   "language": "python",
   "name": "python3"
  },
  "language_info": {
   "codemirror_mode": {
    "name": "ipython",
    "version": 3
   },
   "file_extension": ".py",
   "mimetype": "text/x-python",
   "name": "python",
   "nbconvert_exporter": "python",
   "pygments_lexer": "ipython3",
   "version": "3.9.12"
  }
 },
 "nbformat": 4,
 "nbformat_minor": 5
}
